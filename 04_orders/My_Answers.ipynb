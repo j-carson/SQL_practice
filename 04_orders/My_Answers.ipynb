{
 "cells": [
  {
   "cell_type": "markdown",
   "metadata": {},
   "source": [
    "# Randomly generated order table\n",
    "\n",
    "The name of the database for this exercise is ` ex_orders_random`\n",
    "\n",
    "This example is randomly generated, with the help of the Faker package to generate realistic names for people and products. Because it is randomly generated, do not expect to see:\n",
    "\n",
    "* Normal trading patterns: I did not program a \"spike\" at Christmas or Black Friday\n",
    "* Reasonable product names\n",
    "* Reasonable prices. Someone buying 10 handcrafted goat cheese pizzas for $699.00 each could occur in this dataset.\n",
    "\n",
    "Think of these silly prices as fun easter eggs.\n",
    "\n",
    "The script for generating the data has not been included, to ensure that the CSVs are not accidentally overwritten.\n",
    "\n",
    "This is a medium-sized data exercise, meaning that it isn't feasible to do the problems by hand, but not so large that it will stress-test your queries.\n",
    "\n",
    "If you think you have found an error in one of the results, please post a Github Issue.\n",
    "\n",
    "## Tables\n",
    "\n",
    "There are 4 tables in this database:\n",
    "\n",
    "- **customer:** all the details about the customer\n",
    "- **customer_order**: for each order_id, lists the customer, the order date and delivery date. We assume that all items in the same order are delivered on the same day. This would be called `order` except that is a reserved word in PostgreSQL.\n",
    "- **order_product**: Tells us which products, and how many, are in each order\n",
    "- **product**: contains the product_id, name of the product, and price. We assume that the price does not change for a particular product."
   ]
  },
  {
   "cell_type": "code",
   "execution_count": 1,
   "metadata": {},
   "outputs": [
    {
     "data": {
      "text/plain": [
       "'Connected: @ex_orders_random'"
      ]
     },
     "execution_count": 1,
     "metadata": {},
     "output_type": "execute_result"
    }
   ],
   "source": [
    "%load_ext sql\n",
    "%sql postgresql://localhost/ex_orders_random"
   ]
  },
  {
   "cell_type": "markdown",
   "metadata": {},
   "source": [
    "1. **List the 10 most expensive products for sale, and their prices**"
   ]
  },
  {
   "cell_type": "code",
   "execution_count": 2,
   "metadata": {},
   "outputs": [
    {
     "name": "stdout",
     "output_type": "stream",
     "text": [
      " * postgresql://localhost/ex_orders_random\n",
      "10 rows affected.\n"
     ]
    },
    {
     "data": {
      "text/html": [
       "<table>\n",
       "    <tr>\n",
       "        <th>product_id</th>\n",
       "        <th>product_name</th>\n",
       "        <th>price</th>\n",
       "    </tr>\n",
       "    <tr>\n",
       "        <td>8028</td>\n",
       "        <td>Incredible Granite Keyboard</td>\n",
       "        <td>115.0</td>\n",
       "    </tr>\n",
       "    <tr>\n",
       "        <td>8112</td>\n",
       "        <td>Ergonomic Concrete Cheese</td>\n",
       "        <td>114.0</td>\n",
       "    </tr>\n",
       "    <tr>\n",
       "        <td>8002</td>\n",
       "        <td>Ergonomic Granite Soap</td>\n",
       "        <td>113.0</td>\n",
       "    </tr>\n",
       "    <tr>\n",
       "        <td>8009</td>\n",
       "        <td>Generic Metal Hat</td>\n",
       "        <td>113.0</td>\n",
       "    </tr>\n",
       "    <tr>\n",
       "        <td>8091</td>\n",
       "        <td>Sleek Frozen Shirt</td>\n",
       "        <td>113.0</td>\n",
       "    </tr>\n",
       "    <tr>\n",
       "        <td>8134</td>\n",
       "        <td>Fantastic Steel Towels</td>\n",
       "        <td>113.0</td>\n",
       "    </tr>\n",
       "    <tr>\n",
       "        <td>8035</td>\n",
       "        <td>Generic Concrete Soap</td>\n",
       "        <td>113.0</td>\n",
       "    </tr>\n",
       "    <tr>\n",
       "        <td>8130</td>\n",
       "        <td>Small Metal Bike</td>\n",
       "        <td>112.0</td>\n",
       "    </tr>\n",
       "    <tr>\n",
       "        <td>8057</td>\n",
       "        <td>Awesome Metal Salad</td>\n",
       "        <td>111.0</td>\n",
       "    </tr>\n",
       "    <tr>\n",
       "        <td>8051</td>\n",
       "        <td>Handcrafted Frozen Pants</td>\n",
       "        <td>110.0</td>\n",
       "    </tr>\n",
       "</table>"
      ],
      "text/plain": [
       "[(8028, 'Incredible Granite Keyboard', 115.0),\n",
       " (8112, 'Ergonomic Concrete Cheese', 114.0),\n",
       " (8002, 'Ergonomic Granite Soap', 113.0),\n",
       " (8009, 'Generic Metal Hat', 113.0),\n",
       " (8091, 'Sleek Frozen Shirt', 113.0),\n",
       " (8134, 'Fantastic Steel Towels', 113.0),\n",
       " (8035, 'Generic Concrete Soap', 113.0),\n",
       " (8130, 'Small Metal Bike', 112.0),\n",
       " (8057, 'Awesome Metal Salad', 111.0),\n",
       " (8051, 'Handcrafted Frozen Pants', 110.0)]"
      ]
     },
     "execution_count": 2,
     "metadata": {},
     "output_type": "execute_result"
    }
   ],
   "source": [
    "%%sql\n",
    "SELECT \n",
    "    *\n",
    "FROM \n",
    "    product\n",
    "ORDER BY \n",
    "    price DESC\n",
    "LIMIT\n",
    "    10;"
   ]
  },
  {
   "cell_type": "markdown",
   "metadata": {},
   "source": [
    "2. **Which states have  more than 5 customers? Use the state column on the `customer` table. Count each customer on the table, regardless of whether they have ever bought anything.**"
   ]
  },
  {
   "cell_type": "code",
   "execution_count": 3,
   "metadata": {},
   "outputs": [
    {
     "name": "stdout",
     "output_type": "stream",
     "text": [
      " * postgresql://localhost/ex_orders_random\n",
      "7 rows affected.\n"
     ]
    },
    {
     "data": {
      "text/html": [
       "<table>\n",
       "    <tr>\n",
       "        <th>state</th>\n",
       "        <th>num_customers</th>\n",
       "    </tr>\n",
       "    <tr>\n",
       "        <td>AL</td>\n",
       "        <td>9</td>\n",
       "    </tr>\n",
       "    <tr>\n",
       "        <td>WY</td>\n",
       "        <td>8</td>\n",
       "    </tr>\n",
       "    <tr>\n",
       "        <td>IL</td>\n",
       "        <td>7</td>\n",
       "    </tr>\n",
       "    <tr>\n",
       "        <td>WV</td>\n",
       "        <td>7</td>\n",
       "    </tr>\n",
       "    <tr>\n",
       "        <td>ME</td>\n",
       "        <td>6</td>\n",
       "    </tr>\n",
       "    <tr>\n",
       "        <td>FL</td>\n",
       "        <td>6</td>\n",
       "    </tr>\n",
       "    <tr>\n",
       "        <td>MS</td>\n",
       "        <td>6</td>\n",
       "    </tr>\n",
       "</table>"
      ],
      "text/plain": [
       "[('AL', 9), ('WY', 8), ('IL', 7), ('WV', 7), ('ME', 6), ('FL', 6), ('MS', 6)]"
      ]
     },
     "execution_count": 3,
     "metadata": {},
     "output_type": "execute_result"
    }
   ],
   "source": [
    "%%sql\n",
    "SELECT\n",
    "    state, count(state) as num_customers\n",
    "FROM\n",
    "    customer\n",
    "GROUP BY\n",
    "    state\n",
    "HAVING\n",
    "    count(state) > 5\n",
    "ORDER BY \n",
    "    num_customers DESC\n",
    ";"
   ]
  },
  {
   "cell_type": "markdown",
   "metadata": {},
   "source": [
    "3. **Get the 17 customers that have made the largest number of orders. Include the name, address, state, and number of orders made.**"
   ]
  },
  {
   "cell_type": "code",
   "execution_count": 4,
   "metadata": {},
   "outputs": [
    {
     "name": "stdout",
     "output_type": "stream",
     "text": [
      " * postgresql://localhost/ex_orders_random\n",
      "17 rows affected.\n"
     ]
    },
    {
     "data": {
      "text/html": [
       "<table>\n",
       "    <tr>\n",
       "        <th>name</th>\n",
       "        <th>address</th>\n",
       "        <th>state</th>\n",
       "        <th>num_orders</th>\n",
       "    </tr>\n",
       "    <tr>\n",
       "        <td>Joseph Ponce</td>\n",
       "        <td>93874 Esparza Mountain</td>\n",
       "        <td>KS</td>\n",
       "        <td>19</td>\n",
       "    </tr>\n",
       "    <tr>\n",
       "        <td>Andrew Fischer</td>\n",
       "        <td>7764 Brown Divide</td>\n",
       "        <td>ME</td>\n",
       "        <td>18</td>\n",
       "    </tr>\n",
       "    <tr>\n",
       "        <td>Sabrina Foster</td>\n",
       "        <td>5075 Mullins Drive Apt. 298</td>\n",
       "        <td>MD</td>\n",
       "        <td>17</td>\n",
       "    </tr>\n",
       "    <tr>\n",
       "        <td>George Davis MD</td>\n",
       "        <td>439 Chan Route</td>\n",
       "        <td>IL</td>\n",
       "        <td>16</td>\n",
       "    </tr>\n",
       "    <tr>\n",
       "        <td>Benjamin Brown</td>\n",
       "        <td>598 Moore Ports</td>\n",
       "        <td>TN</td>\n",
       "        <td>16</td>\n",
       "    </tr>\n",
       "    <tr>\n",
       "        <td>Edgar Perry</td>\n",
       "        <td>333 Jenna Bridge</td>\n",
       "        <td>AL</td>\n",
       "        <td>15</td>\n",
       "    </tr>\n",
       "    <tr>\n",
       "        <td>Eric Erickson</td>\n",
       "        <td>7751 Clark Lane</td>\n",
       "        <td>VA</td>\n",
       "        <td>15</td>\n",
       "    </tr>\n",
       "    <tr>\n",
       "        <td>Emily Fritz</td>\n",
       "        <td>918 Renee Lights</td>\n",
       "        <td>AL</td>\n",
       "        <td>15</td>\n",
       "    </tr>\n",
       "    <tr>\n",
       "        <td>Johnathan Charles</td>\n",
       "        <td>22678 Hartman Mission</td>\n",
       "        <td>HI</td>\n",
       "        <td>15</td>\n",
       "    </tr>\n",
       "    <tr>\n",
       "        <td>Beth Rivera</td>\n",
       "        <td>7813 Ingram Junction Apt. 318</td>\n",
       "        <td>AK</td>\n",
       "        <td>15</td>\n",
       "    </tr>\n",
       "    <tr>\n",
       "        <td>Kimberly Palmer</td>\n",
       "        <td>09293 Burnett Path Suite 681</td>\n",
       "        <td>NV</td>\n",
       "        <td>15</td>\n",
       "    </tr>\n",
       "    <tr>\n",
       "        <td>Michelle Wright</td>\n",
       "        <td>565 Manuel Road Suite 343</td>\n",
       "        <td>IN</td>\n",
       "        <td>15</td>\n",
       "    </tr>\n",
       "    <tr>\n",
       "        <td>Michelle Austin</td>\n",
       "        <td>856 Mills Lakes</td>\n",
       "        <td>MI</td>\n",
       "        <td>15</td>\n",
       "    </tr>\n",
       "    <tr>\n",
       "        <td>Crystal Hayden</td>\n",
       "        <td>486 Traci Roads</td>\n",
       "        <td>WI</td>\n",
       "        <td>15</td>\n",
       "    </tr>\n",
       "    <tr>\n",
       "        <td>Jessica Burke</td>\n",
       "        <td>68160 Amanda Pike</td>\n",
       "        <td>NM</td>\n",
       "        <td>15</td>\n",
       "    </tr>\n",
       "    <tr>\n",
       "        <td>Sarah Ortiz</td>\n",
       "        <td>8972 Rodriguez Vista Suite 102</td>\n",
       "        <td>AL</td>\n",
       "        <td>15</td>\n",
       "    </tr>\n",
       "    <tr>\n",
       "        <td>Emily Nelson</td>\n",
       "        <td>56388 Rivera Neck Apt. 883</td>\n",
       "        <td>OK</td>\n",
       "        <td>15</td>\n",
       "    </tr>\n",
       "</table>"
      ],
      "text/plain": [
       "[('Joseph Ponce', '93874 Esparza Mountain', 'KS', 19),\n",
       " ('Andrew Fischer', '7764 Brown Divide', 'ME', 18),\n",
       " ('Sabrina Foster', '5075 Mullins Drive Apt. 298', 'MD', 17),\n",
       " ('George Davis MD', '439 Chan Route', 'IL', 16),\n",
       " ('Benjamin Brown', '598 Moore Ports', 'TN', 16),\n",
       " ('Edgar Perry', '333 Jenna Bridge', 'AL', 15),\n",
       " ('Eric Erickson', '7751 Clark Lane', 'VA', 15),\n",
       " ('Emily Fritz', '918 Renee Lights', 'AL', 15),\n",
       " ('Johnathan Charles', '22678 Hartman Mission', 'HI', 15),\n",
       " ('Beth Rivera', '7813 Ingram Junction Apt. 318', 'AK', 15),\n",
       " ('Kimberly Palmer', '09293 Burnett Path Suite 681', 'NV', 15),\n",
       " ('Michelle Wright', '565 Manuel Road Suite 343', 'IN', 15),\n",
       " ('Michelle Austin', '856 Mills Lakes', 'MI', 15),\n",
       " ('Crystal Hayden', '486 Traci Roads', 'WI', 15),\n",
       " ('Jessica Burke', '68160 Amanda Pike', 'NM', 15),\n",
       " ('Sarah Ortiz', '8972 Rodriguez Vista Suite 102', 'AL', 15),\n",
       " ('Emily Nelson', '56388 Rivera Neck Apt. 883', 'OK', 15)]"
      ]
     },
     "execution_count": 4,
     "metadata": {},
     "output_type": "execute_result"
    }
   ],
   "source": [
    "%%sql\n",
    "WITH top_orders AS (\n",
    "    SELECT\n",
    "        customer_id\n",
    "        ,COUNT(order_id) AS num_orders\n",
    "    FROM\n",
    "        customer_order\n",
    "    GROUP BY \n",
    "        customer_id\n",
    "    ORDER BY \n",
    "        count(order_id) DESC\n",
    "    LIMIT\n",
    "        17\n",
    ")\n",
    "SELECT \n",
    "    name\n",
    "    ,address\n",
    "    ,state\n",
    "    ,num_orders\n",
    "FROM\n",
    "        top_orders\n",
    "    LEFT JOIN\n",
    "        customer\n",
    "    ON \n",
    "        top_orders.customer_id = customer.customer_id\n",
    "ORDER BY \n",
    "    num_orders DESC\n",
    ";        "
   ]
  },
  {
   "cell_type": "markdown",
   "metadata": {},
   "source": [
    "4. **Get all orders by customer 1026. Include the amount spent in each order, the order id, and the total number of distinct products purchased.**"
   ]
  },
  {
   "cell_type": "code",
   "execution_count": 5,
   "metadata": {},
   "outputs": [
    {
     "name": "stdout",
     "output_type": "stream",
     "text": [
      " * postgresql://localhost/ex_orders_random\n",
      "7 rows affected.\n"
     ]
    },
    {
     "data": {
      "text/html": [
       "<table>\n",
       "    <tr>\n",
       "        <th>order_id</th>\n",
       "        <th>num_products</th>\n",
       "        <th>total</th>\n",
       "    </tr>\n",
       "    <tr>\n",
       "        <td>59</td>\n",
       "        <td>5</td>\n",
       "        <td>1086.0</td>\n",
       "    </tr>\n",
       "    <tr>\n",
       "        <td>274</td>\n",
       "        <td>4</td>\n",
       "        <td>912.0</td>\n",
       "    </tr>\n",
       "    <tr>\n",
       "        <td>387</td>\n",
       "        <td>1</td>\n",
       "        <td>190.0</td>\n",
       "    </tr>\n",
       "    <tr>\n",
       "        <td>622</td>\n",
       "        <td>2</td>\n",
       "        <td>1148.0</td>\n",
       "    </tr>\n",
       "    <tr>\n",
       "        <td>844</td>\n",
       "        <td>1</td>\n",
       "        <td>870.0</td>\n",
       "    </tr>\n",
       "    <tr>\n",
       "        <td>1795</td>\n",
       "        <td>2</td>\n",
       "        <td>317.0</td>\n",
       "    </tr>\n",
       "    <tr>\n",
       "        <td>1992</td>\n",
       "        <td>1</td>\n",
       "        <td>285.0</td>\n",
       "    </tr>\n",
       "</table>"
      ],
      "text/plain": [
       "[(59, 5, 1086.0),\n",
       " (274, 4, 912.0),\n",
       " (387, 1, 190.0),\n",
       " (622, 2, 1148.0),\n",
       " (844, 1, 870.0),\n",
       " (1795, 2, 317.0),\n",
       " (1992, 1, 285.0)]"
      ]
     },
     "execution_count": 5,
     "metadata": {},
     "output_type": "execute_result"
    }
   ],
   "source": [
    "%%sql\n",
    "WITH \n",
    "order_contents AS (\n",
    "    SELECT \n",
    "        order_id,\n",
    "        product.product_id,\n",
    "        price,\n",
    "        qty * price AS subtotal\n",
    "    FROM\n",
    "            order_product \n",
    "        JOIN\n",
    "            product\n",
    "        ON\n",
    "            order_product.product_id = product.product_id\n",
    "    WHERE\n",
    "        order_id IN (\n",
    "            SELECT order_id \n",
    "            FROM customer_order\n",
    "            WHERE customer_id = 1026\n",
    "        )\n",
    ")\n",
    "SELECT \n",
    "    order_id\n",
    "    ,count(product_id) num_products\n",
    "    ,sum(subtotal) total\n",
    "FROM\n",
    "    order_contents\n",
    "GROUP BY \n",
    "    order_id\n",
    "ORDER BY\n",
    "    order_id\n",
    ";"
   ]
  },
  {
   "cell_type": "markdown",
   "metadata": {},
   "source": [
    "5. **Get the 10 customers that have spent the most. Give the customer_id and amount spent**"
   ]
  },
  {
   "cell_type": "code",
   "execution_count": 6,
   "metadata": {},
   "outputs": [
    {
     "name": "stdout",
     "output_type": "stream",
     "text": [
      " * postgresql://localhost/ex_orders_random\n",
      "10 rows affected.\n"
     ]
    },
    {
     "data": {
      "text/html": [
       "<table>\n",
       "    <tr>\n",
       "        <th>customer_id</th>\n",
       "        <th>total</th>\n",
       "    </tr>\n",
       "    <tr>\n",
       "        <td>1087</td>\n",
       "        <td>22632.0</td>\n",
       "    </tr>\n",
       "    <tr>\n",
       "        <td>1178</td>\n",
       "        <td>21972.0</td>\n",
       "    </tr>\n",
       "    <tr>\n",
       "        <td>1013</td>\n",
       "        <td>20568.0</td>\n",
       "    </tr>\n",
       "    <tr>\n",
       "        <td>1139</td>\n",
       "        <td>19881.0</td>\n",
       "    </tr>\n",
       "    <tr>\n",
       "        <td>1153</td>\n",
       "        <td>19791.0</td>\n",
       "    </tr>\n",
       "    <tr>\n",
       "        <td>1106</td>\n",
       "        <td>19182.0</td>\n",
       "    </tr>\n",
       "    <tr>\n",
       "        <td>1140</td>\n",
       "        <td>18979.0</td>\n",
       "    </tr>\n",
       "    <tr>\n",
       "        <td>1042</td>\n",
       "        <td>18091.0</td>\n",
       "    </tr>\n",
       "    <tr>\n",
       "        <td>1190</td>\n",
       "        <td>17990.0</td>\n",
       "    </tr>\n",
       "    <tr>\n",
       "        <td>1029</td>\n",
       "        <td>17958.0</td>\n",
       "    </tr>\n",
       "</table>"
      ],
      "text/plain": [
       "[(1087, 22632.0),\n",
       " (1178, 21972.0),\n",
       " (1013, 20568.0),\n",
       " (1139, 19881.0),\n",
       " (1153, 19791.0),\n",
       " (1106, 19182.0),\n",
       " (1140, 18979.0),\n",
       " (1042, 18091.0),\n",
       " (1190, 17990.0),\n",
       " (1029, 17958.0)]"
      ]
     },
     "execution_count": 6,
     "metadata": {},
     "output_type": "execute_result"
    }
   ],
   "source": [
    "%%sql\n",
    "SELECT \n",
    "    co.customer_id\n",
    "    ,sum(qty * price) as total\n",
    "FROM\n",
    "        customer_order co\n",
    "    JOIN\n",
    "        order_product op\n",
    "    ON\n",
    "        co.order_id = op.order_id\n",
    "    JOIN\n",
    "        product p\n",
    "    ON\n",
    "        p.product_id = op.product_id\n",
    "    \n",
    "GROUP BY\n",
    "    co.customer_id\n",
    "ORDER BY \n",
    "    sum(qty * price) DESC\n",
    "LIMIT 10"
   ]
  },
  {
   "cell_type": "markdown",
   "metadata": {},
   "source": [
    "6. **Repeat the previous question, but include the customer's name, address, and state, in addition to the customer id and total amount spent**"
   ]
  },
  {
   "cell_type": "code",
   "execution_count": 7,
   "metadata": {},
   "outputs": [
    {
     "name": "stdout",
     "output_type": "stream",
     "text": [
      " * postgresql://localhost/ex_orders_random\n",
      "10 rows affected.\n"
     ]
    },
    {
     "data": {
      "text/html": [
       "<table>\n",
       "    <tr>\n",
       "        <th>customer_id</th>\n",
       "        <th>total</th>\n",
       "        <th>name</th>\n",
       "        <th>address</th>\n",
       "        <th>state</th>\n",
       "    </tr>\n",
       "    <tr>\n",
       "        <td>1087</td>\n",
       "        <td>22632.0</td>\n",
       "        <td>Allison Hoffman</td>\n",
       "        <td>55218 Lam Key</td>\n",
       "        <td>KY</td>\n",
       "    </tr>\n",
       "    <tr>\n",
       "        <td>1178</td>\n",
       "        <td>21972.0</td>\n",
       "        <td>Jacqueline Frazier</td>\n",
       "        <td>85471 Davis Viaduct Suite 294</td>\n",
       "        <td>AK</td>\n",
       "    </tr>\n",
       "    <tr>\n",
       "        <td>1013</td>\n",
       "        <td>20568.0</td>\n",
       "        <td>Timothy Robertson</td>\n",
       "        <td>72067 Bridget Loaf Apt. 580</td>\n",
       "        <td>PA</td>\n",
       "    </tr>\n",
       "    <tr>\n",
       "        <td>1139</td>\n",
       "        <td>19881.0</td>\n",
       "        <td>Joseph Ponce</td>\n",
       "        <td>93874 Esparza Mountain</td>\n",
       "        <td>KS</td>\n",
       "    </tr>\n",
       "    <tr>\n",
       "        <td>1153</td>\n",
       "        <td>19791.0</td>\n",
       "        <td>Johnathan Charles</td>\n",
       "        <td>22678 Hartman Mission</td>\n",
       "        <td>HI</td>\n",
       "    </tr>\n",
       "    <tr>\n",
       "        <td>1106</td>\n",
       "        <td>19182.0</td>\n",
       "        <td>Andrew Fischer</td>\n",
       "        <td>7764 Brown Divide</td>\n",
       "        <td>ME</td>\n",
       "    </tr>\n",
       "    <tr>\n",
       "        <td>1140</td>\n",
       "        <td>18979.0</td>\n",
       "        <td>Jennifer Blake</td>\n",
       "        <td>9201 Andrea Courts Apt. 332</td>\n",
       "        <td>MI</td>\n",
       "    </tr>\n",
       "    <tr>\n",
       "        <td>1042</td>\n",
       "        <td>18091.0</td>\n",
       "        <td>Jessica Burke</td>\n",
       "        <td>68160 Amanda Pike</td>\n",
       "        <td>NM</td>\n",
       "    </tr>\n",
       "    <tr>\n",
       "        <td>1190</td>\n",
       "        <td>17990.0</td>\n",
       "        <td>Michelle Austin</td>\n",
       "        <td>856 Mills Lakes</td>\n",
       "        <td>MI</td>\n",
       "    </tr>\n",
       "    <tr>\n",
       "        <td>1029</td>\n",
       "        <td>17958.0</td>\n",
       "        <td>Jordan Rose</td>\n",
       "        <td>0537 Joel Ferry</td>\n",
       "        <td>MT</td>\n",
       "    </tr>\n",
       "</table>"
      ],
      "text/plain": [
       "[(1087, 22632.0, 'Allison Hoffman', '55218 Lam Key', 'KY'),\n",
       " (1178, 21972.0, 'Jacqueline Frazier', '85471 Davis Viaduct Suite 294', 'AK'),\n",
       " (1013, 20568.0, 'Timothy Robertson', '72067 Bridget Loaf Apt. 580', 'PA'),\n",
       " (1139, 19881.0, 'Joseph Ponce', '93874 Esparza Mountain', 'KS'),\n",
       " (1153, 19791.0, 'Johnathan Charles', '22678 Hartman Mission', 'HI'),\n",
       " (1106, 19182.0, 'Andrew Fischer', '7764 Brown Divide', 'ME'),\n",
       " (1140, 18979.0, 'Jennifer Blake', '9201 Andrea Courts Apt. 332', 'MI'),\n",
       " (1042, 18091.0, 'Jessica Burke', '68160 Amanda Pike', 'NM'),\n",
       " (1190, 17990.0, 'Michelle Austin', '856 Mills Lakes', 'MI'),\n",
       " (1029, 17958.0, 'Jordan Rose', '0537 Joel Ferry', 'MT')]"
      ]
     },
     "execution_count": 7,
     "metadata": {},
     "output_type": "execute_result"
    }
   ],
   "source": [
    "%%sql\n",
    "WITH previous_result AS ( \n",
    "    SELECT \n",
    "        co.customer_id\n",
    "        ,sum(qty * price) as total\n",
    "    FROM\n",
    "            customer_order co\n",
    "        JOIN\n",
    "            order_product op\n",
    "        ON\n",
    "            co.order_id = op.order_id\n",
    "        JOIN\n",
    "            product p\n",
    "        ON\n",
    "            p.product_id = op.product_id\n",
    "    \n",
    "    GROUP BY\n",
    "        co.customer_id\n",
    "    ORDER BY \n",
    "        sum(qty * price) DESC\n",
    "    LIMIT 10\n",
    ")\n",
    "SELECT \n",
    "    pr.*\n",
    "    ,name\n",
    "    ,address\n",
    "    ,state\n",
    "FROM\n",
    "        previous_result pr\n",
    "    LEFT JOIN\n",
    "        customer c\n",
    "    ON\n",
    "        pr.customer_id = c.customer_id\n",
    "ORDER BY \n",
    "    total DESC"
   ]
  },
  {
   "cell_type": "markdown",
   "metadata": {},
   "source": [
    "7. **Find the 10 customers that spent the most in 2017. Give the name and amount spent. Take the date to be the order date (not the delivery date)**"
   ]
  },
  {
   "cell_type": "code",
   "execution_count": 8,
   "metadata": {},
   "outputs": [
    {
     "name": "stdout",
     "output_type": "stream",
     "text": [
      " * postgresql://localhost/ex_orders_random\n",
      "10 rows affected.\n"
     ]
    },
    {
     "data": {
      "text/html": [
       "<table>\n",
       "    <tr>\n",
       "        <th>customer_id</th>\n",
       "        <th>name</th>\n",
       "        <th>total</th>\n",
       "    </tr>\n",
       "    <tr>\n",
       "        <td>1120</td>\n",
       "        <td>Sabrina Foster</td>\n",
       "        <td>14986.0</td>\n",
       "    </tr>\n",
       "    <tr>\n",
       "        <td>1115</td>\n",
       "        <td>Emily Nelson</td>\n",
       "        <td>13480.0</td>\n",
       "    </tr>\n",
       "    <tr>\n",
       "        <td>1014</td>\n",
       "        <td>Timothy Marks</td>\n",
       "        <td>13266.0</td>\n",
       "    </tr>\n",
       "    <tr>\n",
       "        <td>1087</td>\n",
       "        <td>Allison Hoffman</td>\n",
       "        <td>11928.0</td>\n",
       "    </tr>\n",
       "    <tr>\n",
       "        <td>1181</td>\n",
       "        <td>Jeanne Casey</td>\n",
       "        <td>11789.0</td>\n",
       "    </tr>\n",
       "    <tr>\n",
       "        <td>1143</td>\n",
       "        <td>Dana Kline</td>\n",
       "        <td>11312.0</td>\n",
       "    </tr>\n",
       "    <tr>\n",
       "        <td>1103</td>\n",
       "        <td>Kristen Davies</td>\n",
       "        <td>11125.0</td>\n",
       "    </tr>\n",
       "    <tr>\n",
       "        <td>1106</td>\n",
       "        <td>Andrew Fischer</td>\n",
       "        <td>10659.0</td>\n",
       "    </tr>\n",
       "    <tr>\n",
       "        <td>1135</td>\n",
       "        <td>Emily Fritz</td>\n",
       "        <td>10628.0</td>\n",
       "    </tr>\n",
       "    <tr>\n",
       "        <td>1139</td>\n",
       "        <td>Joseph Ponce</td>\n",
       "        <td>10439.0</td>\n",
       "    </tr>\n",
       "</table>"
      ],
      "text/plain": [
       "[(1120, 'Sabrina Foster', 14986.0),\n",
       " (1115, 'Emily Nelson', 13480.0),\n",
       " (1014, 'Timothy Marks', 13266.0),\n",
       " (1087, 'Allison Hoffman', 11928.0),\n",
       " (1181, 'Jeanne Casey', 11789.0),\n",
       " (1143, 'Dana Kline', 11312.0),\n",
       " (1103, 'Kristen Davies', 11125.0),\n",
       " (1106, 'Andrew Fischer', 10659.0),\n",
       " (1135, 'Emily Fritz', 10628.0),\n",
       " (1139, 'Joseph Ponce', 10439.0)]"
      ]
     },
     "execution_count": 8,
     "metadata": {},
     "output_type": "execute_result"
    }
   ],
   "source": [
    "%%sql\n",
    "WITH\n",
    "order_amts AS (\n",
    "    SELECT\n",
    "        co.order_id \n",
    "        ,co.customer_id\n",
    "        ,op.product_id\n",
    "        ,op.qty * p.price as subtotal\n",
    "    FROM\n",
    "            customer_order co\n",
    "        JOIN\n",
    "            order_product op\n",
    "        ON\n",
    "            co.order_id = op.order_id\n",
    "        JOIN\n",
    "            product p\n",
    "        ON\n",
    "            op.product_id = p.product_id\n",
    "    WHERE\n",
    "        DATE_PART('year', co.date_ordered)::INT = 2017\n",
    ")\n",
    "SELECT\n",
    "    a.customer_id\n",
    "    ,c.name\n",
    "    ,sum(subtotal) as total\n",
    "FROM\n",
    "        order_amts a\n",
    "    JOIN\n",
    "        customer c\n",
    "    ON\n",
    "        a.customer_id = c.customer_id\n",
    "GROUP BY \n",
    "    a.customer_id, c.name\n",
    "ORDER BY\n",
    "    sum(subtotal) DESC\n",
    "LIMIT\n",
    "    10\n",
    ";"
   ]
  },
  {
   "cell_type": "markdown",
   "metadata": {},
   "source": [
    "8. **Which three products have we sold the most of? i.e. the greatest number of units?**"
   ]
  },
  {
   "cell_type": "code",
   "execution_count": 9,
   "metadata": {},
   "outputs": [
    {
     "name": "stdout",
     "output_type": "stream",
     "text": [
      " * postgresql://localhost/ex_orders_random\n",
      "3 rows affected.\n"
     ]
    },
    {
     "data": {
      "text/html": [
       "<table>\n",
       "    <tr>\n",
       "        <th>product_id</th>\n",
       "        <th>product_name</th>\n",
       "        <th>units_sold</th>\n",
       "    </tr>\n",
       "    <tr>\n",
       "        <td>8020</td>\n",
       "        <td>Ergonomic Concrete Bike</td>\n",
       "        <td>344</td>\n",
       "    </tr>\n",
       "    <tr>\n",
       "        <td>8070</td>\n",
       "        <td>Handmade Metal Sausages</td>\n",
       "        <td>315</td>\n",
       "    </tr>\n",
       "    <tr>\n",
       "        <td>8009</td>\n",
       "        <td>Generic Metal Hat</td>\n",
       "        <td>311</td>\n",
       "    </tr>\n",
       "</table>"
      ],
      "text/plain": [
       "[(8020, 'Ergonomic Concrete Bike', 344),\n",
       " (8070, 'Handmade Metal Sausages', 315),\n",
       " (8009, 'Generic Metal Hat', 311)]"
      ]
     },
     "execution_count": 9,
     "metadata": {},
     "output_type": "execute_result"
    }
   ],
   "source": [
    "%%sql\n",
    "SELECT\n",
    "    o.product_id\n",
    "    ,p.product_name\n",
    "    ,SUM(qty) units_sold\n",
    "FROM\n",
    "        product p\n",
    "    JOIN\n",
    "        order_product o\n",
    "    ON\n",
    "        p.product_id = o.product_id\n",
    "GROUP BY \n",
    "    o.product_id, p.product_name\n",
    "ORDER BY \n",
    "    sum(qty) DESC\n",
    "LIMIT \n",
    "    3\n",
    ";"
   ]
  },
  {
   "cell_type": "markdown",
   "metadata": {},
   "source": [
    "9. **What is the average number of days between order and delivery?**"
   ]
  },
  {
   "cell_type": "code",
   "execution_count": 10,
   "metadata": {},
   "outputs": [
    {
     "name": "stdout",
     "output_type": "stream",
     "text": [
      " * postgresql://localhost/ex_orders_random\n",
      "1 rows affected.\n"
     ]
    },
    {
     "data": {
      "text/html": [
       "<table>\n",
       "    <tr>\n",
       "        <th>avg_deliv_time</th>\n",
       "    </tr>\n",
       "    <tr>\n",
       "        <td>5 days, 21:48:14.400000</td>\n",
       "    </tr>\n",
       "</table>"
      ],
      "text/plain": [
       "[(datetime.timedelta(5, 78494, 400000),)]"
      ]
     },
     "execution_count": 10,
     "metadata": {},
     "output_type": "execute_result"
    }
   ],
   "source": [
    "%%sql\n",
    "SELECT \n",
    "    AVG(date_delivered - date_ordered) AS avg_deliv_time\n",
    "FROM\n",
    "    customer_order"
   ]
  },
  {
   "cell_type": "markdown",
   "metadata": {},
   "source": [
    "10. **What is the average number of days between order and delivery for each year? Take the year from the order date.**"
   ]
  },
  {
   "cell_type": "code",
   "execution_count": 11,
   "metadata": {},
   "outputs": [
    {
     "name": "stdout",
     "output_type": "stream",
     "text": [
      " * postgresql://localhost/ex_orders_random\n",
      "3 rows affected.\n"
     ]
    },
    {
     "data": {
      "text/html": [
       "<table>\n",
       "    <tr>\n",
       "        <th>order_year</th>\n",
       "        <th>avg</th>\n",
       "    </tr>\n",
       "    <tr>\n",
       "        <td>2016</td>\n",
       "        <td>5 days, 19:12:00</td>\n",
       "    </tr>\n",
       "    <tr>\n",
       "        <td>2017</td>\n",
       "        <td>5 days, 21:05:17.025440</td>\n",
       "    </tr>\n",
       "    <tr>\n",
       "        <td>2018</td>\n",
       "        <td>5 days, 23:15:26.732673</td>\n",
       "    </tr>\n",
       "</table>"
      ],
      "text/plain": [
       "[(2016, datetime.timedelta(5, 69120)),\n",
       " (2017, datetime.timedelta(5, 75917, 25440)),\n",
       " (2018, datetime.timedelta(5, 83726, 732673))]"
      ]
     },
     "execution_count": 11,
     "metadata": {},
     "output_type": "execute_result"
    }
   ],
   "source": [
    "%%sql\n",
    "SELECT \n",
    "    DATE_PART('year', date_ordered)::int order_year\n",
    "    ,AVG(date_delivered - date_ordered) \n",
    "FROM\n",
    "    customer_order\n",
    "GROUP BY \n",
    "    DATE_PART('year', date_ordered)::int \n",
    "ORDER BY \n",
    "    DATE_PART('year', date_ordered)::int  ASC"
   ]
  }
 ],
 "metadata": {
  "kernelspec": {
   "display_name": "Python 3",
   "language": "python",
   "name": "python3"
  },
  "language_info": {
   "codemirror_mode": {
    "name": "ipython",
    "version": 3
   },
   "file_extension": ".py",
   "mimetype": "text/x-python",
   "name": "python",
   "nbconvert_exporter": "python",
   "pygments_lexer": "ipython3",
   "version": "3.6.8"
  }
 },
 "nbformat": 4,
 "nbformat_minor": 2
}
