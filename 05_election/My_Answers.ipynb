{
 "cells": [
  {
   "cell_type": "markdown",
   "metadata": {},
   "source": [
    "# Election data\n",
    "\n",
    "The database for these excercises is called `ex_election`.\n",
    "\n",
    "The process for obtaining this data is described in [this blog post](https://kiwidamien.github.io/munging-with-multiindices-election-data.html).\n",
    "\n",
    "This is a copy of presidential election results per state from 1952 to 2016. It is a medium sized dataset (i.e. it is probably difficult to do the queries \"by hand\", but it isn't large enough to stress test your queries).\n",
    "\n",
    "If you think you have found an error in the questions below, please open a Github Issue.\n",
    "\n",
    "## Note on table format\n",
    "\n",
    "Note that some of these questions would be considerably easier if the election data was _tidy_. At the moment, the rows in the election data take the form\n",
    "```\n",
    " state | democrat_votes | republican_votes | other_votes | year \n",
    "-------+----------------+------------------+-------------+------\n",
    " AL    |         275075 |           149231 |           0 | 1952\n",
    " AR    |         226300 |           177155 |           0 | 1952\n",
    " AZ    |         108528 |           152042 |           0 | 1952\n",
    " CA    |        2257646 |          3035587 |           0 | 1952\n",
    "```\n",
    "\n",
    "A tidy dataset would take the form:\n",
    "```\n",
    " state | votes  |   party    | year \n",
    "-------+--------+------------+------\n",
    " AL    |      0 | other      | 1952\n",
    " AL    | 149231 | republican | 1952\n",
    " AL    | 275075 | democrat   | 1952\n",
    " AR    | 177155 | republican | 1952\n",
    " AR    | 226300 | democrat   | 1952\n",
    " AR    |      0 | other      | 1952\n",
    " AZ    | 152042 | republican | 1952\n",
    " AZ    | 108528 | democrat   | 1952\n",
    " AZ    |      0 | other      | 1952\n",
    " CA    |      0 | other      | 1952\n",
    "```\n",
    "\n",
    "Sadly, we don't get to choose the format of the data. However, you could transform the data to look like this using a VIEW (hint: see the UNION command). For reference, the instructions for creating this view are included in this subdirectory, but you should try making it yourself first.\n",
    "\n",
    "It is not required to transform your data this way, but you might find some of the queries easier. "
   ]
  },
  {
   "cell_type": "code",
   "execution_count": 2,
   "metadata": {},
   "outputs": [
    {
     "data": {
      "text/plain": [
       "'Connected: @ex_election'"
      ]
     },
     "execution_count": 2,
     "metadata": {},
     "output_type": "execute_result"
    }
   ],
   "source": [
    "%load_ext sql\n",
    "%sql postgres://localhost/ex_election"
   ]
  },
  {
   "cell_type": "markdown",
   "metadata": {},
   "source": [
    "## Questions\n",
    "\n",
    "1. **How many candidates are in the candidate table for the 2000 election?**"
   ]
  },
  {
   "cell_type": "code",
   "execution_count": 3,
   "metadata": {},
   "outputs": [
    {
     "name": "stdout",
     "output_type": "stream",
     "text": [
      " * postgres://localhost/ex_election\n",
      "1 rows affected.\n"
     ]
    },
    {
     "data": {
      "text/html": [
       "<table>\n",
       "    <tr>\n",
       "        <th>count</th>\n",
       "    </tr>\n",
       "    <tr>\n",
       "        <td>3</td>\n",
       "    </tr>\n",
       "</table>"
      ],
      "text/plain": [
       "[(3,)]"
      ]
     },
     "execution_count": 3,
     "metadata": {},
     "output_type": "execute_result"
    }
   ],
   "source": [
    "%%sql\n",
    "SELECT \n",
    "    count(candidate)\n",
    "FROM\n",
    "    candidate \n",
    "WHERE\n",
    "    year = 2000"
   ]
  },
  {
   "cell_type": "code",
   "execution_count": 4,
   "metadata": {},
   "outputs": [
    {
     "name": "stdout",
     "output_type": "stream",
     "text": [
      " * postgres://localhost/ex_election\n",
      "3 rows affected.\n"
     ]
    },
    {
     "data": {
      "text/html": [
       "<table>\n",
       "    <tr>\n",
       "        <th>candidate</th>\n",
       "    </tr>\n",
       "    <tr>\n",
       "        <td>Gore, Al</td>\n",
       "    </tr>\n",
       "    <tr>\n",
       "        <td>Nader, Ralph</td>\n",
       "    </tr>\n",
       "    <tr>\n",
       "        <td>Bush, George W.</td>\n",
       "    </tr>\n",
       "</table>"
      ],
      "text/plain": [
       "[('Gore, Al',), ('Nader, Ralph',), ('Bush, George W.',)]"
      ]
     },
     "execution_count": 4,
     "metadata": {},
     "output_type": "execute_result"
    }
   ],
   "source": [
    "%%sql \n",
    "SELECT\n",
    "    candidate\n",
    "FROM\n",
    "    candidate \n",
    "WHERE\n",
    "    year = 2000"
   ]
  },
  {
   "cell_type": "markdown",
   "metadata": {},
   "source": [
    "2. **How many candidates are in the candidate table for each election from 1984 to 2016?**"
   ]
  },
  {
   "cell_type": "code",
   "execution_count": 5,
   "metadata": {},
   "outputs": [
    {
     "name": "stdout",
     "output_type": "stream",
     "text": [
      " * postgres://localhost/ex_election\n",
      "9 rows affected.\n"
     ]
    },
    {
     "data": {
      "text/html": [
       "<table>\n",
       "    <tr>\n",
       "        <th>year</th>\n",
       "        <th>count</th>\n",
       "    </tr>\n",
       "    <tr>\n",
       "        <td>1984</td>\n",
       "        <td>2</td>\n",
       "    </tr>\n",
       "    <tr>\n",
       "        <td>1988</td>\n",
       "        <td>2</td>\n",
       "    </tr>\n",
       "    <tr>\n",
       "        <td>1992</td>\n",
       "        <td>3</td>\n",
       "    </tr>\n",
       "    <tr>\n",
       "        <td>1996</td>\n",
       "        <td>3</td>\n",
       "    </tr>\n",
       "    <tr>\n",
       "        <td>2000</td>\n",
       "        <td>3</td>\n",
       "    </tr>\n",
       "    <tr>\n",
       "        <td>2004</td>\n",
       "        <td>2</td>\n",
       "    </tr>\n",
       "    <tr>\n",
       "        <td>2008</td>\n",
       "        <td>2</td>\n",
       "    </tr>\n",
       "    <tr>\n",
       "        <td>2012</td>\n",
       "        <td>2</td>\n",
       "    </tr>\n",
       "    <tr>\n",
       "        <td>2016</td>\n",
       "        <td>3</td>\n",
       "    </tr>\n",
       "</table>"
      ],
      "text/plain": [
       "[(1984, 2),\n",
       " (1988, 2),\n",
       " (1992, 3),\n",
       " (1996, 3),\n",
       " (2000, 3),\n",
       " (2004, 2),\n",
       " (2008, 2),\n",
       " (2012, 2),\n",
       " (2016, 3)]"
      ]
     },
     "execution_count": 5,
     "metadata": {},
     "output_type": "execute_result"
    }
   ],
   "source": [
    "%%sql\n",
    "SELECT\n",
    "    year, count(candidate)\n",
    "FROM\n",
    "    candidate \n",
    "WHERE\n",
    "    year >= 1984\n",
    "AND\n",
    "    year <= 2016\n",
    "GROUP BY \n",
    "    year"
   ]
  },
  {
   "cell_type": "markdown",
   "metadata": {},
   "source": [
    "3. **For each election from 1984 to 2016, give the party that won the popular vote (i.e. the most votes, not the most electoral college seats)**"
   ]
  },
  {
   "cell_type": "code",
   "execution_count": 6,
   "metadata": {},
   "outputs": [
    {
     "name": "stdout",
     "output_type": "stream",
     "text": [
      " * postgres://localhost/ex_election\n",
      "Done.\n"
     ]
    },
    {
     "data": {
      "text/plain": [
       "[]"
      ]
     },
     "execution_count": 6,
     "metadata": {},
     "output_type": "execute_result"
    }
   ],
   "source": [
    "%%sql\n",
    "CREATE VIEW tidy_election\n",
    "AS\n",
    "    SELECT \n",
    "        state\n",
    "        ,year\n",
    "        ,'democrat' party\n",
    "        ,democrat_votes votes\n",
    "    FROM\n",
    "        election\n",
    "UNION\n",
    "    SELECT \n",
    "        state\n",
    "        ,year\n",
    "        ,'republican' party\n",
    "        ,republican_votes votes\n",
    "    FROM\n",
    "        election\n",
    "UNION\n",
    "    SELECT\n",
    "        state\n",
    "        ,year\n",
    "        ,'other' party\n",
    "        ,other_votes votes\n",
    "    FROM\n",
    "        election\n",
    "        "
   ]
  },
  {
   "cell_type": "code",
   "execution_count": 7,
   "metadata": {},
   "outputs": [
    {
     "name": "stdout",
     "output_type": "stream",
     "text": [
      " * postgres://localhost/ex_election\n",
      "9 rows affected.\n"
     ]
    },
    {
     "data": {
      "text/html": [
       "<table>\n",
       "    <tr>\n",
       "        <th>year</th>\n",
       "        <th>party</th>\n",
       "        <th>total</th>\n",
       "    </tr>\n",
       "    <tr>\n",
       "        <td>1984</td>\n",
       "        <td>republican</td>\n",
       "        <td>54455472</td>\n",
       "    </tr>\n",
       "    <tr>\n",
       "        <td>1988</td>\n",
       "        <td>republican</td>\n",
       "        <td>48886597</td>\n",
       "    </tr>\n",
       "    <tr>\n",
       "        <td>1992</td>\n",
       "        <td>democrat</td>\n",
       "        <td>44909806</td>\n",
       "    </tr>\n",
       "    <tr>\n",
       "        <td>1996</td>\n",
       "        <td>democrat</td>\n",
       "        <td>47400125</td>\n",
       "    </tr>\n",
       "    <tr>\n",
       "        <td>2000</td>\n",
       "        <td>democrat</td>\n",
       "        <td>51009810</td>\n",
       "    </tr>\n",
       "    <tr>\n",
       "        <td>2004</td>\n",
       "        <td>republican</td>\n",
       "        <td>62039572</td>\n",
       "    </tr>\n",
       "    <tr>\n",
       "        <td>2008</td>\n",
       "        <td>democrat</td>\n",
       "        <td>69499428</td>\n",
       "    </tr>\n",
       "    <tr>\n",
       "        <td>2012</td>\n",
       "        <td>democrat</td>\n",
       "        <td>65918507</td>\n",
       "    </tr>\n",
       "    <tr>\n",
       "        <td>2016</td>\n",
       "        <td>democrat</td>\n",
       "        <td>65853625</td>\n",
       "    </tr>\n",
       "</table>"
      ],
      "text/plain": [
       "[(1984, 'republican', 54455472),\n",
       " (1988, 'republican', 48886597),\n",
       " (1992, 'democrat', 44909806),\n",
       " (1996, 'democrat', 47400125),\n",
       " (2000, 'democrat', 51009810),\n",
       " (2004, 'republican', 62039572),\n",
       " (2008, 'democrat', 69499428),\n",
       " (2012, 'democrat', 65918507),\n",
       " (2016, 'democrat', 65853625)]"
      ]
     },
     "execution_count": 7,
     "metadata": {},
     "output_type": "execute_result"
    }
   ],
   "source": [
    "%%sql\n",
    "WITH \n",
    "    party_totals AS (\n",
    "        SELECT\n",
    "            year\n",
    "            ,party\n",
    "            ,sum(votes) total\n",
    "            ,RANK() OVER(PARTITION BY YEAR ORDER BY SUM(votes) DESC) \n",
    "        FROM\n",
    "            tidy_election\n",
    "        GROUP BY \n",
    "            year, party\n",
    ")\n",
    "SELECT\n",
    "    year, party, total\n",
    "FROM\n",
    "    party_totals\n",
    "WHERE    \n",
    "    rank = 1\n",
    "AND\n",
    "    year >= 1984"
   ]
  },
  {
   "cell_type": "markdown",
   "metadata": {},
   "source": [
    "4. **Extension of previous question: for each election from 1984 to 2016, give the party that won the popular vote and the margin (i.e. the amount that the winning party got over the party that came in second place).** You can assume that the third party votes (\"Other\") are irrelevant, and just compare Democrats and Republicans."
   ]
  },
  {
   "cell_type": "code",
   "execution_count": 8,
   "metadata": {},
   "outputs": [
    {
     "name": "stdout",
     "output_type": "stream",
     "text": [
      " * postgres://localhost/ex_election\n",
      "9 rows affected.\n"
     ]
    },
    {
     "data": {
      "text/html": [
       "<table>\n",
       "    <tr>\n",
       "        <th>year</th>\n",
       "        <th>party</th>\n",
       "        <th>total</th>\n",
       "        <th>margin</th>\n",
       "    </tr>\n",
       "    <tr>\n",
       "        <td>1984</td>\n",
       "        <td>republican</td>\n",
       "        <td>54455472</td>\n",
       "        <td>16878120</td>\n",
       "    </tr>\n",
       "    <tr>\n",
       "        <td>1988</td>\n",
       "        <td>republican</td>\n",
       "        <td>48886597</td>\n",
       "        <td>7077121</td>\n",
       "    </tr>\n",
       "    <tr>\n",
       "        <td>1992</td>\n",
       "        <td>democrat</td>\n",
       "        <td>44909806</td>\n",
       "        <td>5805256</td>\n",
       "    </tr>\n",
       "    <tr>\n",
       "        <td>1996</td>\n",
       "        <td>democrat</td>\n",
       "        <td>47400125</td>\n",
       "        <td>8201370</td>\n",
       "    </tr>\n",
       "    <tr>\n",
       "        <td>2000</td>\n",
       "        <td>democrat</td>\n",
       "        <td>51009810</td>\n",
       "        <td>547398</td>\n",
       "    </tr>\n",
       "    <tr>\n",
       "        <td>2004</td>\n",
       "        <td>republican</td>\n",
       "        <td>62039572</td>\n",
       "        <td>3012457</td>\n",
       "    </tr>\n",
       "    <tr>\n",
       "        <td>2008</td>\n",
       "        <td>democrat</td>\n",
       "        <td>69499428</td>\n",
       "        <td>9549105</td>\n",
       "    </tr>\n",
       "    <tr>\n",
       "        <td>2012</td>\n",
       "        <td>democrat</td>\n",
       "        <td>65918507</td>\n",
       "        <td>4984100</td>\n",
       "    </tr>\n",
       "    <tr>\n",
       "        <td>2016</td>\n",
       "        <td>democrat</td>\n",
       "        <td>65853625</td>\n",
       "        <td>2868519</td>\n",
       "    </tr>\n",
       "</table>"
      ],
      "text/plain": [
       "[(1984, 'republican', 54455472, 16878120),\n",
       " (1988, 'republican', 48886597, 7077121),\n",
       " (1992, 'democrat', 44909806, 5805256),\n",
       " (1996, 'democrat', 47400125, 8201370),\n",
       " (2000, 'democrat', 51009810, 547398),\n",
       " (2004, 'republican', 62039572, 3012457),\n",
       " (2008, 'democrat', 69499428, 9549105),\n",
       " (2012, 'democrat', 65918507, 4984100),\n",
       " (2016, 'democrat', 65853625, 2868519)]"
      ]
     },
     "execution_count": 8,
     "metadata": {},
     "output_type": "execute_result"
    }
   ],
   "source": [
    "%%sql\n",
    "WITH \n",
    "    party_totals AS (\n",
    "        SELECT\n",
    "            year\n",
    "            ,party\n",
    "            ,sum(votes) total\n",
    "            ,RANK() OVER(PARTITION BY YEAR ORDER BY SUM(votes) DESC) \n",
    "        FROM\n",
    "            tidy_election\n",
    "        GROUP BY \n",
    "            year, party\n",
    ")\n",
    "SELECT \n",
    "    /* w = winning party, l = losing/2nd place party */\n",
    "    w.year, w.party, w.total, w.total - l.total margin\n",
    "FROM\n",
    "        party_totals w\n",
    "    JOIN\n",
    "        party_totals l\n",
    "    ON\n",
    "        w.year = l.year\n",
    "    AND\n",
    "        w.rank = 1\n",
    "    AND\n",
    "        l.rank = 2\n",
    "    AND\n",
    "        w.year >= 1984"
   ]
  },
  {
   "cell_type": "markdown",
   "metadata": {},
   "source": [
    "5. **Which states have had fewer than 3 democratic victories (i.e. fewer than 3 elections where the democrats got the majority of the votes in that state) since 1952?**"
   ]
  },
  {
   "cell_type": "code",
   "execution_count": 9,
   "metadata": {},
   "outputs": [
    {
     "name": "stdout",
     "output_type": "stream",
     "text": [
      " * postgres://localhost/ex_election\n",
      "Done.\n"
     ]
    },
    {
     "data": {
      "text/plain": [
       "[]"
      ]
     },
     "execution_count": 9,
     "metadata": {},
     "output_type": "execute_result"
    }
   ],
   "source": [
    "%%sql\n",
    "CREATE VIEW\n",
    "    year_state_rank\n",
    "AS\n",
    "SELECT\n",
    "    year\n",
    "    ,state \n",
    "    ,party\n",
    "    ,votes\n",
    "    ,RANK() OVER (PARTITION BY year,state ORDER BY votes DESC)\n",
    "FROM\n",
    "    tidy_election\n",
    ";\n",
    "    "
   ]
  },
  {
   "cell_type": "code",
   "execution_count": 10,
   "metadata": {},
   "outputs": [
    {
     "name": "stdout",
     "output_type": "stream",
     "text": [
      " * postgres://localhost/ex_election\n",
      "12 rows affected.\n"
     ]
    },
    {
     "data": {
      "text/html": [
       "<table>\n",
       "    <tr>\n",
       "        <th>state</th>\n",
       "        <th>count</th>\n",
       "    </tr>\n",
       "    <tr>\n",
       "        <td>AK</td>\n",
       "        <td>1</td>\n",
       "    </tr>\n",
       "    <tr>\n",
       "        <td>AZ</td>\n",
       "        <td>1</td>\n",
       "    </tr>\n",
       "    <tr>\n",
       "        <td>ID</td>\n",
       "        <td>1</td>\n",
       "    </tr>\n",
       "    <tr>\n",
       "        <td>IN</td>\n",
       "        <td>2</td>\n",
       "    </tr>\n",
       "    <tr>\n",
       "        <td>KS</td>\n",
       "        <td>1</td>\n",
       "    </tr>\n",
       "    <tr>\n",
       "        <td>MT</td>\n",
       "        <td>2</td>\n",
       "    </tr>\n",
       "    <tr>\n",
       "        <td>ND</td>\n",
       "        <td>1</td>\n",
       "    </tr>\n",
       "    <tr>\n",
       "        <td>NE</td>\n",
       "        <td>1</td>\n",
       "    </tr>\n",
       "    <tr>\n",
       "        <td>OK</td>\n",
       "        <td>1</td>\n",
       "    </tr>\n",
       "    <tr>\n",
       "        <td>SD</td>\n",
       "        <td>1</td>\n",
       "    </tr>\n",
       "    <tr>\n",
       "        <td>UT</td>\n",
       "        <td>1</td>\n",
       "    </tr>\n",
       "    <tr>\n",
       "        <td>WY</td>\n",
       "        <td>1</td>\n",
       "    </tr>\n",
       "</table>"
      ],
      "text/plain": [
       "[('AK', 1),\n",
       " ('AZ', 1),\n",
       " ('ID', 1),\n",
       " ('IN', 2),\n",
       " ('KS', 1),\n",
       " ('MT', 2),\n",
       " ('ND', 1),\n",
       " ('NE', 1),\n",
       " ('OK', 1),\n",
       " ('SD', 1),\n",
       " ('UT', 1),\n",
       " ('WY', 1)]"
      ]
     },
     "execution_count": 10,
     "metadata": {},
     "output_type": "execute_result"
    }
   ],
   "source": [
    "%%sql\n",
    "SELECT\n",
    "    state\n",
    "    ,count(state)\n",
    "FROM\n",
    "    year_state_rank\n",
    "WHERE\n",
    "    rank = 1 \n",
    "AND\n",
    "    party = 'democrat'\n",
    "GROUP BY \n",
    "    state\n",
    "HAVING\n",
    "    count(state) < 3\n",
    "ORDER BY \n",
    "    state"
   ]
  },
  {
   "cell_type": "markdown",
   "metadata": {},
   "source": [
    "6. **Which states have had fewer than 3 republican victories since 1952?**"
   ]
  },
  {
   "cell_type": "code",
   "execution_count": 11,
   "metadata": {},
   "outputs": [
    {
     "name": "stdout",
     "output_type": "stream",
     "text": [
      " * postgres://localhost/ex_election\n",
      "2 rows affected.\n"
     ]
    },
    {
     "data": {
      "text/html": [
       "<table>\n",
       "    <tr>\n",
       "        <th>state</th>\n",
       "        <th>num_years</th>\n",
       "    </tr>\n",
       "    <tr>\n",
       "        <td>DC</td>\n",
       "        <td>0</td>\n",
       "    </tr>\n",
       "    <tr>\n",
       "        <td>HI</td>\n",
       "        <td>2</td>\n",
       "    </tr>\n",
       "</table>"
      ],
      "text/plain": [
       "[('DC', 0), ('HI', 2)]"
      ]
     },
     "execution_count": 11,
     "metadata": {},
     "output_type": "execute_result"
    }
   ],
   "source": [
    "%%sql\n",
    "SELECT \n",
    "    l.state\n",
    "    , COUNT(DISTINCT r.year)  num_years \n",
    "FROM \n",
    "        year_state_rank l \n",
    "    LEFT JOIN \n",
    "        year_state_rank r \n",
    "    ON \n",
    "        l.state = r.state  \n",
    "        AND \n",
    "            r.rank = 1 \n",
    "        AND \n",
    "            r.party = 'republican'\n",
    "GROUP BY \n",
    "    l.state\n",
    "HAVING \n",
    "    count(distinct r.year) < 3\n",
    "ORDER BY \n",
    "    l.state"
   ]
  },
  {
   "cell_type": "code",
   "execution_count": 12,
   "metadata": {},
   "outputs": [
    {
     "name": "stdout",
     "output_type": "stream",
     "text": [
      " * postgres://localhost/ex_election\n",
      "2 rows affected.\n"
     ]
    },
    {
     "data": {
      "text/html": [
       "<table>\n",
       "    <tr>\n",
       "        <th>state</th>\n",
       "        <th>count</th>\n",
       "    </tr>\n",
       "    <tr>\n",
       "        <td>HI</td>\n",
       "        <td>2</td>\n",
       "    </tr>\n",
       "    <tr>\n",
       "        <td>DC</td>\n",
       "        <td>0</td>\n",
       "    </tr>\n",
       "</table>"
      ],
      "text/plain": [
       "[('HI', 2), ('DC', 0)]"
      ]
     },
     "execution_count": 12,
     "metadata": {},
     "output_type": "execute_result"
    }
   ],
   "source": [
    "%%sql\n",
    "/* alternative solution */ \n",
    "WITH rwins AS (\n",
    "    SELECT \n",
    "        * \n",
    "    FROM \n",
    "        year_state_rank\n",
    "    WHERE\n",
    "        party = 'republican'\n",
    "    AND\n",
    "        rank = 1\n",
    "),\n",
    "states AS (\n",
    "    SELECT\n",
    "        DISTINCT state\n",
    "    FROM\n",
    "        election\n",
    ")\n",
    "SELECT\n",
    "    s.state\n",
    "    ,count(r.year)\n",
    "FROM\n",
    "        states s\n",
    "    LEFT JOIN\n",
    "        rwins r\n",
    "    ON\n",
    "        s.state = r.state\n",
    "GROUP BY\n",
    "    s.state\n",
    "HAVING\n",
    "    count(r.year) < 3"
   ]
  },
  {
   "cell_type": "markdown",
   "metadata": {},
   "source": [
    "7. We are interested in measuring the partisanship of the states. We will define a partisan state as one that is consistently won by a single party (either Democrat or Republican) since 1988. For example, since 1988 California has been won by the republicans once, and won by the democrats 7 times. Under this metric, California would be considered \"partisan\". (Note that if we include elections back to 1952, the republicans have won CA 9 times, and democrats have only won it 8 times).\n",
    "\n",
    "**Find the states where all of the elections since 1988 (including 1988) have been won by the same party**"
   ]
  },
  {
   "cell_type": "code",
   "execution_count": 13,
   "metadata": {},
   "outputs": [
    {
     "name": "stdout",
     "output_type": "stream",
     "text": [
      " * postgres://localhost/ex_election\n",
      "21 rows affected.\n"
     ]
    },
    {
     "data": {
      "text/html": [
       "<table>\n",
       "    <tr>\n",
       "        <th>state</th>\n",
       "        <th>party</th>\n",
       "    </tr>\n",
       "    <tr>\n",
       "        <td>DC</td>\n",
       "        <td>democrat</td>\n",
       "    </tr>\n",
       "    <tr>\n",
       "        <td>HI</td>\n",
       "        <td>democrat</td>\n",
       "    </tr>\n",
       "    <tr>\n",
       "        <td>MA</td>\n",
       "        <td>democrat</td>\n",
       "    </tr>\n",
       "    <tr>\n",
       "        <td>MN</td>\n",
       "        <td>democrat</td>\n",
       "    </tr>\n",
       "    <tr>\n",
       "        <td>NY</td>\n",
       "        <td>democrat</td>\n",
       "    </tr>\n",
       "    <tr>\n",
       "        <td>OR</td>\n",
       "        <td>democrat</td>\n",
       "    </tr>\n",
       "    <tr>\n",
       "        <td>RI</td>\n",
       "        <td>democrat</td>\n",
       "    </tr>\n",
       "    <tr>\n",
       "        <td>WA</td>\n",
       "        <td>democrat</td>\n",
       "    </tr>\n",
       "    <tr>\n",
       "        <td>AK</td>\n",
       "        <td>republican</td>\n",
       "    </tr>\n",
       "    <tr>\n",
       "        <td>AL</td>\n",
       "        <td>republican</td>\n",
       "    </tr>\n",
       "    <tr>\n",
       "        <td>ID</td>\n",
       "        <td>republican</td>\n",
       "    </tr>\n",
       "    <tr>\n",
       "        <td>KS</td>\n",
       "        <td>republican</td>\n",
       "    </tr>\n",
       "    <tr>\n",
       "        <td>MS</td>\n",
       "        <td>republican</td>\n",
       "    </tr>\n",
       "    <tr>\n",
       "        <td>ND</td>\n",
       "        <td>republican</td>\n",
       "    </tr>\n",
       "    <tr>\n",
       "        <td>NE</td>\n",
       "        <td>republican</td>\n",
       "    </tr>\n",
       "    <tr>\n",
       "        <td>OK</td>\n",
       "        <td>republican</td>\n",
       "    </tr>\n",
       "    <tr>\n",
       "        <td>SC</td>\n",
       "        <td>republican</td>\n",
       "    </tr>\n",
       "    <tr>\n",
       "        <td>SD</td>\n",
       "        <td>republican</td>\n",
       "    </tr>\n",
       "    <tr>\n",
       "        <td>TX</td>\n",
       "        <td>republican</td>\n",
       "    </tr>\n",
       "    <tr>\n",
       "        <td>UT</td>\n",
       "        <td>republican</td>\n",
       "    </tr>\n",
       "    <tr>\n",
       "        <td>WY</td>\n",
       "        <td>republican</td>\n",
       "    </tr>\n",
       "</table>"
      ],
      "text/plain": [
       "[('DC', 'democrat'),\n",
       " ('HI', 'democrat'),\n",
       " ('MA', 'democrat'),\n",
       " ('MN', 'democrat'),\n",
       " ('NY', 'democrat'),\n",
       " ('OR', 'democrat'),\n",
       " ('RI', 'democrat'),\n",
       " ('WA', 'democrat'),\n",
       " ('AK', 'republican'),\n",
       " ('AL', 'republican'),\n",
       " ('ID', 'republican'),\n",
       " ('KS', 'republican'),\n",
       " ('MS', 'republican'),\n",
       " ('ND', 'republican'),\n",
       " ('NE', 'republican'),\n",
       " ('OK', 'republican'),\n",
       " ('SC', 'republican'),\n",
       " ('SD', 'republican'),\n",
       " ('TX', 'republican'),\n",
       " ('UT', 'republican'),\n",
       " ('WY', 'republican')]"
      ]
     },
     "execution_count": 13,
     "metadata": {},
     "output_type": "execute_result"
    }
   ],
   "source": [
    "%%sql\n",
    "SELECT\n",
    "    state,\n",
    "    party\n",
    "FROM\n",
    "    year_state_rank\n",
    "WHERE\n",
    "    year >= 1988\n",
    "GROUP BY \n",
    "    state, party\n",
    "HAVING\n",
    "    sum(rank) = count(distinct year)\n",
    "ORDER BY \n",
    "    party, state"
   ]
  },
  {
   "cell_type": "code",
   "execution_count": null,
   "metadata": {},
   "outputs": [],
   "source": []
  }
 ],
 "metadata": {
  "kernelspec": {
   "display_name": "Python 3",
   "language": "python",
   "name": "python3"
  },
  "language_info": {
   "codemirror_mode": {
    "name": "ipython",
    "version": 3
   },
   "file_extension": ".py",
   "mimetype": "text/x-python",
   "name": "python",
   "nbconvert_exporter": "python",
   "pygments_lexer": "ipython3",
   "version": "3.6.8"
  }
 },
 "nbformat": 4,
 "nbformat_minor": 2
}
