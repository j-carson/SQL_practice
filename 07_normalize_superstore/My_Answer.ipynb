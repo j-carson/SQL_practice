{
 "cells": [
  {
   "cell_type": "markdown",
   "metadata": {},
   "source": [
    "# Order data \n",
    "\n",
    "A database for this exercise has been created already, called `ex_superstore_normalize`.\n",
    "\n",
    "The data for this exercise has been taken from Tableau's [2015 Superstore dataset](https://www.superdatascience.com/tableau/), with each sheet converted into CSVs. Unlike other exercises, you don't need the database for this exercise. You can choose to either make a new database directly from the CSVs, or import data from the large table into the smaller (normalized) tables.\n",
    "\n",
    " \n",
    "If you think you have found an error in the questions below, please open a Github Issue.\n",
    "\n",
    "## Exercise\n",
    "\n",
    "There is only one exercise here: take the data in the `orders` table, and normalize it. That is, create other tables so that you are not repeating information. For example, you probably want to have customer data in a `customer` table, where each customer has a customer id as a primary key. The order table should contain the customer id, and no other information about the customer.\n",
    "\n",
    "There are several different approaches to this problem, so no solution is provided. Here are some things to think about:\n",
    "1. Can your proposed solution deal with multiple addresses per customer?\n",
    "2. Can you tell which address each customer's order went to?\n",
    "3. When you have made all your tables, can you write a SELECT statement with JOINs that recreates the original table?\n",
    "\n",
    "## Preview of the `orders` table:\n",
    "\n",
    "```sql\n",
    "SELECT * FROM orders LIMIT 4;\n",
    "```\n",
    "\n",
    "<table border=\"1\">\n",
    "  <tr>\n",
    "    <th align=\"center\">row_id</th>\n",
    "    <th align=\"center\">order_priority</th>\n",
    "    <th align=\"center\">discount</th>\n",
    "    <th align=\"center\">unit_price</th>\n",
    "    <th align=\"center\">shipping_cost</th>\n",
    "    <th align=\"center\">customer_id</th>\n",
    "    <th align=\"center\">customer_name</th>\n",
    "    <th align=\"center\">ship_mode</th>\n",
    "    <th align=\"center\">customer_segment</th>\n",
    "    <th align=\"center\">product_category</th>\n",
    "    <th align=\"center\">product_subcategory</th>\n",
    "    <th align=\"center\">product_container</th>\n",
    "    <th align=\"center\">product_name</th>\n",
    "    <th align=\"center\">product_base_margin</th>\n",
    "    <th align=\"center\">country</th>\n",
    "    <th align=\"center\">region</th>\n",
    "    <th align=\"center\">state</th>\n",
    "    <th align=\"center\">city</th>\n",
    "    <th align=\"center\">postal_code</th>\n",
    "    <th align=\"center\">order_date</th>\n",
    "    <th align=\"center\">ship_date</th>\n",
    "    <th align=\"center\">profit</th>\n",
    "    <th align=\"center\">quantity_ordered_new</th>\n",
    "    <th align=\"center\">sales</th>\n",
    "    <th align=\"center\">order_id</th>\n",
    "  </tr>\n",
    "  <tr valign=\"top\">\n",
    "    <td align=\"right\">20847</td>\n",
    "    <td align=\"left\">High</td>\n",
    "    <td align=\"right\">0.01</td>\n",
    "    <td align=\"right\">2.84</td>\n",
    "    <td align=\"right\">0.93</td>\n",
    "    <td align=\"right\">3</td>\n",
    "    <td align=\"left\">Bonnie Potter</td>\n",
    "    <td align=\"left\">Express Air</td>\n",
    "    <td align=\"left\">Corporate</td>\n",
    "    <td align=\"left\">Office Supplies</td>\n",
    "    <td align=\"left\">Pens &amp; Art Supplies</td>\n",
    "    <td align=\"left\">Wrap Bag</td>\n",
    "    <td align=\"left\">SANFORD Liquid Accent™ Tank-Style Highlighters</td>\n",
    "    <td align=\"right\">0.54</td>\n",
    "    <td align=\"left\">United States</td>\n",
    "    <td align=\"left\">West</td>\n",
    "    <td align=\"left\">Washington</td>\n",
    "    <td align=\"left\">Anacortes</td>\n",
    "    <td align=\"right\">98221</td>\n",
    "    <td align=\"left\">2015-01-07 00:00:00</td>\n",
    "    <td align=\"left\">2015-01-08 00:00:00</td>\n",
    "    <td align=\"right\">4.56</td>\n",
    "    <td align=\"right\">4</td>\n",
    "    <td align=\"right\">13.01</td>\n",
    "    <td align=\"right\">88522</td>\n",
    "  </tr>\n",
    "  <tr valign=\"top\">\n",
    "    <td align=\"right\">20228</td>\n",
    "    <td align=\"left\">Not Specified</td>\n",
    "    <td align=\"right\">0.02</td>\n",
    "    <td align=\"right\">500.98</td>\n",
    "    <td align=\"right\">26</td>\n",
    "    <td align=\"right\">5</td>\n",
    "    <td align=\"left\">Ronnie Proctor</td>\n",
    "    <td align=\"left\">Delivery Truck</td>\n",
    "    <td align=\"left\">Home Office</td>\n",
    "    <td align=\"left\">Furniture</td>\n",
    "    <td align=\"left\">Chairs &amp; Chairmats</td>\n",
    "    <td align=\"left\">Jumbo Drum</td>\n",
    "    <td align=\"left\">Global Troy™ Executive Leather Low-Back Tilter</td>\n",
    "    <td align=\"right\">0.6</td>\n",
    "    <td align=\"left\">United States</td>\n",
    "    <td align=\"left\">West</td>\n",
    "    <td align=\"left\">California</td>\n",
    "    <td align=\"left\">San Gabriel</td>\n",
    "    <td align=\"right\">91776</td>\n",
    "    <td align=\"left\">2015-06-13 00:00:00</td>\n",
    "    <td align=\"left\">2015-06-15 00:00:00</td>\n",
    "    <td align=\"right\">4390.37</td>\n",
    "    <td align=\"right\">12</td>\n",
    "    <td align=\"right\">6362.85</td>\n",
    "    <td align=\"right\">90193</td>\n",
    "  </tr>\n",
    "  <tr valign=\"top\">\n",
    "    <td align=\"right\">21776</td>\n",
    "    <td align=\"left\">Critical</td>\n",
    "    <td align=\"right\">0.06</td>\n",
    "    <td align=\"right\">9.48</td>\n",
    "    <td align=\"right\">7.29</td>\n",
    "    <td align=\"right\">11</td>\n",
    "    <td align=\"left\">Marcus Dunlap</td>\n",
    "    <td align=\"left\">Regular Air</td>\n",
    "    <td align=\"left\">Home Office</td>\n",
    "    <td align=\"left\">Furniture</td>\n",
    "    <td align=\"left\">Office Furnishings</td>\n",
    "    <td align=\"left\">Small Pack</td>\n",
    "    <td align=\"left\">DAX Two-Tone Rosewood/Black Document Frame, Desktop, 5 x 7</td>\n",
    "    <td align=\"right\">0.45</td>\n",
    "    <td align=\"left\">United States</td>\n",
    "    <td align=\"left\">East</td>\n",
    "    <td align=\"left\">New Jersey</td>\n",
    "    <td align=\"left\">Roselle</td>\n",
    "    <td align=\"right\">7203</td>\n",
    "    <td align=\"left\">2015-02-15 00:00:00</td>\n",
    "    <td align=\"left\">2015-02-17 00:00:00</td>\n",
    "    <td align=\"right\">-53.8096</td>\n",
    "    <td align=\"right\">22</td>\n",
    "    <td align=\"right\">211.15</td>\n",
    "    <td align=\"right\">90192</td>\n",
    "  </tr>\n",
    "  <tr valign=\"top\">\n",
    "    <td align=\"right\">24844</td>\n",
    "    <td align=\"left\">Medium</td>\n",
    "    <td align=\"right\">0.09</td>\n",
    "    <td align=\"right\">78.69</td>\n",
    "    <td align=\"right\">19.99</td>\n",
    "    <td align=\"right\">14</td>\n",
    "    <td align=\"left\">Gwendolyn F Tyson</td>\n",
    "    <td align=\"left\">Regular Air</td>\n",
    "    <td align=\"left\">Small Business</td>\n",
    "    <td align=\"left\">Furniture</td>\n",
    "    <td align=\"left\">Office Furnishings</td>\n",
    "    <td align=\"left\">Small Box</td>\n",
    "    <td align=\"left\">Howard Miller 12-3/4 Diameter Accuwave DS ™ Wall Clock</td>\n",
    "    <td align=\"right\">0.43</td>\n",
    "    <td align=\"left\">United States</td>\n",
    "    <td align=\"left\">Central</td>\n",
    "    <td align=\"left\">Minnesota</td>\n",
    "    <td align=\"left\">Prior Lake</td>\n",
    "    <td align=\"right\">55372</td>\n",
    "    <td align=\"left\">2015-05-12 00:00:00</td>\n",
    "    <td align=\"left\">2015-05-14 00:00:00</td>\n",
    "    <td align=\"right\">803.471</td>\n",
    "    <td align=\"right\">16</td>\n",
    "    <td align=\"right\">1164.45</td>\n",
    "    <td align=\"right\">86838</td>\n",
    "  </tr>\n",
    "</table>"
   ]
  },
  {
   "cell_type": "markdown",
   "metadata": {},
   "source": [
    "# My approach\n",
    "\n",
    "I decided that I was going for \"bug for bug compatibility\" with the given dataset. For example, since each customer_id in the \n",
    "given database has only one location, I did not try\n",
    "to support multiple addresses per customer. My goal \n",
    "is simply for the\n",
    "joined normalized database to match the original orders database, with no loss of data and no \"feature creep.\"\n",
    "\n",
    "I found myself perplexed by the money columns:\n",
    "prices, discounts, base_margin, and shipping costs were not \n",
    "one-to-one with products or customers.  Perhaps there are \n",
    "sales or price adjustments that just change with the calendar,\n",
    "segment, quantity puchased, sales negotiations, etc.\n",
    "At any rate, no information was given about the \n",
    "underlying business rules \n",
    "and my attempts at figuring it out\n",
    "were inconclusive, so I put all of dollar amount fields in the\n",
    "order_item table. With better documentation of the \n",
    "underlying business\n",
    "rules, these might have been normalized differently. "
   ]
  },
  {
   "cell_type": "code",
   "execution_count": 1,
   "metadata": {},
   "outputs": [
    {
     "data": {
      "text/plain": [
       "'Connected: @ex_superstore_normalize'"
      ]
     },
     "execution_count": 1,
     "metadata": {},
     "output_type": "execute_result"
    }
   ],
   "source": [
    "%load_ext sql\n",
    "%sql postgres://localhost/ex_superstore_normalize"
   ]
  },
  {
   "cell_type": "code",
   "execution_count": 2,
   "metadata": {},
   "outputs": [],
   "source": [
    "%config SqlMagic.autopandas = True\n",
    "%config SqlMagic.feedback = False\n",
    "import pandas as pd\n",
    "import numpy as np"
   ]
  },
  {
   "cell_type": "code",
   "execution_count": 3,
   "metadata": {},
   "outputs": [],
   "source": [
    "from sqlalchemy import MetaData\n",
    "from sqlalchemy_schemadisplay import create_schema_graph"
   ]
  },
  {
   "cell_type": "markdown",
   "metadata": {},
   "source": [
    "## Product attribute types\n",
    "\n",
    "Create enumerated types for product container, category, and subcategory"
   ]
  },
  {
   "cell_type": "code",
   "execution_count": 4,
   "metadata": {},
   "outputs": [],
   "source": [
    "def make_enum( column, enum_name ):\n",
    "    \"\"\"\n",
    "        Input: name of column, name of enumerated type to create\n",
    "        Effects: selects distinct 'column' from orders\n",
    "                creates enumerated type 'enum_name' with those values\n",
    "    \"\"\"\n",
    "    items = %sql SELECT DISTINCT $column FROM orders;\n",
    "    # convert results of query into a string with parens on the ends,\n",
    "    # commas between the values, and quotes around each string\n",
    "    ilist = str(tuple(items[column].values))\n",
    "    %sql CREATE TYPE $enum_name AS ENUM $ilist ; "
   ]
  },
  {
   "cell_type": "code",
   "execution_count": 5,
   "metadata": {},
   "outputs": [
    {
     "name": "stdout",
     "output_type": "stream",
     "text": [
      " * postgres://localhost/ex_superstore_normalize\n",
      " * postgres://localhost/ex_superstore_normalize\n",
      " * postgres://localhost/ex_superstore_normalize\n",
      " * postgres://localhost/ex_superstore_normalize\n",
      " * postgres://localhost/ex_superstore_normalize\n",
      " * postgres://localhost/ex_superstore_normalize\n"
     ]
    }
   ],
   "source": [
    "make_enum( 'product_container', 'product_container_t')\n",
    "make_enum( 'product_category', 'product_category_t')\n",
    "make_enum( 'product_subcategory', 'product_subcategory_t')"
   ]
  },
  {
   "cell_type": "code",
   "execution_count": 6,
   "metadata": {},
   "outputs": [],
   "source": [
    "## Product table"
   ]
  },
  {
   "cell_type": "code",
   "execution_count": 7,
   "metadata": {},
   "outputs": [
    {
     "name": "stdout",
     "output_type": "stream",
     "text": [
      " * postgres://localhost/ex_superstore_normalize\n"
     ]
    },
    {
     "data": {
      "text/html": [
       "<div>\n",
       "<style scoped>\n",
       "    .dataframe tbody tr th:only-of-type {\n",
       "        vertical-align: middle;\n",
       "    }\n",
       "\n",
       "    .dataframe tbody tr th {\n",
       "        vertical-align: top;\n",
       "    }\n",
       "\n",
       "    .dataframe thead th {\n",
       "        text-align: right;\n",
       "    }\n",
       "</style>\n",
       "<table border=\"1\" class=\"dataframe\">\n",
       "  <thead>\n",
       "    <tr style=\"text-align: right;\">\n",
       "      <th></th>\n",
       "    </tr>\n",
       "  </thead>\n",
       "  <tbody>\n",
       "  </tbody>\n",
       "</table>\n",
       "</div>"
      ],
      "text/plain": [
       "Empty DataFrame\n",
       "Columns: []\n",
       "Index: []"
      ]
     },
     "execution_count": 7,
     "metadata": {},
     "output_type": "execute_result"
    }
   ],
   "source": [
    "%%sql\n",
    "CREATE TABLE products (\n",
    "    product_id SERIAL PRIMARY KEY,\n",
    "    product_container product_container_t,\n",
    "    product_category product_category_t,\n",
    "    product_subcategory product_subcategory_t,\n",
    "    product_name TEXT\n",
    ");\n",
    "\n",
    "INSERT INTO \n",
    "    products (\n",
    "         product_name, \n",
    "         product_container, \n",
    "         product_category,\n",
    "         product_subcategory\n",
    "    )\n",
    "SELECT DISTINCT \n",
    "        product_name,\n",
    "        product_container::product_container_t ,\n",
    "        product_category::product_category_t,\n",
    "        product_subcategory::product_subcategory_t\n",
    "FROM\n",
    "        orders \n",
    ";       "
   ]
  },
  {
   "cell_type": "markdown",
   "metadata": {},
   "source": [
    "## Shipping addresses\n",
    "\n",
    "- Regions : another enumerated type\n",
    "- States : I'm going to use the common two-letter state abbreviations as a state id"
   ]
  },
  {
   "cell_type": "code",
   "execution_count": 8,
   "metadata": {},
   "outputs": [
    {
     "name": "stdout",
     "output_type": "stream",
     "text": [
      " * postgres://localhost/ex_superstore_normalize\n",
      " * postgres://localhost/ex_superstore_normalize\n"
     ]
    }
   ],
   "source": [
    "make_enum( 'region', 'region_t' )"
   ]
  },
  {
   "cell_type": "code",
   "execution_count": 9,
   "metadata": {},
   "outputs": [
    {
     "name": "stdout",
     "output_type": "stream",
     "text": [
      " * postgres://localhost/ex_superstore_normalize\n"
     ]
    },
    {
     "data": {
      "text/html": [
       "<div>\n",
       "<style scoped>\n",
       "    .dataframe tbody tr th:only-of-type {\n",
       "        vertical-align: middle;\n",
       "    }\n",
       "\n",
       "    .dataframe tbody tr th {\n",
       "        vertical-align: top;\n",
       "    }\n",
       "\n",
       "    .dataframe thead th {\n",
       "        text-align: right;\n",
       "    }\n",
       "</style>\n",
       "<table border=\"1\" class=\"dataframe\">\n",
       "  <thead>\n",
       "    <tr style=\"text-align: right;\">\n",
       "      <th></th>\n",
       "    </tr>\n",
       "  </thead>\n",
       "  <tbody>\n",
       "  </tbody>\n",
       "</table>\n",
       "</div>"
      ],
      "text/plain": [
       "Empty DataFrame\n",
       "Columns: []\n",
       "Index: []"
      ]
     },
     "execution_count": 9,
     "metadata": {},
     "output_type": "execute_result"
    }
   ],
   "source": [
    "%%sql\n",
    "CREATE TABLE state (\n",
    "    state_id VARCHAR(2) PRIMARY KEY,\n",
    "    state_name VARCHAR,\n",
    "    region region_t\n",
    ");"
   ]
  },
  {
   "cell_type": "code",
   "execution_count": 10,
   "metadata": {},
   "outputs": [],
   "source": [
    "# dictionary downloaded from \n",
    "# http://code.activestate.com/recipes/577305-python-dictionary-of-us-states-and-territories/\n",
    "abbr_to_state = {\n",
    "        'AK': 'Alaska',\n",
    "        'AL': 'Alabama',\n",
    "        'AR': 'Arkansas',\n",
    "        'AS': 'American Samoa',\n",
    "        'AZ': 'Arizona',\n",
    "        'CA': 'California',\n",
    "        'CO': 'Colorado',\n",
    "        'CT': 'Connecticut',\n",
    "        'DC': 'District of Columbia',\n",
    "        'DE': 'Delaware',\n",
    "        'FL': 'Florida',\n",
    "        'GA': 'Georgia',\n",
    "        'GU': 'Guam',\n",
    "        'HI': 'Hawaii',\n",
    "        'IA': 'Iowa',\n",
    "        'ID': 'Idaho',\n",
    "        'IL': 'Illinois',\n",
    "        'IN': 'Indiana',\n",
    "        'KS': 'Kansas',\n",
    "        'KY': 'Kentucky',\n",
    "        'LA': 'Louisiana',\n",
    "        'MA': 'Massachusetts',\n",
    "        'MD': 'Maryland',\n",
    "        'ME': 'Maine',\n",
    "        'MI': 'Michigan',\n",
    "        'MN': 'Minnesota',\n",
    "        'MO': 'Missouri',\n",
    "        'MP': 'Northern Mariana Islands',\n",
    "        'MS': 'Mississippi',\n",
    "        'MT': 'Montana',\n",
    "        'NC': 'North Carolina',\n",
    "        'ND': 'North Dakota',\n",
    "        'NE': 'Nebraska',\n",
    "        'NH': 'New Hampshire',\n",
    "        'NJ': 'New Jersey',\n",
    "        'NM': 'New Mexico',\n",
    "        'NV': 'Nevada',\n",
    "        'NY': 'New York',\n",
    "        'OH': 'Ohio',\n",
    "        'OK': 'Oklahoma',\n",
    "        'OR': 'Oregon',\n",
    "        'PA': 'Pennsylvania',\n",
    "        'PR': 'Puerto Rico',\n",
    "        'RI': 'Rhode Island',\n",
    "        'SC': 'South Carolina',\n",
    "        'SD': 'South Dakota',\n",
    "        'TN': 'Tennessee',\n",
    "        'TX': 'Texas',\n",
    "        'UT': 'Utah',\n",
    "        'VA': 'Virginia',\n",
    "        'VI': 'Virgin Islands',\n",
    "        'VT': 'Vermont',\n",
    "        'WA': 'Washington',\n",
    "        'WI': 'Wisconsin',\n",
    "        'WV': 'West Virginia',\n",
    "        'WY': 'Wyoming'\n",
    "}"
   ]
  },
  {
   "cell_type": "code",
   "execution_count": 11,
   "metadata": {},
   "outputs": [],
   "source": [
    "%%capture\n",
    "for key in abbr_to_state.keys():\n",
    "    %sql insert into state (state_id, state_name) values ('{key}','{abbr_to_state[key]}');"
   ]
  },
  {
   "cell_type": "code",
   "execution_count": 12,
   "metadata": {},
   "outputs": [
    {
     "name": "stdout",
     "output_type": "stream",
     "text": [
      " * postgres://localhost/ex_superstore_normalize\n"
     ]
    },
    {
     "data": {
      "text/html": [
       "<div>\n",
       "<style scoped>\n",
       "    .dataframe tbody tr th:only-of-type {\n",
       "        vertical-align: middle;\n",
       "    }\n",
       "\n",
       "    .dataframe tbody tr th {\n",
       "        vertical-align: top;\n",
       "    }\n",
       "\n",
       "    .dataframe thead th {\n",
       "        text-align: right;\n",
       "    }\n",
       "</style>\n",
       "<table border=\"1\" class=\"dataframe\">\n",
       "  <thead>\n",
       "    <tr style=\"text-align: right;\">\n",
       "      <th></th>\n",
       "    </tr>\n",
       "  </thead>\n",
       "  <tbody>\n",
       "  </tbody>\n",
       "</table>\n",
       "</div>"
      ],
      "text/plain": [
       "Empty DataFrame\n",
       "Columns: []\n",
       "Index: []"
      ]
     },
     "execution_count": 12,
     "metadata": {},
     "output_type": "execute_result"
    }
   ],
   "source": [
    "%%sql\n",
    "WITH state_region_pairs AS (\n",
    "    SELECT DISTINCT\n",
    "        state state_name, region::region_t\n",
    "    FROM\n",
    "        orders\n",
    ")\n",
    "UPDATE \n",
    "    state\n",
    "SET \n",
    "    region = state_region_pairs.region\n",
    "FROM\n",
    "    state_region_pairs\n",
    "WHERE\n",
    "    state.state_name = state_region_pairs.state_name\n",
    ";"
   ]
  },
  {
   "cell_type": "markdown",
   "metadata": {},
   "source": [
    "I could guess a region for states that we don't have orders from, but I \n",
    "will just take the simple route and delete those rows."
   ]
  },
  {
   "cell_type": "code",
   "execution_count": 13,
   "metadata": {},
   "outputs": [
    {
     "name": "stdout",
     "output_type": "stream",
     "text": [
      " * postgres://localhost/ex_superstore_normalize\n"
     ]
    },
    {
     "data": {
      "text/html": [
       "<div>\n",
       "<style scoped>\n",
       "    .dataframe tbody tr th:only-of-type {\n",
       "        vertical-align: middle;\n",
       "    }\n",
       "\n",
       "    .dataframe tbody tr th {\n",
       "        vertical-align: top;\n",
       "    }\n",
       "\n",
       "    .dataframe thead th {\n",
       "        text-align: right;\n",
       "    }\n",
       "</style>\n",
       "<table border=\"1\" class=\"dataframe\">\n",
       "  <thead>\n",
       "    <tr style=\"text-align: right;\">\n",
       "      <th></th>\n",
       "      <th>state_id</th>\n",
       "      <th>state_name</th>\n",
       "      <th>region</th>\n",
       "    </tr>\n",
       "  </thead>\n",
       "  <tbody>\n",
       "    <tr>\n",
       "      <th>0</th>\n",
       "      <td>AK</td>\n",
       "      <td>Alaska</td>\n",
       "      <td>None</td>\n",
       "    </tr>\n",
       "    <tr>\n",
       "      <th>1</th>\n",
       "      <td>AS</td>\n",
       "      <td>American Samoa</td>\n",
       "      <td>None</td>\n",
       "    </tr>\n",
       "    <tr>\n",
       "      <th>2</th>\n",
       "      <td>GU</td>\n",
       "      <td>Guam</td>\n",
       "      <td>None</td>\n",
       "    </tr>\n",
       "    <tr>\n",
       "      <th>3</th>\n",
       "      <td>HI</td>\n",
       "      <td>Hawaii</td>\n",
       "      <td>None</td>\n",
       "    </tr>\n",
       "    <tr>\n",
       "      <th>4</th>\n",
       "      <td>MP</td>\n",
       "      <td>Northern Mariana Islands</td>\n",
       "      <td>None</td>\n",
       "    </tr>\n",
       "    <tr>\n",
       "      <th>5</th>\n",
       "      <td>PR</td>\n",
       "      <td>Puerto Rico</td>\n",
       "      <td>None</td>\n",
       "    </tr>\n",
       "    <tr>\n",
       "      <th>6</th>\n",
       "      <td>VI</td>\n",
       "      <td>Virgin Islands</td>\n",
       "      <td>None</td>\n",
       "    </tr>\n",
       "  </tbody>\n",
       "</table>\n",
       "</div>"
      ],
      "text/plain": [
       "  state_id                state_name region\n",
       "0       AK                    Alaska   None\n",
       "1       AS            American Samoa   None\n",
       "2       GU                      Guam   None\n",
       "3       HI                    Hawaii   None\n",
       "4       MP  Northern Mariana Islands   None\n",
       "5       PR               Puerto Rico   None\n",
       "6       VI            Virgin Islands   None"
      ]
     },
     "execution_count": 13,
     "metadata": {},
     "output_type": "execute_result"
    }
   ],
   "source": [
    "%%sql\n",
    "SELECT \n",
    "    * \n",
    "FROM \n",
    "    state\n",
    "WHERE \n",
    "    region is NULL;"
   ]
  },
  {
   "cell_type": "code",
   "execution_count": 14,
   "metadata": {},
   "outputs": [
    {
     "name": "stdout",
     "output_type": "stream",
     "text": [
      " * postgres://localhost/ex_superstore_normalize\n"
     ]
    },
    {
     "data": {
      "text/html": [
       "<div>\n",
       "<style scoped>\n",
       "    .dataframe tbody tr th:only-of-type {\n",
       "        vertical-align: middle;\n",
       "    }\n",
       "\n",
       "    .dataframe tbody tr th {\n",
       "        vertical-align: top;\n",
       "    }\n",
       "\n",
       "    .dataframe thead th {\n",
       "        text-align: right;\n",
       "    }\n",
       "</style>\n",
       "<table border=\"1\" class=\"dataframe\">\n",
       "  <thead>\n",
       "    <tr style=\"text-align: right;\">\n",
       "      <th></th>\n",
       "    </tr>\n",
       "  </thead>\n",
       "  <tbody>\n",
       "  </tbody>\n",
       "</table>\n",
       "</div>"
      ],
      "text/plain": [
       "Empty DataFrame\n",
       "Columns: []\n",
       "Index: []"
      ]
     },
     "execution_count": 14,
     "metadata": {},
     "output_type": "execute_result"
    }
   ],
   "source": [
    "%%sql\n",
    "DELETE FROM \n",
    "    state \n",
    "WHERE \n",
    "    region is NULL;"
   ]
  },
  {
   "cell_type": "markdown",
   "metadata": {},
   "source": [
    "And just to make sure I didn't miss any non-US orders..."
   ]
  },
  {
   "cell_type": "code",
   "execution_count": 15,
   "metadata": {},
   "outputs": [
    {
     "name": "stdout",
     "output_type": "stream",
     "text": [
      " * postgres://localhost/ex_superstore_normalize\n"
     ]
    },
    {
     "data": {
      "text/html": [
       "<div>\n",
       "<style scoped>\n",
       "    .dataframe tbody tr th:only-of-type {\n",
       "        vertical-align: middle;\n",
       "    }\n",
       "\n",
       "    .dataframe tbody tr th {\n",
       "        vertical-align: top;\n",
       "    }\n",
       "\n",
       "    .dataframe thead th {\n",
       "        text-align: right;\n",
       "    }\n",
       "</style>\n",
       "<table border=\"1\" class=\"dataframe\">\n",
       "  <thead>\n",
       "    <tr style=\"text-align: right;\">\n",
       "      <th></th>\n",
       "    </tr>\n",
       "  </thead>\n",
       "  <tbody>\n",
       "  </tbody>\n",
       "</table>\n",
       "</div>"
      ],
      "text/plain": [
       "Empty DataFrame\n",
       "Columns: []\n",
       "Index: []"
      ]
     },
     "execution_count": 15,
     "metadata": {},
     "output_type": "execute_result"
    }
   ],
   "source": [
    "%%sql\n",
    "SELECT \n",
    "    * \n",
    "FROM \n",
    "    orders \n",
    "WHERE \n",
    "    country != 'United States'"
   ]
  },
  {
   "cell_type": "markdown",
   "metadata": {},
   "source": [
    "We are now ready to create and fill the customer name/address table. (There are no\n",
    "street addresses in the given data, just region/state/city/zip.)"
   ]
  },
  {
   "cell_type": "code",
   "execution_count": 16,
   "metadata": {},
   "outputs": [
    {
     "name": "stdout",
     "output_type": "stream",
     "text": [
      " * postgres://localhost/ex_superstore_normalize\n"
     ]
    },
    {
     "data": {
      "text/html": [
       "<div>\n",
       "<style scoped>\n",
       "    .dataframe tbody tr th:only-of-type {\n",
       "        vertical-align: middle;\n",
       "    }\n",
       "\n",
       "    .dataframe tbody tr th {\n",
       "        vertical-align: top;\n",
       "    }\n",
       "\n",
       "    .dataframe thead th {\n",
       "        text-align: right;\n",
       "    }\n",
       "</style>\n",
       "<table border=\"1\" class=\"dataframe\">\n",
       "  <thead>\n",
       "    <tr style=\"text-align: right;\">\n",
       "      <th></th>\n",
       "    </tr>\n",
       "  </thead>\n",
       "  <tbody>\n",
       "  </tbody>\n",
       "</table>\n",
       "</div>"
      ],
      "text/plain": [
       "Empty DataFrame\n",
       "Columns: []\n",
       "Index: []"
      ]
     },
     "execution_count": 16,
     "metadata": {},
     "output_type": "execute_result"
    }
   ],
   "source": [
    "%%sql\n",
    "CREATE TABLE customer (\n",
    "    customer_id INT PRIMARY KEY,\n",
    "    customer_name VARCHAR,\n",
    "    state_id VARCHAR(2),\n",
    "    city VARCHAR,\n",
    "    postal_code INT,\n",
    "    \n",
    "    FOREIGN KEY (state_id)\n",
    "        REFERENCES state(state_id)\n",
    ")"
   ]
  },
  {
   "cell_type": "code",
   "execution_count": 17,
   "metadata": {},
   "outputs": [
    {
     "name": "stdout",
     "output_type": "stream",
     "text": [
      " * postgres://localhost/ex_superstore_normalize\n"
     ]
    },
    {
     "data": {
      "text/html": [
       "<div>\n",
       "<style scoped>\n",
       "    .dataframe tbody tr th:only-of-type {\n",
       "        vertical-align: middle;\n",
       "    }\n",
       "\n",
       "    .dataframe tbody tr th {\n",
       "        vertical-align: top;\n",
       "    }\n",
       "\n",
       "    .dataframe thead th {\n",
       "        text-align: right;\n",
       "    }\n",
       "</style>\n",
       "<table border=\"1\" class=\"dataframe\">\n",
       "  <thead>\n",
       "    <tr style=\"text-align: right;\">\n",
       "      <th></th>\n",
       "    </tr>\n",
       "  </thead>\n",
       "  <tbody>\n",
       "  </tbody>\n",
       "</table>\n",
       "</div>"
      ],
      "text/plain": [
       "Empty DataFrame\n",
       "Columns: []\n",
       "Index: []"
      ]
     },
     "execution_count": 17,
     "metadata": {},
     "output_type": "execute_result"
    }
   ],
   "source": [
    "%%sql\n",
    "INSERT INTO \n",
    "    customer (\n",
    "        customer_id,\n",
    "        customer_name,\n",
    "        state_id,\n",
    "        city,\n",
    "        postal_code\n",
    "    )\n",
    "SELECT DISTINCT \n",
    "    customer_id,\n",
    "    customer_name,\n",
    "    state_id,\n",
    "    city,\n",
    "    postal_code\n",
    "FROM\n",
    "        orders\n",
    "    JOIN \n",
    "        state \n",
    "    ON \n",
    "        orders.state = state.state_name\n",
    "    \n",
    ";"
   ]
  },
  {
   "cell_type": "markdown",
   "metadata": {},
   "source": [
    "Now that we've gotten the old data ported over, we want to set up the database to \n",
    "create new customer_ids that do not conflict with the inherited data."
   ]
  },
  {
   "cell_type": "code",
   "execution_count": 18,
   "metadata": {},
   "outputs": [],
   "source": [
    "def make_a_default_counter(table, column ):\n",
    "    max_id = %sql SELECT MAX($column) max_used from $table\n",
    "    starting_value = max_id.loc[0,'max_used'] + 1\n",
    "    seq_name = 'seq_' + column\n",
    "    quoted_name = \"'\" + seq_name + \"'\"\n",
    "    %sql CREATE SEQUENCE $seq_name START $starting_value; \n",
    "    %sql ALTER TABLE $table ALTER COLUMN $column SET DEFAULT NEXTVAL($quoted_name);"
   ]
  },
  {
   "cell_type": "code",
   "execution_count": 19,
   "metadata": {},
   "outputs": [
    {
     "name": "stdout",
     "output_type": "stream",
     "text": [
      " * postgres://localhost/ex_superstore_normalize\n",
      " * postgres://localhost/ex_superstore_normalize\n",
      " * postgres://localhost/ex_superstore_normalize\n"
     ]
    }
   ],
   "source": [
    "make_a_default_counter('customer', 'customer_id')"
   ]
  },
  {
   "cell_type": "markdown",
   "metadata": {},
   "source": [
    "## Orders and order items"
   ]
  },
  {
   "cell_type": "markdown",
   "metadata": {},
   "source": [
    "See the EDA.ipynb for queries that demonstrate the following (non-intuitive) properties\n",
    "of the order database:\n",
    "\n",
    "- The entire order has one order date, but items can have separate ship dates, ship modes, and priority\n",
    "- The same order_id can have multiple customer_id's associated with it \n",
    "- Two different order_id's can re-use the same row_id for order items\n",
    "- Customers can have two different 'customer_segment' values in two different orders, so it's not really \n",
    "a per-customer attribute"
   ]
  },
  {
   "cell_type": "code",
   "execution_count": 20,
   "metadata": {},
   "outputs": [
    {
     "name": "stdout",
     "output_type": "stream",
     "text": [
      " * postgres://localhost/ex_superstore_normalize\n",
      " * postgres://localhost/ex_superstore_normalize\n",
      " * postgres://localhost/ex_superstore_normalize\n",
      " * postgres://localhost/ex_superstore_normalize\n",
      " * postgres://localhost/ex_superstore_normalize\n",
      " * postgres://localhost/ex_superstore_normalize\n"
     ]
    }
   ],
   "source": [
    "make_enum( 'customer_segment', 'segment_t')\n",
    "make_enum( 'order_priority', 'priority_code_t')\n",
    "make_enum( 'ship_mode', 'ship_mode_t')"
   ]
  },
  {
   "cell_type": "markdown",
   "metadata": {},
   "source": [
    "The name \"orders\" is being used by the old database, so\n",
    "named the normalized version orders_n. (Probably would be \n",
    "better to copy from one database to another.) "
   ]
  },
  {
   "cell_type": "code",
   "execution_count": 21,
   "metadata": {},
   "outputs": [
    {
     "name": "stdout",
     "output_type": "stream",
     "text": [
      " * postgres://localhost/ex_superstore_normalize\n"
     ]
    },
    {
     "data": {
      "text/html": [
       "<div>\n",
       "<style scoped>\n",
       "    .dataframe tbody tr th:only-of-type {\n",
       "        vertical-align: middle;\n",
       "    }\n",
       "\n",
       "    .dataframe tbody tr th {\n",
       "        vertical-align: top;\n",
       "    }\n",
       "\n",
       "    .dataframe thead th {\n",
       "        text-align: right;\n",
       "    }\n",
       "</style>\n",
       "<table border=\"1\" class=\"dataframe\">\n",
       "  <thead>\n",
       "    <tr style=\"text-align: right;\">\n",
       "      <th></th>\n",
       "    </tr>\n",
       "  </thead>\n",
       "  <tbody>\n",
       "  </tbody>\n",
       "</table>\n",
       "</div>"
      ],
      "text/plain": [
       "Empty DataFrame\n",
       "Columns: []\n",
       "Index: []"
      ]
     },
     "execution_count": 21,
     "metadata": {},
     "output_type": "execute_result"
    }
   ],
   "source": [
    "%%sql\n",
    "CREATE TABLE orders_n (\n",
    "    order_id INTEGER,\n",
    "    customer_id INTEGER,\n",
    "    segment segment_t,\n",
    "    order_date TIMESTAMP DEFAULT 'today'::TIMESTAMP,\n",
    "    \n",
    "    /* same order_id is re-used across customer ids \n",
    "       in the legacy data ??!! \n",
    "    */\n",
    "    PRIMARY KEY (order_id, customer_id),\n",
    "    FOREIGN KEY (customer_id) REFERENCES\n",
    "        customer (customer_id)\n",
    ");"
   ]
  },
  {
   "cell_type": "code",
   "execution_count": 22,
   "metadata": {},
   "outputs": [
    {
     "name": "stdout",
     "output_type": "stream",
     "text": [
      " * postgres://localhost/ex_superstore_normalize\n"
     ]
    },
    {
     "data": {
      "text/html": [
       "<div>\n",
       "<style scoped>\n",
       "    .dataframe tbody tr th:only-of-type {\n",
       "        vertical-align: middle;\n",
       "    }\n",
       "\n",
       "    .dataframe tbody tr th {\n",
       "        vertical-align: top;\n",
       "    }\n",
       "\n",
       "    .dataframe thead th {\n",
       "        text-align: right;\n",
       "    }\n",
       "</style>\n",
       "<table border=\"1\" class=\"dataframe\">\n",
       "  <thead>\n",
       "    <tr style=\"text-align: right;\">\n",
       "      <th></th>\n",
       "    </tr>\n",
       "  </thead>\n",
       "  <tbody>\n",
       "  </tbody>\n",
       "</table>\n",
       "</div>"
      ],
      "text/plain": [
       "Empty DataFrame\n",
       "Columns: []\n",
       "Index: []"
      ]
     },
     "execution_count": 22,
     "metadata": {},
     "output_type": "execute_result"
    }
   ],
   "source": [
    "%%sql\n",
    "INSERT INTO orders_n ( \n",
    "    order_id, \n",
    "    customer_id, \n",
    "    segment, \n",
    "    order_date \n",
    ")\n",
    "SELECT DISTINCT\n",
    "    order_id, \n",
    "    customer_id, \n",
    "    customer_segment::segment_t, \n",
    "    order_date\n",
    "FROM \n",
    "    orders\n",
    ";"
   ]
  },
  {
   "cell_type": "code",
   "execution_count": 23,
   "metadata": {},
   "outputs": [
    {
     "name": "stdout",
     "output_type": "stream",
     "text": [
      " * postgres://localhost/ex_superstore_normalize\n",
      " * postgres://localhost/ex_superstore_normalize\n",
      " * postgres://localhost/ex_superstore_normalize\n"
     ]
    }
   ],
   "source": [
    "make_a_default_counter('orders_n', 'order_id')"
   ]
  },
  {
   "cell_type": "code",
   "execution_count": 24,
   "metadata": {},
   "outputs": [
    {
     "name": "stdout",
     "output_type": "stream",
     "text": [
      " * postgres://localhost/ex_superstore_normalize\n"
     ]
    },
    {
     "data": {
      "text/html": [
       "<div>\n",
       "<style scoped>\n",
       "    .dataframe tbody tr th:only-of-type {\n",
       "        vertical-align: middle;\n",
       "    }\n",
       "\n",
       "    .dataframe tbody tr th {\n",
       "        vertical-align: top;\n",
       "    }\n",
       "\n",
       "    .dataframe thead th {\n",
       "        text-align: right;\n",
       "    }\n",
       "</style>\n",
       "<table border=\"1\" class=\"dataframe\">\n",
       "  <thead>\n",
       "    <tr style=\"text-align: right;\">\n",
       "      <th></th>\n",
       "    </tr>\n",
       "  </thead>\n",
       "  <tbody>\n",
       "  </tbody>\n",
       "</table>\n",
       "</div>"
      ],
      "text/plain": [
       "Empty DataFrame\n",
       "Columns: []\n",
       "Index: []"
      ]
     },
     "execution_count": 24,
     "metadata": {},
     "output_type": "execute_result"
    }
   ],
   "source": [
    "%%sql\n",
    "CREATE TABLE order_item (\n",
    "    row_id INTEGER,\n",
    "    order_id INTEGER,\n",
    "    customer_id INTEGER,\n",
    "    product_id INTEGER,\n",
    "    discount REAL,\n",
    "    unit_price REAL,\n",
    "    base_margin REAL,\n",
    "    ship_mode ship_mode_t,\n",
    "    shipping_cost REAL,\n",
    "    ship_date TIMESTAMP,\n",
    "    quantity_ordered_new INTEGER,\n",
    "    profit REAL,\n",
    "    sales REAL,\n",
    "    priority priority_code_t DEFAULT 'Not Specified'::priority_code_t,\n",
    "    \n",
    "    /* the row_id in the original orders table is not a \n",
    "       unique identifier, so this is a two-part key */\n",
    "    PRIMARY KEY (row_id, order_id),\n",
    "    FOREIGN KEY (order_id, customer_id) \n",
    "        REFERENCES orders_n (order_id, customer_id),\n",
    "    FOREIGN KEY (product_id)\n",
    "        REFERENCES products (product_id)\n",
    ");"
   ]
  },
  {
   "cell_type": "code",
   "execution_count": 25,
   "metadata": {},
   "outputs": [
    {
     "name": "stdout",
     "output_type": "stream",
     "text": [
      " * postgres://localhost/ex_superstore_normalize\n"
     ]
    },
    {
     "data": {
      "text/html": [
       "<div>\n",
       "<style scoped>\n",
       "    .dataframe tbody tr th:only-of-type {\n",
       "        vertical-align: middle;\n",
       "    }\n",
       "\n",
       "    .dataframe tbody tr th {\n",
       "        vertical-align: top;\n",
       "    }\n",
       "\n",
       "    .dataframe thead th {\n",
       "        text-align: right;\n",
       "    }\n",
       "</style>\n",
       "<table border=\"1\" class=\"dataframe\">\n",
       "  <thead>\n",
       "    <tr style=\"text-align: right;\">\n",
       "      <th></th>\n",
       "    </tr>\n",
       "  </thead>\n",
       "  <tbody>\n",
       "  </tbody>\n",
       "</table>\n",
       "</div>"
      ],
      "text/plain": [
       "Empty DataFrame\n",
       "Columns: []\n",
       "Index: []"
      ]
     },
     "execution_count": 25,
     "metadata": {},
     "output_type": "execute_result"
    }
   ],
   "source": [
    "%%sql\n",
    "INSERT INTO order_item (\n",
    "    row_id, \n",
    "    order_id, \n",
    "    customer_id, \n",
    "    product_id, \n",
    "    discount, \n",
    "    unit_price,\n",
    "    base_margin, \n",
    "    ship_mode, \n",
    "    ship_date,\n",
    "    shipping_cost, \n",
    "    quantity_ordered_new, \n",
    "    profit, \n",
    "    sales,\n",
    "    priority)\n",
    "SELECT\n",
    "    row_id, \n",
    "    order_id, \n",
    "    customer_id, \n",
    "    product_id, \n",
    "    discount, \n",
    "    unit_price, \n",
    "    product_base_margin,\n",
    "    ship_mode::ship_mode_t, \n",
    "    ship_date,\n",
    "    shipping_cost, \n",
    "    quantity_ordered_new, \n",
    "    profit, \n",
    "    sales,\n",
    "    order_priority::priority_code_t\n",
    "FROM\n",
    "        orders\n",
    "    JOIN\n",
    "        products\n",
    "    ON \n",
    "        products.product_name =  orders.product_name\n",
    ";"
   ]
  },
  {
   "cell_type": "code",
   "execution_count": 26,
   "metadata": {},
   "outputs": [
    {
     "name": "stdout",
     "output_type": "stream",
     "text": [
      " * postgres://localhost/ex_superstore_normalize\n"
     ]
    },
    {
     "data": {
      "text/html": [
       "<div>\n",
       "<style scoped>\n",
       "    .dataframe tbody tr th:only-of-type {\n",
       "        vertical-align: middle;\n",
       "    }\n",
       "\n",
       "    .dataframe tbody tr th {\n",
       "        vertical-align: top;\n",
       "    }\n",
       "\n",
       "    .dataframe thead th {\n",
       "        text-align: right;\n",
       "    }\n",
       "</style>\n",
       "<table border=\"1\" class=\"dataframe\">\n",
       "  <thead>\n",
       "    <tr style=\"text-align: right;\">\n",
       "      <th></th>\n",
       "      <th>count</th>\n",
       "    </tr>\n",
       "  </thead>\n",
       "  <tbody>\n",
       "    <tr>\n",
       "      <th>0</th>\n",
       "      <td>1952</td>\n",
       "    </tr>\n",
       "  </tbody>\n",
       "</table>\n",
       "</div>"
      ],
      "text/plain": [
       "   count\n",
       "0   1952"
      ]
     },
     "execution_count": 26,
     "metadata": {},
     "output_type": "execute_result"
    }
   ],
   "source": [
    "# sanity check\n",
    "%sql select count(*) from orders;"
   ]
  },
  {
   "cell_type": "code",
   "execution_count": 27,
   "metadata": {},
   "outputs": [
    {
     "name": "stdout",
     "output_type": "stream",
     "text": [
      " * postgres://localhost/ex_superstore_normalize\n",
      " * postgres://localhost/ex_superstore_normalize\n",
      " * postgres://localhost/ex_superstore_normalize\n"
     ]
    }
   ],
   "source": [
    "make_a_default_counter('order_item', 'row_id')"
   ]
  },
  {
   "cell_type": "markdown",
   "metadata": {},
   "source": [
    "## Testing\n",
    "\n",
    "To test:\n",
    "1. Createa a view that mimics the original data table\n",
    "2. Compare the joined data to the original data and check for errors"
   ]
  },
  {
   "cell_type": "code",
   "execution_count": 28,
   "metadata": {},
   "outputs": [
    {
     "name": "stdout",
     "output_type": "stream",
     "text": [
      " * postgres://localhost/ex_superstore_normalize\n"
     ]
    },
    {
     "data": {
      "text/html": [
       "<div>\n",
       "<style scoped>\n",
       "    .dataframe tbody tr th:only-of-type {\n",
       "        vertical-align: middle;\n",
       "    }\n",
       "\n",
       "    .dataframe tbody tr th {\n",
       "        vertical-align: top;\n",
       "    }\n",
       "\n",
       "    .dataframe thead th {\n",
       "        text-align: right;\n",
       "    }\n",
       "</style>\n",
       "<table border=\"1\" class=\"dataframe\">\n",
       "  <thead>\n",
       "    <tr style=\"text-align: right;\">\n",
       "      <th></th>\n",
       "    </tr>\n",
       "  </thead>\n",
       "  <tbody>\n",
       "  </tbody>\n",
       "</table>\n",
       "</div>"
      ],
      "text/plain": [
       "Empty DataFrame\n",
       "Columns: []\n",
       "Index: []"
      ]
     },
     "execution_count": 28,
     "metadata": {},
     "output_type": "execute_result"
    }
   ],
   "source": [
    "%%sql\n",
    "CREATE VIEW \n",
    "    rejoined AS\n",
    "SELECT \n",
    "    i.row_id,\n",
    "    i.priority order_priority,\n",
    "    i.discount,\n",
    "    i.unit_price,\n",
    "    i.shipping_cost,\n",
    "    cu.customer_id,\n",
    "    cu.customer_name,\n",
    "    i.ship_mode,\n",
    "    o.segment customer_segment,\n",
    "    p.product_category,\n",
    "    p.product_subcategory,\n",
    "    p.product_container,\n",
    "    p.product_name,\n",
    "    i.base_margin product_base_margin,\n",
    "    'United States' country,\n",
    "    st.region,\n",
    "    st.state_name state,\n",
    "    cu.city,\n",
    "    cu.postal_code,\n",
    "    o.order_date,\n",
    "    i.ship_date,\n",
    "    i.profit,\n",
    "    i.quantity_ordered_new,\n",
    "    i.sales,\n",
    "    i.order_id\n",
    "FROM\n",
    "    order_item i\n",
    "    JOIN \n",
    "        orders_n o\n",
    "    ON\n",
    "        o.order_id = i.order_id\n",
    "        and\n",
    "        o.customer_id = i.customer_id\n",
    "    JOIN\n",
    "        products p\n",
    "    ON\n",
    "        i.product_id = p.product_id\n",
    "    JOIN\n",
    "        customer cu\n",
    "    ON\n",
    "        cu.customer_id = o.customer_id\n",
    "    JOIN\n",
    "        state st\n",
    "    ON\n",
    "        cu.state_id = st.state_id\n",
    ";"
   ]
  },
  {
   "cell_type": "code",
   "execution_count": 29,
   "metadata": {},
   "outputs": [
    {
     "name": "stdout",
     "output_type": "stream",
     "text": [
      " * postgres://localhost/ex_superstore_normalize\n",
      " * postgres://localhost/ex_superstore_normalize\n"
     ]
    }
   ],
   "source": [
    "original = %sql SELECT * FROM orders ORDER BY customer_id, row_id;\n",
    "normalized = %sql SELECT * FROM rejoined ORDER BY customer_id, row_id;"
   ]
  },
  {
   "cell_type": "code",
   "execution_count": 30,
   "metadata": {},
   "outputs": [],
   "source": [
    "assert(original.shape == normalized.shape)"
   ]
  },
  {
   "cell_type": "code",
   "execution_count": 31,
   "metadata": {},
   "outputs": [],
   "source": [
    "# see EDA notebook - this field has NULLs which \n",
    "# pandas won't ever compare as equal, even to another NULL\n",
    "original.product_base_margin = original.product_base_margin.fillna(0)\n",
    "normalized.product_base_margin = normalized.product_base_margin.fillna(0)"
   ]
  },
  {
   "cell_type": "code",
   "execution_count": 32,
   "metadata": {},
   "outputs": [],
   "source": [
    "compare = (original == normalized) \n",
    "assert(compare.all(axis=0).all())\n",
    "    "
   ]
  },
  {
   "cell_type": "code",
   "execution_count": 33,
   "metadata": {},
   "outputs": [
    {
     "name": "stdout",
     "output_type": "stream",
     "text": [
      " * postgres://localhost/ex_superstore_normalize\n"
     ]
    },
    {
     "data": {
      "text/html": [
       "<div>\n",
       "<style scoped>\n",
       "    .dataframe tbody tr th:only-of-type {\n",
       "        vertical-align: middle;\n",
       "    }\n",
       "\n",
       "    .dataframe tbody tr th {\n",
       "        vertical-align: top;\n",
       "    }\n",
       "\n",
       "    .dataframe thead th {\n",
       "        text-align: right;\n",
       "    }\n",
       "</style>\n",
       "<table border=\"1\" class=\"dataframe\">\n",
       "  <thead>\n",
       "    <tr style=\"text-align: right;\">\n",
       "      <th></th>\n",
       "    </tr>\n",
       "  </thead>\n",
       "  <tbody>\n",
       "  </tbody>\n",
       "</table>\n",
       "</div>"
      ],
      "text/plain": [
       "Empty DataFrame\n",
       "Columns: []\n",
       "Index: []"
      ]
     },
     "execution_count": 33,
     "metadata": {},
     "output_type": "execute_result"
    }
   ],
   "source": [
    "%%sql\n",
    "/* drop the old tables before creating the image of the new schema */\n",
    "DROP TABLE orders;\n",
    "DROP TABLE returns;"
   ]
  },
  {
   "cell_type": "markdown",
   "metadata": {},
   "source": [
    "# Create schema diagram of final result "
   ]
  },
  {
   "cell_type": "code",
   "execution_count": 34,
   "metadata": {},
   "outputs": [],
   "source": [
    "connection = \"postgres://localhost/ex_superstore_normalize\"\n",
    "graph = create_schema_graph(metadata=MetaData(connection), \n",
    "                            show_datatypes=True, # show datatypes\n",
    "                            show_indexes=True, # show index (in ourcase unique)\n",
    "                            rankdir='LR', # left to right alignment\n",
    "                            concentrate=False)\n",
    "graph.write_svg('images/database_schema_diagram.svg', f='svg:cairo', prog='dot')"
   ]
  },
  {
   "cell_type": "markdown",
   "metadata": {},
   "source": [
    "![image](images/database_schema_diagram.svg 'schema')"
   ]
  },
  {
   "cell_type": "markdown",
   "metadata": {},
   "source": [
    "# Additional testing \n",
    "Make sure the new schema isn't too complex to use. May want to create some views with additional joins, \n",
    "for example, if these basic operations are difficult. I also went back and did things like creating a \n",
    "default order date ('today') for the orders table due to the testing below."
   ]
  },
  {
   "cell_type": "code",
   "execution_count": 35,
   "metadata": {},
   "outputs": [],
   "source": [
    "## Look up a customer and get their orders"
   ]
  },
  {
   "cell_type": "code",
   "execution_count": 36,
   "metadata": {},
   "outputs": [
    {
     "name": "stdout",
     "output_type": "stream",
     "text": [
      " * postgres://localhost/ex_superstore_normalize\n"
     ]
    },
    {
     "data": {
      "text/plain": [
       "507"
      ]
     },
     "execution_count": 36,
     "metadata": {},
     "output_type": "execute_result"
    }
   ],
   "source": [
    "# grab a random customer (we're still in autopandas mode!)\n",
    "customer_id = %sql SELECT customer_id FROM customer ORDER BY RANDOM() LIMIT 1;\n",
    "customer_id = customer_id.customer_id.iloc[0]\n",
    "customer_id"
   ]
  },
  {
   "cell_type": "code",
   "execution_count": 37,
   "metadata": {},
   "outputs": [
    {
     "name": "stdout",
     "output_type": "stream",
     "text": [
      " * postgres://localhost/ex_superstore_normalize\n"
     ]
    },
    {
     "data": {
      "text/html": [
       "<div>\n",
       "<style scoped>\n",
       "    .dataframe tbody tr th:only-of-type {\n",
       "        vertical-align: middle;\n",
       "    }\n",
       "\n",
       "    .dataframe tbody tr th {\n",
       "        vertical-align: top;\n",
       "    }\n",
       "\n",
       "    .dataframe thead th {\n",
       "        text-align: right;\n",
       "    }\n",
       "</style>\n",
       "<table border=\"1\" class=\"dataframe\">\n",
       "  <thead>\n",
       "    <tr style=\"text-align: right;\">\n",
       "      <th></th>\n",
       "      <th>customer_id</th>\n",
       "      <th>customer_name</th>\n",
       "      <th>order_id</th>\n",
       "      <th>order_date</th>\n",
       "      <th>product_name</th>\n",
       "      <th>unit_price</th>\n",
       "      <th>quantity_ordered_new</th>\n",
       "      <th>ship_date</th>\n",
       "    </tr>\n",
       "  </thead>\n",
       "  <tbody>\n",
       "    <tr>\n",
       "      <th>0</th>\n",
       "      <td>507</td>\n",
       "      <td>Carol Saunders</td>\n",
       "      <td>87357</td>\n",
       "      <td>2015-04-18</td>\n",
       "      <td>Xerox 1920</td>\n",
       "      <td>5.98</td>\n",
       "      <td>14</td>\n",
       "      <td>2015-02-13</td>\n",
       "    </tr>\n",
       "    <tr>\n",
       "      <th>1</th>\n",
       "      <td>507</td>\n",
       "      <td>Carol Saunders</td>\n",
       "      <td>87357</td>\n",
       "      <td>2015-04-18</td>\n",
       "      <td>5185</td>\n",
       "      <td>115.99</td>\n",
       "      <td>11</td>\n",
       "      <td>2015-04-13</td>\n",
       "    </tr>\n",
       "    <tr>\n",
       "      <th>2</th>\n",
       "      <td>507</td>\n",
       "      <td>Carol Saunders</td>\n",
       "      <td>87357</td>\n",
       "      <td>2015-04-18</td>\n",
       "      <td>5185</td>\n",
       "      <td>115.99</td>\n",
       "      <td>20</td>\n",
       "      <td>2015-05-04</td>\n",
       "    </tr>\n",
       "    <tr>\n",
       "      <th>3</th>\n",
       "      <td>507</td>\n",
       "      <td>Carol Saunders</td>\n",
       "      <td>87357</td>\n",
       "      <td>2015-04-18</td>\n",
       "      <td>2300 Heavy-Duty Transfer File Systems by Perma</td>\n",
       "      <td>24.98</td>\n",
       "      <td>23</td>\n",
       "      <td>2015-05-01</td>\n",
       "    </tr>\n",
       "    <tr>\n",
       "      <th>4</th>\n",
       "      <td>507</td>\n",
       "      <td>Carol Saunders</td>\n",
       "      <td>87357</td>\n",
       "      <td>2015-04-18</td>\n",
       "      <td>EcoTones® Memo Sheets</td>\n",
       "      <td>4.00</td>\n",
       "      <td>12</td>\n",
       "      <td>2015-01-09</td>\n",
       "    </tr>\n",
       "    <tr>\n",
       "      <th>5</th>\n",
       "      <td>507</td>\n",
       "      <td>Carol Saunders</td>\n",
       "      <td>87357</td>\n",
       "      <td>2015-04-18</td>\n",
       "      <td>EcoTones® Memo Sheets</td>\n",
       "      <td>4.00</td>\n",
       "      <td>14</td>\n",
       "      <td>2015-05-04</td>\n",
       "    </tr>\n",
       "    <tr>\n",
       "      <th>6</th>\n",
       "      <td>507</td>\n",
       "      <td>Carol Saunders</td>\n",
       "      <td>87357</td>\n",
       "      <td>2015-04-18</td>\n",
       "      <td>EcoTones® Memo Sheets</td>\n",
       "      <td>4.00</td>\n",
       "      <td>19</td>\n",
       "      <td>2015-04-06</td>\n",
       "    </tr>\n",
       "    <tr>\n",
       "      <th>7</th>\n",
       "      <td>507</td>\n",
       "      <td>Carol Saunders</td>\n",
       "      <td>87357</td>\n",
       "      <td>2015-04-18</td>\n",
       "      <td>EcoTones® Memo Sheets</td>\n",
       "      <td>4.00</td>\n",
       "      <td>5</td>\n",
       "      <td>2015-04-06</td>\n",
       "    </tr>\n",
       "    <tr>\n",
       "      <th>8</th>\n",
       "      <td>507</td>\n",
       "      <td>Carol Saunders</td>\n",
       "      <td>87357</td>\n",
       "      <td>2015-04-18</td>\n",
       "      <td>Surelock™ Post Binders</td>\n",
       "      <td>30.56</td>\n",
       "      <td>17</td>\n",
       "      <td>2015-05-27</td>\n",
       "    </tr>\n",
       "    <tr>\n",
       "      <th>9</th>\n",
       "      <td>507</td>\n",
       "      <td>Carol Saunders</td>\n",
       "      <td>87357</td>\n",
       "      <td>2015-04-18</td>\n",
       "      <td>Surelock™ Post Binders</td>\n",
       "      <td>30.56</td>\n",
       "      <td>12</td>\n",
       "      <td>2015-02-07</td>\n",
       "    </tr>\n",
       "  </tbody>\n",
       "</table>\n",
       "</div>"
      ],
      "text/plain": [
       "   customer_id   customer_name  order_id order_date  \\\n",
       "0          507  Carol Saunders     87357 2015-04-18   \n",
       "1          507  Carol Saunders     87357 2015-04-18   \n",
       "2          507  Carol Saunders     87357 2015-04-18   \n",
       "3          507  Carol Saunders     87357 2015-04-18   \n",
       "4          507  Carol Saunders     87357 2015-04-18   \n",
       "5          507  Carol Saunders     87357 2015-04-18   \n",
       "6          507  Carol Saunders     87357 2015-04-18   \n",
       "7          507  Carol Saunders     87357 2015-04-18   \n",
       "8          507  Carol Saunders     87357 2015-04-18   \n",
       "9          507  Carol Saunders     87357 2015-04-18   \n",
       "\n",
       "                                     product_name  unit_price  \\\n",
       "0                                      Xerox 1920        5.98   \n",
       "1                                            5185      115.99   \n",
       "2                                            5185      115.99   \n",
       "3  2300 Heavy-Duty Transfer File Systems by Perma       24.98   \n",
       "4                           EcoTones® Memo Sheets        4.00   \n",
       "5                           EcoTones® Memo Sheets        4.00   \n",
       "6                           EcoTones® Memo Sheets        4.00   \n",
       "7                           EcoTones® Memo Sheets        4.00   \n",
       "8                          Surelock™ Post Binders       30.56   \n",
       "9                          Surelock™ Post Binders       30.56   \n",
       "\n",
       "   quantity_ordered_new  ship_date  \n",
       "0                    14 2015-02-13  \n",
       "1                    11 2015-04-13  \n",
       "2                    20 2015-05-04  \n",
       "3                    23 2015-05-01  \n",
       "4                    12 2015-01-09  \n",
       "5                    14 2015-05-04  \n",
       "6                    19 2015-04-06  \n",
       "7                     5 2015-04-06  \n",
       "8                    17 2015-05-27  \n",
       "9                    12 2015-02-07  "
      ]
     },
     "execution_count": 37,
     "metadata": {},
     "output_type": "execute_result"
    }
   ],
   "source": [
    "query = f\"\"\"\n",
    "SELECT \n",
    "    o.customer_id,\n",
    "    c.customer_name,\n",
    "    o.order_id,\n",
    "    o.order_date,\n",
    "    p.product_name,\n",
    "    i.unit_price,\n",
    "    i.quantity_ordered_new,\n",
    "    i.ship_date\n",
    "FROM \n",
    "        orders_n o\n",
    "    JOIN\n",
    "        order_item  i\n",
    "    ON\n",
    "        o.order_id = o.order_id\n",
    "    JOIN\n",
    "        products p\n",
    "    ON\n",
    "        p.product_id = i.product_id\n",
    "    JOIN\n",
    "        customer c\n",
    "    ON\n",
    "        o.customer_id = c.customer_id\n",
    "WHERE\n",
    "    o.customer_id = {customer_id}\n",
    "ORDER BY\n",
    "    order_id\n",
    "LIMIT \n",
    "    10\n",
    ";\n",
    "\"\"\"\n",
    "%sql $query"
   ]
  },
  {
   "cell_type": "markdown",
   "metadata": {},
   "source": [
    "## How to create a new customer"
   ]
  },
  {
   "cell_type": "code",
   "execution_count": 38,
   "metadata": {},
   "outputs": [
    {
     "name": "stdout",
     "output_type": "stream",
     "text": [
      " * postgres://localhost/ex_superstore_normalize\n"
     ]
    },
    {
     "data": {
      "text/html": [
       "<div>\n",
       "<style scoped>\n",
       "    .dataframe tbody tr th:only-of-type {\n",
       "        vertical-align: middle;\n",
       "    }\n",
       "\n",
       "    .dataframe tbody tr th {\n",
       "        vertical-align: top;\n",
       "    }\n",
       "\n",
       "    .dataframe thead th {\n",
       "        text-align: right;\n",
       "    }\n",
       "</style>\n",
       "<table border=\"1\" class=\"dataframe\">\n",
       "  <thead>\n",
       "    <tr style=\"text-align: right;\">\n",
       "      <th></th>\n",
       "      <th>customer_id</th>\n",
       "    </tr>\n",
       "  </thead>\n",
       "  <tbody>\n",
       "    <tr>\n",
       "      <th>0</th>\n",
       "      <td>3404</td>\n",
       "    </tr>\n",
       "  </tbody>\n",
       "</table>\n",
       "</div>"
      ],
      "text/plain": [
       "   customer_id\n",
       "0         3404"
      ]
     },
     "execution_count": 38,
     "metadata": {},
     "output_type": "execute_result"
    }
   ],
   "source": [
    "%%sql \n",
    "INSERT INTO \n",
    "    customer (customer_name, state_id, city, postal_code )\n",
    "VALUES  \n",
    "    ('New Customer', 'WA', 'AnyTown', 12345 )\n",
    "RETURNING \n",
    "    customer_id\n",
    ";"
   ]
  },
  {
   "cell_type": "code",
   "execution_count": 39,
   "metadata": {},
   "outputs": [],
   "source": [
    "customer_id = _.loc[0,'customer_id']"
   ]
  },
  {
   "cell_type": "markdown",
   "metadata": {},
   "source": [
    "## How to create a new order\n",
    "\n",
    "The order_id automatically populates. Order date will be \"today\"."
   ]
  },
  {
   "cell_type": "code",
   "execution_count": 40,
   "metadata": {},
   "outputs": [
    {
     "name": "stdout",
     "output_type": "stream",
     "text": [
      " * postgres://localhost/ex_superstore_normalize\n"
     ]
    },
    {
     "data": {
      "text/plain": [
       "91587"
      ]
     },
     "execution_count": 40,
     "metadata": {},
     "output_type": "execute_result"
    }
   ],
   "source": [
    "query = f\"\"\"\n",
    "INSERT INTO\n",
    "    orders_n (customer_id, segment)\n",
    "VALUES\n",
    "    ( {customer_id}, 'Small Business'::segment_t)\n",
    "RETURNING\n",
    "    order_id\n",
    "\"\"\"\n",
    "order_id = %sql $query\n",
    "# get the order number out of the returned \n",
    "# one-row, one-column table\n",
    "order_id = order_id.order_id.iloc[0]\n",
    "order_id"
   ]
  },
  {
   "cell_type": "code",
   "execution_count": 41,
   "metadata": {},
   "outputs": [
    {
     "data": {
      "text/plain": [
       "91587"
      ]
     },
     "execution_count": 41,
     "metadata": {},
     "output_type": "execute_result"
    }
   ],
   "source": [
    "order_id"
   ]
  },
  {
   "cell_type": "markdown",
   "metadata": {},
   "source": [
    "Just select three random products for our new order"
   ]
  },
  {
   "cell_type": "code",
   "execution_count": 42,
   "metadata": {},
   "outputs": [
    {
     "name": "stdout",
     "output_type": "stream",
     "text": [
      " * postgres://localhost/ex_superstore_normalize\n"
     ]
    },
    {
     "data": {
      "text/html": [
       "<div>\n",
       "<style scoped>\n",
       "    .dataframe tbody tr th:only-of-type {\n",
       "        vertical-align: middle;\n",
       "    }\n",
       "\n",
       "    .dataframe tbody tr th {\n",
       "        vertical-align: top;\n",
       "    }\n",
       "\n",
       "    .dataframe thead th {\n",
       "        text-align: right;\n",
       "    }\n",
       "</style>\n",
       "<table border=\"1\" class=\"dataframe\">\n",
       "  <thead>\n",
       "    <tr style=\"text-align: right;\">\n",
       "      <th></th>\n",
       "      <th>product_id</th>\n",
       "    </tr>\n",
       "  </thead>\n",
       "  <tbody>\n",
       "    <tr>\n",
       "      <th>0</th>\n",
       "      <td>580</td>\n",
       "    </tr>\n",
       "    <tr>\n",
       "      <th>1</th>\n",
       "      <td>628</td>\n",
       "    </tr>\n",
       "    <tr>\n",
       "      <th>2</th>\n",
       "      <td>768</td>\n",
       "    </tr>\n",
       "  </tbody>\n",
       "</table>\n",
       "</div>"
      ],
      "text/plain": [
       "   product_id\n",
       "0         580\n",
       "1         628\n",
       "2         768"
      ]
     },
     "execution_count": 42,
     "metadata": {},
     "output_type": "execute_result"
    }
   ],
   "source": [
    "%%sql\n",
    "SELECT \n",
    "    product_id\n",
    "FROM\n",
    "    products\n",
    "ORDER BY \n",
    "    RANDOM()\n",
    "LIMIT\n",
    "    3;"
   ]
  },
  {
   "cell_type": "markdown",
   "metadata": {},
   "source": [
    "Add items to the sale (using random numbers here)"
   ]
  },
  {
   "cell_type": "code",
   "execution_count": 43,
   "metadata": {},
   "outputs": [
    {
     "name": "stdout",
     "output_type": "stream",
     "text": [
      " * postgres://localhost/ex_superstore_normalize\n",
      " * postgres://localhost/ex_superstore_normalize\n",
      " * postgres://localhost/ex_superstore_normalize\n"
     ]
    }
   ],
   "source": [
    "random_products = _.product_id.values\n",
    "\n",
    "# create the sale\n",
    "for i,product_id in enumerate(random_products):\n",
    "    quantity = i+1\n",
    "    query = f\"\"\"\n",
    "INSERT INTO\n",
    "    order_item (order_id, \n",
    "                customer_id, \n",
    "                product_id, \n",
    "                discount, \n",
    "                unit_price, \n",
    "                base_margin, \n",
    "                quantity_ordered_new, \n",
    "                sales)\n",
    "VALUES (\n",
    "    {order_id},\n",
    "    {customer_id},\n",
    "    {product_id},\n",
    "    .01,\n",
    "    12.34,\n",
    "    11.12,\n",
    "    {quantity},\n",
    "    12.34 * {quantity}\n",
    ");\n",
    "\"\"\"\n",
    "    %sql $query"
   ]
  },
  {
   "cell_type": "markdown",
   "metadata": {},
   "source": [
    "See what we have so far"
   ]
  },
  {
   "cell_type": "code",
   "execution_count": 44,
   "metadata": {},
   "outputs": [
    {
     "data": {
      "text/plain": [
       "('91587', '3404')"
      ]
     },
     "execution_count": 44,
     "metadata": {},
     "output_type": "execute_result"
    }
   ],
   "source": [
    "# create string versions of numbers to do string substitution into query below\n",
    "s_order_id = str(order_id)\n",
    "s_customer_id = str(customer_id)\n",
    "s_order_id, s_customer_id"
   ]
  },
  {
   "cell_type": "code",
   "execution_count": 45,
   "metadata": {},
   "outputs": [
    {
     "name": "stdout",
     "output_type": "stream",
     "text": [
      " * postgres://localhost/ex_superstore_normalize\n"
     ]
    },
    {
     "data": {
      "text/html": [
       "<div>\n",
       "<style scoped>\n",
       "    .dataframe tbody tr th:only-of-type {\n",
       "        vertical-align: middle;\n",
       "    }\n",
       "\n",
       "    .dataframe tbody tr th {\n",
       "        vertical-align: top;\n",
       "    }\n",
       "\n",
       "    .dataframe thead th {\n",
       "        text-align: right;\n",
       "    }\n",
       "</style>\n",
       "<table border=\"1\" class=\"dataframe\">\n",
       "  <thead>\n",
       "    <tr style=\"text-align: right;\">\n",
       "      <th></th>\n",
       "      <th>order_id</th>\n",
       "      <th>customer_id</th>\n",
       "      <th>segment</th>\n",
       "      <th>order_date</th>\n",
       "      <th>row_id</th>\n",
       "      <th>order_id</th>\n",
       "      <th>customer_id</th>\n",
       "      <th>product_id</th>\n",
       "      <th>discount</th>\n",
       "      <th>unit_price</th>\n",
       "      <th>base_margin</th>\n",
       "      <th>ship_mode</th>\n",
       "      <th>shipping_cost</th>\n",
       "      <th>ship_date</th>\n",
       "      <th>quantity_ordered_new</th>\n",
       "      <th>profit</th>\n",
       "      <th>sales</th>\n",
       "      <th>priority</th>\n",
       "    </tr>\n",
       "  </thead>\n",
       "  <tbody>\n",
       "    <tr>\n",
       "      <th>0</th>\n",
       "      <td>91587</td>\n",
       "      <td>3404</td>\n",
       "      <td>Small Business</td>\n",
       "      <td>2019-05-09</td>\n",
       "      <td>26390</td>\n",
       "      <td>91587</td>\n",
       "      <td>3404</td>\n",
       "      <td>580</td>\n",
       "      <td>0.01</td>\n",
       "      <td>12.34</td>\n",
       "      <td>11.12</td>\n",
       "      <td>None</td>\n",
       "      <td>None</td>\n",
       "      <td>None</td>\n",
       "      <td>1</td>\n",
       "      <td>None</td>\n",
       "      <td>12.34</td>\n",
       "      <td>Not Specified</td>\n",
       "    </tr>\n",
       "    <tr>\n",
       "      <th>1</th>\n",
       "      <td>91587</td>\n",
       "      <td>3404</td>\n",
       "      <td>Small Business</td>\n",
       "      <td>2019-05-09</td>\n",
       "      <td>26391</td>\n",
       "      <td>91587</td>\n",
       "      <td>3404</td>\n",
       "      <td>628</td>\n",
       "      <td>0.01</td>\n",
       "      <td>12.34</td>\n",
       "      <td>11.12</td>\n",
       "      <td>None</td>\n",
       "      <td>None</td>\n",
       "      <td>None</td>\n",
       "      <td>2</td>\n",
       "      <td>None</td>\n",
       "      <td>24.68</td>\n",
       "      <td>Not Specified</td>\n",
       "    </tr>\n",
       "    <tr>\n",
       "      <th>2</th>\n",
       "      <td>91587</td>\n",
       "      <td>3404</td>\n",
       "      <td>Small Business</td>\n",
       "      <td>2019-05-09</td>\n",
       "      <td>26392</td>\n",
       "      <td>91587</td>\n",
       "      <td>3404</td>\n",
       "      <td>768</td>\n",
       "      <td>0.01</td>\n",
       "      <td>12.34</td>\n",
       "      <td>11.12</td>\n",
       "      <td>None</td>\n",
       "      <td>None</td>\n",
       "      <td>None</td>\n",
       "      <td>3</td>\n",
       "      <td>None</td>\n",
       "      <td>37.02</td>\n",
       "      <td>Not Specified</td>\n",
       "    </tr>\n",
       "  </tbody>\n",
       "</table>\n",
       "</div>"
      ],
      "text/plain": [
       "   order_id  customer_id         segment order_date  row_id  order_id  \\\n",
       "0     91587         3404  Small Business 2019-05-09   26390     91587   \n",
       "1     91587         3404  Small Business 2019-05-09   26391     91587   \n",
       "2     91587         3404  Small Business 2019-05-09   26392     91587   \n",
       "\n",
       "   customer_id  product_id  discount  unit_price  base_margin ship_mode  \\\n",
       "0         3404         580      0.01       12.34        11.12      None   \n",
       "1         3404         628      0.01       12.34        11.12      None   \n",
       "2         3404         768      0.01       12.34        11.12      None   \n",
       "\n",
       "  shipping_cost ship_date  quantity_ordered_new profit  sales       priority  \n",
       "0          None      None                     1   None  12.34  Not Specified  \n",
       "1          None      None                     2   None  24.68  Not Specified  \n",
       "2          None      None                     3   None  37.02  Not Specified  "
      ]
     },
     "execution_count": 45,
     "metadata": {},
     "output_type": "execute_result"
    }
   ],
   "source": [
    "%%sql\n",
    "SELECT \n",
    "    * \n",
    "FROM\n",
    "        orders_n\n",
    "    JOIN\n",
    "        order_item\n",
    "    ON\n",
    "        orders_n.order_id = order_item.order_id\n",
    "WHERE\n",
    "        orders_n.customer_id = :s_customer_id\n",
    "    AND\n",
    "        orders_n.order_id = :s_order_id\n",
    ";  "
   ]
  },
  {
   "cell_type": "markdown",
   "metadata": {},
   "source": [
    "Ship the items"
   ]
  },
  {
   "cell_type": "code",
   "execution_count": 46,
   "metadata": {},
   "outputs": [
    {
     "name": "stdout",
     "output_type": "stream",
     "text": [
      " * postgres://localhost/ex_superstore_normalize\n"
     ]
    },
    {
     "data": {
      "text/html": [
       "<div>\n",
       "<style scoped>\n",
       "    .dataframe tbody tr th:only-of-type {\n",
       "        vertical-align: middle;\n",
       "    }\n",
       "\n",
       "    .dataframe tbody tr th {\n",
       "        vertical-align: top;\n",
       "    }\n",
       "\n",
       "    .dataframe thead th {\n",
       "        text-align: right;\n",
       "    }\n",
       "</style>\n",
       "<table border=\"1\" class=\"dataframe\">\n",
       "  <thead>\n",
       "    <tr style=\"text-align: right;\">\n",
       "      <th></th>\n",
       "    </tr>\n",
       "  </thead>\n",
       "  <tbody>\n",
       "  </tbody>\n",
       "</table>\n",
       "</div>"
      ],
      "text/plain": [
       "Empty DataFrame\n",
       "Columns: []\n",
       "Index: []"
      ]
     },
     "execution_count": 46,
     "metadata": {},
     "output_type": "execute_result"
    }
   ],
   "source": [
    "%%sql\n",
    "UPDATE \n",
    "    order_item\n",
    "SET ( ship_mode, \n",
    "      shipping_cost, \n",
    "      ship_date, \n",
    "      profit \n",
    "    )\n",
    "=\n",
    "    ( 'Delivery Truck'::ship_mode_t,\n",
    "    6,\n",
    "    'TODAY'::TIMESTAMP,\n",
    "    sales - 6 \n",
    "    )\n",
    "WHERE\n",
    "        customer_id = :s_customer_id\n",
    "    AND\n",
    "        order_id = :s_order_id\n",
    ";"
   ]
  },
  {
   "cell_type": "code",
   "execution_count": 47,
   "metadata": {},
   "outputs": [
    {
     "name": "stdout",
     "output_type": "stream",
     "text": [
      " * postgres://localhost/ex_superstore_normalize\n"
     ]
    },
    {
     "data": {
      "text/html": [
       "<div>\n",
       "<style scoped>\n",
       "    .dataframe tbody tr th:only-of-type {\n",
       "        vertical-align: middle;\n",
       "    }\n",
       "\n",
       "    .dataframe tbody tr th {\n",
       "        vertical-align: top;\n",
       "    }\n",
       "\n",
       "    .dataframe thead th {\n",
       "        text-align: right;\n",
       "    }\n",
       "</style>\n",
       "<table border=\"1\" class=\"dataframe\">\n",
       "  <thead>\n",
       "    <tr style=\"text-align: right;\">\n",
       "      <th></th>\n",
       "      <th>order_id</th>\n",
       "      <th>customer_id</th>\n",
       "      <th>segment</th>\n",
       "      <th>order_date</th>\n",
       "      <th>row_id</th>\n",
       "      <th>order_id</th>\n",
       "      <th>customer_id</th>\n",
       "      <th>product_id</th>\n",
       "      <th>discount</th>\n",
       "      <th>unit_price</th>\n",
       "      <th>base_margin</th>\n",
       "      <th>ship_mode</th>\n",
       "      <th>shipping_cost</th>\n",
       "      <th>ship_date</th>\n",
       "      <th>quantity_ordered_new</th>\n",
       "      <th>profit</th>\n",
       "      <th>sales</th>\n",
       "      <th>priority</th>\n",
       "    </tr>\n",
       "  </thead>\n",
       "  <tbody>\n",
       "    <tr>\n",
       "      <th>0</th>\n",
       "      <td>91587</td>\n",
       "      <td>3404</td>\n",
       "      <td>Small Business</td>\n",
       "      <td>2019-05-09</td>\n",
       "      <td>26390</td>\n",
       "      <td>91587</td>\n",
       "      <td>3404</td>\n",
       "      <td>580</td>\n",
       "      <td>0.01</td>\n",
       "      <td>12.34</td>\n",
       "      <td>11.12</td>\n",
       "      <td>Delivery Truck</td>\n",
       "      <td>6.0</td>\n",
       "      <td>2019-05-09</td>\n",
       "      <td>1</td>\n",
       "      <td>6.34</td>\n",
       "      <td>12.34</td>\n",
       "      <td>Not Specified</td>\n",
       "    </tr>\n",
       "    <tr>\n",
       "      <th>1</th>\n",
       "      <td>91587</td>\n",
       "      <td>3404</td>\n",
       "      <td>Small Business</td>\n",
       "      <td>2019-05-09</td>\n",
       "      <td>26391</td>\n",
       "      <td>91587</td>\n",
       "      <td>3404</td>\n",
       "      <td>628</td>\n",
       "      <td>0.01</td>\n",
       "      <td>12.34</td>\n",
       "      <td>11.12</td>\n",
       "      <td>Delivery Truck</td>\n",
       "      <td>6.0</td>\n",
       "      <td>2019-05-09</td>\n",
       "      <td>2</td>\n",
       "      <td>18.68</td>\n",
       "      <td>24.68</td>\n",
       "      <td>Not Specified</td>\n",
       "    </tr>\n",
       "    <tr>\n",
       "      <th>2</th>\n",
       "      <td>91587</td>\n",
       "      <td>3404</td>\n",
       "      <td>Small Business</td>\n",
       "      <td>2019-05-09</td>\n",
       "      <td>26392</td>\n",
       "      <td>91587</td>\n",
       "      <td>3404</td>\n",
       "      <td>768</td>\n",
       "      <td>0.01</td>\n",
       "      <td>12.34</td>\n",
       "      <td>11.12</td>\n",
       "      <td>Delivery Truck</td>\n",
       "      <td>6.0</td>\n",
       "      <td>2019-05-09</td>\n",
       "      <td>3</td>\n",
       "      <td>31.02</td>\n",
       "      <td>37.02</td>\n",
       "      <td>Not Specified</td>\n",
       "    </tr>\n",
       "  </tbody>\n",
       "</table>\n",
       "</div>"
      ],
      "text/plain": [
       "   order_id  customer_id         segment order_date  row_id  order_id  \\\n",
       "0     91587         3404  Small Business 2019-05-09   26390     91587   \n",
       "1     91587         3404  Small Business 2019-05-09   26391     91587   \n",
       "2     91587         3404  Small Business 2019-05-09   26392     91587   \n",
       "\n",
       "   customer_id  product_id  discount  unit_price  base_margin       ship_mode  \\\n",
       "0         3404         580      0.01       12.34        11.12  Delivery Truck   \n",
       "1         3404         628      0.01       12.34        11.12  Delivery Truck   \n",
       "2         3404         768      0.01       12.34        11.12  Delivery Truck   \n",
       "\n",
       "   shipping_cost  ship_date  quantity_ordered_new  profit  sales  \\\n",
       "0            6.0 2019-05-09                     1    6.34  12.34   \n",
       "1            6.0 2019-05-09                     2   18.68  24.68   \n",
       "2            6.0 2019-05-09                     3   31.02  37.02   \n",
       "\n",
       "        priority  \n",
       "0  Not Specified  \n",
       "1  Not Specified  \n",
       "2  Not Specified  "
      ]
     },
     "execution_count": 47,
     "metadata": {},
     "output_type": "execute_result"
    }
   ],
   "source": [
    "%%sql\n",
    "SELECT \n",
    "    * \n",
    "FROM\n",
    "        orders_n\n",
    "    JOIN\n",
    "        order_item\n",
    "    ON\n",
    "        orders_n.order_id = order_item.order_id\n",
    "WHERE\n",
    "        orders_n.customer_id = :s_customer_id\n",
    "    AND\n",
    "        orders_n.order_id = :s_order_id\n",
    ";  "
   ]
  },
  {
   "cell_type": "markdown",
   "metadata": {},
   "source": [
    "## How to create a new product?  "
   ]
  },
  {
   "cell_type": "code",
   "execution_count": 48,
   "metadata": {},
   "outputs": [
    {
     "name": "stdout",
     "output_type": "stream",
     "text": [
      " * postgres://localhost/ex_superstore_normalize\n"
     ]
    },
    {
     "data": {
      "text/html": [
       "<div>\n",
       "<style scoped>\n",
       "    .dataframe tbody tr th:only-of-type {\n",
       "        vertical-align: middle;\n",
       "    }\n",
       "\n",
       "    .dataframe tbody tr th {\n",
       "        vertical-align: top;\n",
       "    }\n",
       "\n",
       "    .dataframe thead th {\n",
       "        text-align: right;\n",
       "    }\n",
       "</style>\n",
       "<table border=\"1\" class=\"dataframe\">\n",
       "  <thead>\n",
       "    <tr style=\"text-align: right;\">\n",
       "      <th></th>\n",
       "      <th>product_id</th>\n",
       "    </tr>\n",
       "  </thead>\n",
       "  <tbody>\n",
       "    <tr>\n",
       "      <th>0</th>\n",
       "      <td>914</td>\n",
       "    </tr>\n",
       "  </tbody>\n",
       "</table>\n",
       "</div>"
      ],
      "text/plain": [
       "   product_id\n",
       "0         914"
      ]
     },
     "execution_count": 48,
     "metadata": {},
     "output_type": "execute_result"
    }
   ],
   "source": [
    "%%sql\n",
    "INSERT INTO products (product_container, product_category, product_subcategory, product_name )\n",
    "VALUES ( 'Wrap Bag'::product_container_t,\n",
    "       'Office Supplies'::product_category_t,\n",
    "       'Pens & Art Supplies'::product_subcategory_t,\n",
    "       'A Fancy New Glitter Pen')\n",
    "RETURNING product_id\n",
    ";"
   ]
  },
  {
   "cell_type": "markdown",
   "metadata": {},
   "source": [
    "## What if it has a new product category and subcategory? \n",
    "\n",
    "More and more companies are declaring their offices 'dog friendly.' This represents a new marketing opportunity \n",
    "for our hypothetical office supply company. \n",
    "\n",
    "Note: ipython-sql runs a transaction by default, and you cannot update a type as part of a transaction, hence\n",
    "the extra COMMITs. In production, you'd run either sql or straight python over ipython and ipython-sql, but \n",
    "for a code portfolio, I think ipython-sql is much more readable than psycopg2 and a straight SQL script wouldn't\n",
    "easily let you see inputs and outputs in one jupyter notebook. "
   ]
  },
  {
   "cell_type": "code",
   "execution_count": 49,
   "metadata": {},
   "outputs": [
    {
     "name": "stdout",
     "output_type": "stream",
     "text": [
      " * postgres://localhost/ex_superstore_normalize\n",
      " * postgres://localhost/ex_superstore_normalize\n"
     ]
    },
    {
     "data": {
      "text/html": [
       "<div>\n",
       "<style scoped>\n",
       "    .dataframe tbody tr th:only-of-type {\n",
       "        vertical-align: middle;\n",
       "    }\n",
       "\n",
       "    .dataframe tbody tr th {\n",
       "        vertical-align: top;\n",
       "    }\n",
       "\n",
       "    .dataframe thead th {\n",
       "        text-align: right;\n",
       "    }\n",
       "</style>\n",
       "<table border=\"1\" class=\"dataframe\">\n",
       "  <thead>\n",
       "    <tr style=\"text-align: right;\">\n",
       "      <th></th>\n",
       "    </tr>\n",
       "  </thead>\n",
       "  <tbody>\n",
       "  </tbody>\n",
       "</table>\n",
       "</div>"
      ],
      "text/plain": [
       "Empty DataFrame\n",
       "Columns: []\n",
       "Index: []"
      ]
     },
     "execution_count": 49,
     "metadata": {},
     "output_type": "execute_result"
    }
   ],
   "source": [
    "%sql COMMIT; ALTER TYPE product_category_t ADD VALUE 'Pet-Friendly Office';\n",
    "%sql COMMIT; ALTER TYPE product_subcategory_t ADD VALUE 'Feeding';"
   ]
  },
  {
   "cell_type": "code",
   "execution_count": 50,
   "metadata": {},
   "outputs": [
    {
     "name": "stdout",
     "output_type": "stream",
     "text": [
      " * postgres://localhost/ex_superstore_normalize\n"
     ]
    },
    {
     "data": {
      "text/html": [
       "<div>\n",
       "<style scoped>\n",
       "    .dataframe tbody tr th:only-of-type {\n",
       "        vertical-align: middle;\n",
       "    }\n",
       "\n",
       "    .dataframe tbody tr th {\n",
       "        vertical-align: top;\n",
       "    }\n",
       "\n",
       "    .dataframe thead th {\n",
       "        text-align: right;\n",
       "    }\n",
       "</style>\n",
       "<table border=\"1\" class=\"dataframe\">\n",
       "  <thead>\n",
       "    <tr style=\"text-align: right;\">\n",
       "      <th></th>\n",
       "      <th>product_id</th>\n",
       "    </tr>\n",
       "  </thead>\n",
       "  <tbody>\n",
       "    <tr>\n",
       "      <th>0</th>\n",
       "      <td>915</td>\n",
       "    </tr>\n",
       "  </tbody>\n",
       "</table>\n",
       "</div>"
      ],
      "text/plain": [
       "   product_id\n",
       "0         915"
      ]
     },
     "execution_count": 50,
     "metadata": {},
     "output_type": "execute_result"
    }
   ],
   "source": [
    "%%sql\n",
    "INSERT INTO products (product_container, product_category, product_subcategory, product_name )\n",
    "VALUES ( 'Small Box'::product_container_t,\n",
    "       'Pet-Friendly Office'::product_category_t,\n",
    "       'Feeding'::product_subcategory_t,\n",
    "       'Stainless Steel Water Bowl'\n",
    "       )\n",
    "RETURNING product_id\n",
    ";"
   ]
  },
  {
   "cell_type": "code",
   "execution_count": 51,
   "metadata": {},
   "outputs": [
    {
     "name": "stdout",
     "output_type": "stream",
     "text": [
      " * postgres://localhost/ex_superstore_normalize\n"
     ]
    },
    {
     "data": {
      "text/html": [
       "<div>\n",
       "<style scoped>\n",
       "    .dataframe tbody tr th:only-of-type {\n",
       "        vertical-align: middle;\n",
       "    }\n",
       "\n",
       "    .dataframe tbody tr th {\n",
       "        vertical-align: top;\n",
       "    }\n",
       "\n",
       "    .dataframe thead th {\n",
       "        text-align: right;\n",
       "    }\n",
       "</style>\n",
       "<table border=\"1\" class=\"dataframe\">\n",
       "  <thead>\n",
       "    <tr style=\"text-align: right;\">\n",
       "      <th></th>\n",
       "      <th>product_id</th>\n",
       "      <th>product_container</th>\n",
       "      <th>product_category</th>\n",
       "      <th>product_subcategory</th>\n",
       "      <th>product_name</th>\n",
       "    </tr>\n",
       "  </thead>\n",
       "  <tbody>\n",
       "    <tr>\n",
       "      <th>0</th>\n",
       "      <td>914</td>\n",
       "      <td>Wrap Bag</td>\n",
       "      <td>Office Supplies</td>\n",
       "      <td>Pens &amp; Art Supplies</td>\n",
       "      <td>A Fancy New Glitter Pen</td>\n",
       "    </tr>\n",
       "    <tr>\n",
       "      <th>1</th>\n",
       "      <td>915</td>\n",
       "      <td>Small Box</td>\n",
       "      <td>Pet-Friendly Office</td>\n",
       "      <td>Feeding</td>\n",
       "      <td>Stainless Steel Water Bowl</td>\n",
       "    </tr>\n",
       "  </tbody>\n",
       "</table>\n",
       "</div>"
      ],
      "text/plain": [
       "   product_id product_container     product_category  product_subcategory  \\\n",
       "0         914          Wrap Bag      Office Supplies  Pens & Art Supplies   \n",
       "1         915         Small Box  Pet-Friendly Office              Feeding   \n",
       "\n",
       "                 product_name  \n",
       "0     A Fancy New Glitter Pen  \n",
       "1  Stainless Steel Water Bowl  "
      ]
     },
     "execution_count": 51,
     "metadata": {},
     "output_type": "execute_result"
    }
   ],
   "source": [
    "%%sql\n",
    "SELECT \n",
    "    *\n",
    "FROM\n",
    "    products\n",
    "WHERE\n",
    "    product_id IN (914, 915)"
   ]
  },
  {
   "cell_type": "code",
   "execution_count": null,
   "metadata": {},
   "outputs": [],
   "source": []
  }
 ],
 "metadata": {
  "kernelspec": {
   "display_name": "Python 3",
   "language": "python",
   "name": "python3"
  },
  "language_info": {
   "codemirror_mode": {
    "name": "ipython",
    "version": 3
   },
   "file_extension": ".py",
   "mimetype": "text/x-python",
   "name": "python",
   "nbconvert_exporter": "python",
   "pygments_lexer": "ipython3",
   "version": "3.6.8"
  }
 },
 "nbformat": 4,
 "nbformat_minor": 2
}
