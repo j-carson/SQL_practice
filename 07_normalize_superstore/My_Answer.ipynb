{
 "cells": [
  {
   "cell_type": "markdown",
   "metadata": {},
   "source": [
    "# Order data \n",
    "\n",
    "A database for this exercise has been created already, called `ex_superstore_normalize`.\n",
    "\n",
    "The data for this exercise has been taken from Tableau's [2015 Superstore dataset](https://www.superdatascience.com/tableau/), with each sheet converted into CSVs. Unlike other exercises, you don't need the database for this exercise. You can choose to either make a new database directly from the CSVs, or import data from the large table into the smaller (normalized) tables.\n",
    "\n",
    " \n",
    "If you think you have found an error in the questions below, please open a Github Issue.\n",
    "\n",
    "## Exercise\n",
    "\n",
    "There is only one exercise here: take the data in the `orders` table, and normalize it. That is, create other tables so that you are not repeating information. For example, you probably want to have customer data in a `customer` table, where each customer has a customer id as a primary key. The order table should contain the customer id, and no other information about the customer.\n",
    "\n",
    "There are several different approaches to this problem, so no solution is provided. Here are some things to think about:\n",
    "1. Can your proposed solution deal with multiple addresses per customer?\n",
    "2. Can you tell which address each customer's order went to?\n",
    "3. When you have made all your tables, can you write a SELECT statement with JOINs that recreates the original table?\n",
    "\n",
    "## Preview of the `orders` table:\n",
    "\n",
    "```sql\n",
    "SELECT * FROM orders LIMIT 4;\n",
    "```\n",
    "\n",
    "<table border=\"1\">\n",
    "  <tr>\n",
    "    <th align=\"center\">row_id</th>\n",
    "    <th align=\"center\">order_priority</th>\n",
    "    <th align=\"center\">discount</th>\n",
    "    <th align=\"center\">unit_price</th>\n",
    "    <th align=\"center\">shipping_cost</th>\n",
    "    <th align=\"center\">customer_id</th>\n",
    "    <th align=\"center\">customer_name</th>\n",
    "    <th align=\"center\">ship_mode</th>\n",
    "    <th align=\"center\">customer_segment</th>\n",
    "    <th align=\"center\">product_category</th>\n",
    "    <th align=\"center\">product_subcategory</th>\n",
    "    <th align=\"center\">product_container</th>\n",
    "    <th align=\"center\">product_name</th>\n",
    "    <th align=\"center\">product_base_margin</th>\n",
    "    <th align=\"center\">country</th>\n",
    "    <th align=\"center\">region</th>\n",
    "    <th align=\"center\">state</th>\n",
    "    <th align=\"center\">city</th>\n",
    "    <th align=\"center\">postal_code</th>\n",
    "    <th align=\"center\">order_date</th>\n",
    "    <th align=\"center\">ship_date</th>\n",
    "    <th align=\"center\">profit</th>\n",
    "    <th align=\"center\">quantity_ordered_new</th>\n",
    "    <th align=\"center\">sales</th>\n",
    "    <th align=\"center\">order_id</th>\n",
    "  </tr>\n",
    "  <tr valign=\"top\">\n",
    "    <td align=\"right\">20847</td>\n",
    "    <td align=\"left\">High</td>\n",
    "    <td align=\"right\">0.01</td>\n",
    "    <td align=\"right\">2.84</td>\n",
    "    <td align=\"right\">0.93</td>\n",
    "    <td align=\"right\">3</td>\n",
    "    <td align=\"left\">Bonnie Potter</td>\n",
    "    <td align=\"left\">Express Air</td>\n",
    "    <td align=\"left\">Corporate</td>\n",
    "    <td align=\"left\">Office Supplies</td>\n",
    "    <td align=\"left\">Pens &amp; Art Supplies</td>\n",
    "    <td align=\"left\">Wrap Bag</td>\n",
    "    <td align=\"left\">SANFORD Liquid Accent™ Tank-Style Highlighters</td>\n",
    "    <td align=\"right\">0.54</td>\n",
    "    <td align=\"left\">United States</td>\n",
    "    <td align=\"left\">West</td>\n",
    "    <td align=\"left\">Washington</td>\n",
    "    <td align=\"left\">Anacortes</td>\n",
    "    <td align=\"right\">98221</td>\n",
    "    <td align=\"left\">2015-01-07 00:00:00</td>\n",
    "    <td align=\"left\">2015-01-08 00:00:00</td>\n",
    "    <td align=\"right\">4.56</td>\n",
    "    <td align=\"right\">4</td>\n",
    "    <td align=\"right\">13.01</td>\n",
    "    <td align=\"right\">88522</td>\n",
    "  </tr>\n",
    "  <tr valign=\"top\">\n",
    "    <td align=\"right\">20228</td>\n",
    "    <td align=\"left\">Not Specified</td>\n",
    "    <td align=\"right\">0.02</td>\n",
    "    <td align=\"right\">500.98</td>\n",
    "    <td align=\"right\">26</td>\n",
    "    <td align=\"right\">5</td>\n",
    "    <td align=\"left\">Ronnie Proctor</td>\n",
    "    <td align=\"left\">Delivery Truck</td>\n",
    "    <td align=\"left\">Home Office</td>\n",
    "    <td align=\"left\">Furniture</td>\n",
    "    <td align=\"left\">Chairs &amp; Chairmats</td>\n",
    "    <td align=\"left\">Jumbo Drum</td>\n",
    "    <td align=\"left\">Global Troy™ Executive Leather Low-Back Tilter</td>\n",
    "    <td align=\"right\">0.6</td>\n",
    "    <td align=\"left\">United States</td>\n",
    "    <td align=\"left\">West</td>\n",
    "    <td align=\"left\">California</td>\n",
    "    <td align=\"left\">San Gabriel</td>\n",
    "    <td align=\"right\">91776</td>\n",
    "    <td align=\"left\">2015-06-13 00:00:00</td>\n",
    "    <td align=\"left\">2015-06-15 00:00:00</td>\n",
    "    <td align=\"right\">4390.37</td>\n",
    "    <td align=\"right\">12</td>\n",
    "    <td align=\"right\">6362.85</td>\n",
    "    <td align=\"right\">90193</td>\n",
    "  </tr>\n",
    "  <tr valign=\"top\">\n",
    "    <td align=\"right\">21776</td>\n",
    "    <td align=\"left\">Critical</td>\n",
    "    <td align=\"right\">0.06</td>\n",
    "    <td align=\"right\">9.48</td>\n",
    "    <td align=\"right\">7.29</td>\n",
    "    <td align=\"right\">11</td>\n",
    "    <td align=\"left\">Marcus Dunlap</td>\n",
    "    <td align=\"left\">Regular Air</td>\n",
    "    <td align=\"left\">Home Office</td>\n",
    "    <td align=\"left\">Furniture</td>\n",
    "    <td align=\"left\">Office Furnishings</td>\n",
    "    <td align=\"left\">Small Pack</td>\n",
    "    <td align=\"left\">DAX Two-Tone Rosewood/Black Document Frame, Desktop, 5 x 7</td>\n",
    "    <td align=\"right\">0.45</td>\n",
    "    <td align=\"left\">United States</td>\n",
    "    <td align=\"left\">East</td>\n",
    "    <td align=\"left\">New Jersey</td>\n",
    "    <td align=\"left\">Roselle</td>\n",
    "    <td align=\"right\">7203</td>\n",
    "    <td align=\"left\">2015-02-15 00:00:00</td>\n",
    "    <td align=\"left\">2015-02-17 00:00:00</td>\n",
    "    <td align=\"right\">-53.8096</td>\n",
    "    <td align=\"right\">22</td>\n",
    "    <td align=\"right\">211.15</td>\n",
    "    <td align=\"right\">90192</td>\n",
    "  </tr>\n",
    "  <tr valign=\"top\">\n",
    "    <td align=\"right\">24844</td>\n",
    "    <td align=\"left\">Medium</td>\n",
    "    <td align=\"right\">0.09</td>\n",
    "    <td align=\"right\">78.69</td>\n",
    "    <td align=\"right\">19.99</td>\n",
    "    <td align=\"right\">14</td>\n",
    "    <td align=\"left\">Gwendolyn F Tyson</td>\n",
    "    <td align=\"left\">Regular Air</td>\n",
    "    <td align=\"left\">Small Business</td>\n",
    "    <td align=\"left\">Furniture</td>\n",
    "    <td align=\"left\">Office Furnishings</td>\n",
    "    <td align=\"left\">Small Box</td>\n",
    "    <td align=\"left\">Howard Miller 12-3/4 Diameter Accuwave DS ™ Wall Clock</td>\n",
    "    <td align=\"right\">0.43</td>\n",
    "    <td align=\"left\">United States</td>\n",
    "    <td align=\"left\">Central</td>\n",
    "    <td align=\"left\">Minnesota</td>\n",
    "    <td align=\"left\">Prior Lake</td>\n",
    "    <td align=\"right\">55372</td>\n",
    "    <td align=\"left\">2015-05-12 00:00:00</td>\n",
    "    <td align=\"left\">2015-05-14 00:00:00</td>\n",
    "    <td align=\"right\">803.471</td>\n",
    "    <td align=\"right\">16</td>\n",
    "    <td align=\"right\">1164.45</td>\n",
    "    <td align=\"right\">86838</td>\n",
    "  </tr>\n",
    "</table>"
   ]
  },
  {
   "cell_type": "markdown",
   "metadata": {},
   "source": [
    "# My approach\n",
    "\n",
    "I decided that I was going for \"bug for bug compatibility\" with the given dataset. For example, since each customer_id in the \n",
    "given database has only one location, I did not try\n",
    "to support multiple addresses per customer. My goal \n",
    "is simply for the\n",
    "joined normalized database to match the original orders database, with no loss of data and no \"feature creep.\"\n",
    "\n",
    "I found myself perplexed by the money columns:\n",
    "prices, discounts, base_margin, and shipping costs were not \n",
    "one-to-one with products or customers.  Perhaps there are \n",
    "sales or price adjustments that just change with the calendar,\n",
    "segment, quantity puchased, sales negotiations, etc.\n",
    "At any rate, no information was given about the \n",
    "underlying business rules \n",
    "and my attempts at figuring it out\n",
    "were inconclusive, so I put all of dollar amount fields in the\n",
    "order_item table. With better documentation of the \n",
    "underlying business\n",
    "rules, these might have been normalized differently. "
   ]
  },
  {
   "cell_type": "code",
   "execution_count": 1,
   "metadata": {},
   "outputs": [
    {
     "data": {
      "text/plain": [
       "'Connected: @ex_superstore_normalize'"
      ]
     },
     "execution_count": 1,
     "metadata": {},
     "output_type": "execute_result"
    }
   ],
   "source": [
    "%load_ext sql\n",
    "%sql postgres://localhost/ex_superstore_normalize"
   ]
  },
  {
   "cell_type": "markdown",
   "metadata": {},
   "source": [
    "## Product attribute types\n",
    "\n",
    "Create enumerated types for product container, category, and subcategory"
   ]
  },
  {
   "cell_type": "code",
   "execution_count": 2,
   "metadata": {},
   "outputs": [],
   "source": [
    "def make_enum( column, enum_name ):\n",
    "    \"\"\"\n",
    "        Input: name of column, name of enumerated type to create\n",
    "        Effects: selects distinct 'column' from orders\n",
    "                creates enumerated type 'enum_name' with those values\n",
    "    \"\"\"\n",
    "    items = %sql SELECT DISTINCT $column FROM orders;\n",
    "    ilist = str(items.dict()[column])\n",
    "    %sql CREATE TYPE $enum_name AS ENUM $ilist ; "
   ]
  },
  {
   "cell_type": "code",
   "execution_count": 3,
   "metadata": {},
   "outputs": [
    {
     "name": "stdout",
     "output_type": "stream",
     "text": [
      " * postgres://localhost/ex_superstore_normalize\n",
      "7 rows affected.\n",
      " * postgres://localhost/ex_superstore_normalize\n",
      "Done.\n",
      " * postgres://localhost/ex_superstore_normalize\n",
      "3 rows affected.\n",
      " * postgres://localhost/ex_superstore_normalize\n",
      "Done.\n",
      " * postgres://localhost/ex_superstore_normalize\n",
      "17 rows affected.\n",
      " * postgres://localhost/ex_superstore_normalize\n",
      "Done.\n"
     ]
    }
   ],
   "source": [
    "make_enum( 'product_container', 'product_container_t')\n",
    "make_enum( 'product_category', 'product_category_t')\n",
    "make_enum( 'product_subcategory', 'product_subcategory_t')"
   ]
  },
  {
   "cell_type": "code",
   "execution_count": 4,
   "metadata": {},
   "outputs": [],
   "source": [
    "## Product table"
   ]
  },
  {
   "cell_type": "code",
   "execution_count": 5,
   "metadata": {},
   "outputs": [
    {
     "name": "stdout",
     "output_type": "stream",
     "text": [
      " * postgres://localhost/ex_superstore_normalize\n",
      "Done.\n",
      "913 rows affected.\n"
     ]
    },
    {
     "data": {
      "text/plain": [
       "[]"
      ]
     },
     "execution_count": 5,
     "metadata": {},
     "output_type": "execute_result"
    }
   ],
   "source": [
    "%%sql\n",
    "CREATE TABLE products (\n",
    "    product_id SERIAL PRIMARY KEY,\n",
    "    product_container product_container_t,\n",
    "    product_category product_category_t,\n",
    "    product_subcategory product_subcategory_t,\n",
    "    product_name TEXT\n",
    ");\n",
    "\n",
    "INSERT INTO \n",
    "    products (\n",
    "         product_name, \n",
    "         product_container, \n",
    "         product_category,\n",
    "         product_subcategory\n",
    "    )\n",
    "SELECT DISTINCT \n",
    "        product_name,\n",
    "        product_container::product_container_t ,\n",
    "        product_category::product_category_t,\n",
    "        product_subcategory::product_subcategory_t\n",
    "FROM\n",
    "        orders \n",
    ";       "
   ]
  },
  {
   "cell_type": "markdown",
   "metadata": {},
   "source": [
    "## Shipping addresses\n",
    "\n",
    "- Regions\n",
    "- States\n",
    "Rather than having postgres pick state id's, I'm going to use the common two-letter state abbreviations."
   ]
  },
  {
   "cell_type": "code",
   "execution_count": 6,
   "metadata": {},
   "outputs": [
    {
     "name": "stdout",
     "output_type": "stream",
     "text": [
      " * postgres://localhost/ex_superstore_normalize\n",
      "4 rows affected.\n",
      " * postgres://localhost/ex_superstore_normalize\n",
      "Done.\n"
     ]
    }
   ],
   "source": [
    "make_enum( 'region', 'region_t' )"
   ]
  },
  {
   "cell_type": "code",
   "execution_count": 7,
   "metadata": {},
   "outputs": [
    {
     "name": "stdout",
     "output_type": "stream",
     "text": [
      " * postgres://localhost/ex_superstore_normalize\n",
      "Done.\n"
     ]
    },
    {
     "data": {
      "text/plain": [
       "[]"
      ]
     },
     "execution_count": 7,
     "metadata": {},
     "output_type": "execute_result"
    }
   ],
   "source": [
    "%%sql\n",
    "CREATE TABLE state (\n",
    "    state_id VARCHAR(2) PRIMARY KEY,\n",
    "    state_name VARCHAR,\n",
    "    region region_t\n",
    ");"
   ]
  },
  {
   "cell_type": "code",
   "execution_count": 8,
   "metadata": {},
   "outputs": [],
   "source": [
    "# dictionary downloaded from \n",
    "# http://code.activestate.com/recipes/577305-python-dictionary-of-us-states-and-territories/\n",
    "abbr_to_state = {\n",
    "        'AK': 'Alaska',\n",
    "        'AL': 'Alabama',\n",
    "        'AR': 'Arkansas',\n",
    "        'AS': 'American Samoa',\n",
    "        'AZ': 'Arizona',\n",
    "        'CA': 'California',\n",
    "        'CO': 'Colorado',\n",
    "        'CT': 'Connecticut',\n",
    "        'DC': 'District of Columbia',\n",
    "        'DE': 'Delaware',\n",
    "        'FL': 'Florida',\n",
    "        'GA': 'Georgia',\n",
    "        'GU': 'Guam',\n",
    "        'HI': 'Hawaii',\n",
    "        'IA': 'Iowa',\n",
    "        'ID': 'Idaho',\n",
    "        'IL': 'Illinois',\n",
    "        'IN': 'Indiana',\n",
    "        'KS': 'Kansas',\n",
    "        'KY': 'Kentucky',\n",
    "        'LA': 'Louisiana',\n",
    "        'MA': 'Massachusetts',\n",
    "        'MD': 'Maryland',\n",
    "        'ME': 'Maine',\n",
    "        'MI': 'Michigan',\n",
    "        'MN': 'Minnesota',\n",
    "        'MO': 'Missouri',\n",
    "        'MP': 'Northern Mariana Islands',\n",
    "        'MS': 'Mississippi',\n",
    "        'MT': 'Montana',\n",
    "        'NC': 'North Carolina',\n",
    "        'ND': 'North Dakota',\n",
    "        'NE': 'Nebraska',\n",
    "        'NH': 'New Hampshire',\n",
    "        'NJ': 'New Jersey',\n",
    "        'NM': 'New Mexico',\n",
    "        'NV': 'Nevada',\n",
    "        'NY': 'New York',\n",
    "        'OH': 'Ohio',\n",
    "        'OK': 'Oklahoma',\n",
    "        'OR': 'Oregon',\n",
    "        'PA': 'Pennsylvania',\n",
    "        'PR': 'Puerto Rico',\n",
    "        'RI': 'Rhode Island',\n",
    "        'SC': 'South Carolina',\n",
    "        'SD': 'South Dakota',\n",
    "        'TN': 'Tennessee',\n",
    "        'TX': 'Texas',\n",
    "        'UT': 'Utah',\n",
    "        'VA': 'Virginia',\n",
    "        'VI': 'Virgin Islands',\n",
    "        'VT': 'Vermont',\n",
    "        'WA': 'Washington',\n",
    "        'WI': 'Wisconsin',\n",
    "        'WV': 'West Virginia',\n",
    "        'WY': 'Wyoming'\n",
    "}"
   ]
  },
  {
   "cell_type": "code",
   "execution_count": 9,
   "metadata": {},
   "outputs": [],
   "source": [
    "%%capture\n",
    "for key in abbr_to_state.keys():\n",
    "    %sql insert into state (state_id, state_name) values ('{key}','{abbr_to_state[key]}');"
   ]
  },
  {
   "cell_type": "code",
   "execution_count": 10,
   "metadata": {},
   "outputs": [
    {
     "name": "stdout",
     "output_type": "stream",
     "text": [
      " * postgres://localhost/ex_superstore_normalize\n",
      "49 rows affected.\n"
     ]
    },
    {
     "data": {
      "text/plain": [
       "[]"
      ]
     },
     "execution_count": 10,
     "metadata": {},
     "output_type": "execute_result"
    }
   ],
   "source": [
    "%%sql\n",
    "WITH state_region_pairs AS (\n",
    "    SELECT DISTINCT\n",
    "        state state_name, region::region_t\n",
    "    FROM\n",
    "        orders\n",
    ")\n",
    "UPDATE \n",
    "    state\n",
    "SET \n",
    "    region = state_region_pairs.region\n",
    "FROM\n",
    "    state_region_pairs\n",
    "WHERE\n",
    "    state.state_name = state_region_pairs.state_name\n",
    ";"
   ]
  },
  {
   "cell_type": "markdown",
   "metadata": {},
   "source": [
    "I could guess a region for states that we don't have orders from, but I \n",
    "will just take the simple route and delete those rows."
   ]
  },
  {
   "cell_type": "code",
   "execution_count": 11,
   "metadata": {},
   "outputs": [
    {
     "name": "stdout",
     "output_type": "stream",
     "text": [
      " * postgres://localhost/ex_superstore_normalize\n",
      "7 rows affected.\n"
     ]
    },
    {
     "data": {
      "text/html": [
       "<table>\n",
       "    <tr>\n",
       "        <th>state_id</th>\n",
       "        <th>state_name</th>\n",
       "        <th>region</th>\n",
       "    </tr>\n",
       "    <tr>\n",
       "        <td>AK</td>\n",
       "        <td>Alaska</td>\n",
       "        <td>None</td>\n",
       "    </tr>\n",
       "    <tr>\n",
       "        <td>AS</td>\n",
       "        <td>American Samoa</td>\n",
       "        <td>None</td>\n",
       "    </tr>\n",
       "    <tr>\n",
       "        <td>GU</td>\n",
       "        <td>Guam</td>\n",
       "        <td>None</td>\n",
       "    </tr>\n",
       "    <tr>\n",
       "        <td>HI</td>\n",
       "        <td>Hawaii</td>\n",
       "        <td>None</td>\n",
       "    </tr>\n",
       "    <tr>\n",
       "        <td>MP</td>\n",
       "        <td>Northern Mariana Islands</td>\n",
       "        <td>None</td>\n",
       "    </tr>\n",
       "    <tr>\n",
       "        <td>PR</td>\n",
       "        <td>Puerto Rico</td>\n",
       "        <td>None</td>\n",
       "    </tr>\n",
       "    <tr>\n",
       "        <td>VI</td>\n",
       "        <td>Virgin Islands</td>\n",
       "        <td>None</td>\n",
       "    </tr>\n",
       "</table>"
      ],
      "text/plain": [
       "[('AK', 'Alaska', None),\n",
       " ('AS', 'American Samoa', None),\n",
       " ('GU', 'Guam', None),\n",
       " ('HI', 'Hawaii', None),\n",
       " ('MP', 'Northern Mariana Islands', None),\n",
       " ('PR', 'Puerto Rico', None),\n",
       " ('VI', 'Virgin Islands', None)]"
      ]
     },
     "execution_count": 11,
     "metadata": {},
     "output_type": "execute_result"
    }
   ],
   "source": [
    "%%sql\n",
    "SELECT \n",
    "    * \n",
    "FROM \n",
    "    state\n",
    "WHERE \n",
    "    region is NULL;"
   ]
  },
  {
   "cell_type": "code",
   "execution_count": 12,
   "metadata": {},
   "outputs": [
    {
     "name": "stdout",
     "output_type": "stream",
     "text": [
      " * postgres://localhost/ex_superstore_normalize\n",
      "7 rows affected.\n"
     ]
    },
    {
     "data": {
      "text/plain": [
       "[]"
      ]
     },
     "execution_count": 12,
     "metadata": {},
     "output_type": "execute_result"
    }
   ],
   "source": [
    "%%sql\n",
    "DELETE FROM \n",
    "    state \n",
    "WHERE \n",
    "    region is NULL;"
   ]
  },
  {
   "cell_type": "markdown",
   "metadata": {},
   "source": [
    "And just to make sure I didn't miss any non-US orders..."
   ]
  },
  {
   "cell_type": "code",
   "execution_count": 13,
   "metadata": {},
   "outputs": [
    {
     "name": "stdout",
     "output_type": "stream",
     "text": [
      " * postgres://localhost/ex_superstore_normalize\n",
      "0 rows affected.\n"
     ]
    },
    {
     "data": {
      "text/html": [
       "<table>\n",
       "    <tr>\n",
       "        <th>row_id</th>\n",
       "        <th>order_priority</th>\n",
       "        <th>discount</th>\n",
       "        <th>unit_price</th>\n",
       "        <th>shipping_cost</th>\n",
       "        <th>customer_id</th>\n",
       "        <th>customer_name</th>\n",
       "        <th>ship_mode</th>\n",
       "        <th>customer_segment</th>\n",
       "        <th>product_category</th>\n",
       "        <th>product_subcategory</th>\n",
       "        <th>product_container</th>\n",
       "        <th>product_name</th>\n",
       "        <th>product_base_margin</th>\n",
       "        <th>country</th>\n",
       "        <th>region</th>\n",
       "        <th>state</th>\n",
       "        <th>city</th>\n",
       "        <th>postal_code</th>\n",
       "        <th>order_date</th>\n",
       "        <th>ship_date</th>\n",
       "        <th>profit</th>\n",
       "        <th>quantity_ordered_new</th>\n",
       "        <th>sales</th>\n",
       "        <th>order_id</th>\n",
       "    </tr>\n",
       "</table>"
      ],
      "text/plain": [
       "[]"
      ]
     },
     "execution_count": 13,
     "metadata": {},
     "output_type": "execute_result"
    }
   ],
   "source": [
    "%%sql\n",
    "SELECT \n",
    "    * \n",
    "FROM \n",
    "    orders \n",
    "WHERE \n",
    "    country != 'United States'"
   ]
  },
  {
   "cell_type": "markdown",
   "metadata": {},
   "source": [
    "We are now ready to create and fill the customer name/address table. (There are no\n",
    "street addresses in the given data, just region/state/city/zip.)"
   ]
  },
  {
   "cell_type": "code",
   "execution_count": 14,
   "metadata": {},
   "outputs": [
    {
     "name": "stdout",
     "output_type": "stream",
     "text": [
      " * postgres://localhost/ex_superstore_normalize\n",
      "Done.\n"
     ]
    },
    {
     "data": {
      "text/plain": [
       "[]"
      ]
     },
     "execution_count": 14,
     "metadata": {},
     "output_type": "execute_result"
    }
   ],
   "source": [
    "%%sql\n",
    "CREATE TABLE customer (\n",
    "    customer_id INT PRIMARY KEY,\n",
    "    customer_name VARCHAR,\n",
    "    region region_t,\n",
    "    state_id VARCHAR(2),\n",
    "    city VARCHAR,\n",
    "    postal_code INT,\n",
    "    \n",
    "    FOREIGN KEY (state_id)\n",
    "        REFERENCES state(state_id)\n",
    ")"
   ]
  },
  {
   "cell_type": "code",
   "execution_count": 15,
   "metadata": {},
   "outputs": [
    {
     "name": "stdout",
     "output_type": "stream",
     "text": [
      " * postgres://localhost/ex_superstore_normalize\n",
      "1130 rows affected.\n"
     ]
    },
    {
     "data": {
      "text/plain": [
       "[]"
      ]
     },
     "execution_count": 15,
     "metadata": {},
     "output_type": "execute_result"
    }
   ],
   "source": [
    "%%sql\n",
    "INSERT INTO \n",
    "    customer (\n",
    "        customer_id,\n",
    "        customer_name,\n",
    "        region,\n",
    "        state_id,\n",
    "        city,\n",
    "        postal_code\n",
    "    )\n",
    "SELECT DISTINCT \n",
    "    customer_id,\n",
    "    customer_name,\n",
    "    state.region,\n",
    "    state_id,\n",
    "    city,\n",
    "    postal_code\n",
    "FROM\n",
    "        orders\n",
    "    JOIN \n",
    "        state \n",
    "    ON \n",
    "        orders.state = state.state_name\n",
    "    \n",
    ";"
   ]
  },
  {
   "cell_type": "markdown",
   "metadata": {},
   "source": [
    "## Orders and order items"
   ]
  },
  {
   "cell_type": "markdown",
   "metadata": {},
   "source": [
    "See the EDA.ipynb for queries that demonstrate the following (non-intuitive) properties\n",
    "of the order database:\n",
    "\n",
    "- The entire order has one order date\n",
    "- A specific item in the order can have a different priority than another item in the same order\n",
    "- Specific items can also have different ship modes\n",
    "- The same order_id can have multiple customer_id's associated with it\n",
    "- Two different order_id's can re-use the same row_id for order items"
   ]
  },
  {
   "cell_type": "code",
   "execution_count": 16,
   "metadata": {},
   "outputs": [
    {
     "name": "stdout",
     "output_type": "stream",
     "text": [
      " * postgres://localhost/ex_superstore_normalize\n",
      "4 rows affected.\n",
      " * postgres://localhost/ex_superstore_normalize\n",
      "Done.\n",
      " * postgres://localhost/ex_superstore_normalize\n",
      "6 rows affected.\n",
      " * postgres://localhost/ex_superstore_normalize\n",
      "Done.\n",
      " * postgres://localhost/ex_superstore_normalize\n",
      "3 rows affected.\n",
      " * postgres://localhost/ex_superstore_normalize\n",
      "Done.\n"
     ]
    }
   ],
   "source": [
    "make_enum( 'customer_segment', 'segment_t')\n",
    "make_enum( 'order_priority', 'priority_code_t')\n",
    "make_enum( 'ship_mode', 'ship_mode_t')"
   ]
  },
  {
   "cell_type": "markdown",
   "metadata": {},
   "source": [
    "The name \"orders\" is being used by the old database, so\n",
    "named the normalized version orders_n. (Probably would be \n",
    "better to copy from one database to another.) "
   ]
  },
  {
   "cell_type": "code",
   "execution_count": 17,
   "metadata": {},
   "outputs": [
    {
     "name": "stdout",
     "output_type": "stream",
     "text": [
      " * postgres://localhost/ex_superstore_normalize\n",
      "Done.\n"
     ]
    },
    {
     "data": {
      "text/plain": [
       "[]"
      ]
     },
     "execution_count": 17,
     "metadata": {},
     "output_type": "execute_result"
    }
   ],
   "source": [
    "%%sql\n",
    "CREATE TABLE orders_n (\n",
    "    order_id INTEGER,\n",
    "    customer_id INTEGER,\n",
    "    segment segment_t,\n",
    "    order_date TIMESTAMP,\n",
    "    \n",
    "    /* same order_id is re-used across customer ids??!! */\n",
    "    PRIMARY KEY (order_id, customer_id),\n",
    "    FOREIGN KEY (customer_id) REFERENCES\n",
    "        customer (customer_id)\n",
    ");"
   ]
  },
  {
   "cell_type": "code",
   "execution_count": 18,
   "metadata": {},
   "outputs": [
    {
     "name": "stdout",
     "output_type": "stream",
     "text": [
      " * postgres://localhost/ex_superstore_normalize\n",
      "1485 rows affected.\n"
     ]
    },
    {
     "data": {
      "text/plain": [
       "[]"
      ]
     },
     "execution_count": 18,
     "metadata": {},
     "output_type": "execute_result"
    }
   ],
   "source": [
    "%%sql\n",
    "INSERT INTO orders_n ( \n",
    "    order_id, \n",
    "    customer_id, \n",
    "    segment, \n",
    "    order_date \n",
    ")\n",
    "SELECT DISTINCT\n",
    "    order_id, \n",
    "    customer_id, \n",
    "    customer_segment::segment_t, \n",
    "    order_date\n",
    "FROM \n",
    "    orders\n",
    ";"
   ]
  },
  {
   "cell_type": "code",
   "execution_count": 19,
   "metadata": {},
   "outputs": [
    {
     "name": "stdout",
     "output_type": "stream",
     "text": [
      " * postgres://localhost/ex_superstore_normalize\n",
      "Done.\n"
     ]
    },
    {
     "data": {
      "text/plain": [
       "[]"
      ]
     },
     "execution_count": 19,
     "metadata": {},
     "output_type": "execute_result"
    }
   ],
   "source": [
    "%%sql\n",
    "CREATE TABLE order_item (\n",
    "    row_id INTEGER,\n",
    "    order_id INTEGER,\n",
    "    customer_id INTEGER,\n",
    "    product_id INTEGER,\n",
    "    discount REAL,\n",
    "    unit_price REAL,\n",
    "    base_margin REAL,\n",
    "    ship_mode ship_mode_t,\n",
    "    shipping_cost REAL,\n",
    "    ship_date TIMESTAMP,\n",
    "    quantity_ordered_new INTEGER,\n",
    "    profit REAL,\n",
    "    sales REAL,\n",
    "    priority priority_code_t,\n",
    "    \n",
    "    /* the row_id in the original orders table is not a \n",
    "       unique identifier, so this is a two-part key */\n",
    "    PRIMARY KEY (row_id, order_id),\n",
    "    FOREIGN KEY (order_id, customer_id) \n",
    "        REFERENCES orders_n (order_id, customer_id),\n",
    "    FOREIGN KEY (product_id)\n",
    "        REFERENCES products (product_id)\n",
    ");"
   ]
  },
  {
   "cell_type": "code",
   "execution_count": 20,
   "metadata": {},
   "outputs": [
    {
     "name": "stdout",
     "output_type": "stream",
     "text": [
      " * postgres://localhost/ex_superstore_normalize\n",
      "1952 rows affected.\n"
     ]
    },
    {
     "data": {
      "text/plain": [
       "[]"
      ]
     },
     "execution_count": 20,
     "metadata": {},
     "output_type": "execute_result"
    }
   ],
   "source": [
    "%%sql\n",
    "INSERT INTO order_item (\n",
    "    row_id, \n",
    "    order_id, \n",
    "    customer_id, \n",
    "    product_id, \n",
    "    discount, \n",
    "    unit_price,\n",
    "    base_margin, \n",
    "    ship_mode, \n",
    "    ship_date,\n",
    "    shipping_cost, \n",
    "    quantity_ordered_new, \n",
    "    profit, \n",
    "    sales,\n",
    "    priority)\n",
    "SELECT\n",
    "    row_id, \n",
    "    order_id, \n",
    "    customer_id, \n",
    "    product_id, \n",
    "    discount, \n",
    "    unit_price, \n",
    "    product_base_margin,\n",
    "    ship_mode::ship_mode_t, \n",
    "    ship_date,\n",
    "    shipping_cost, \n",
    "    quantity_ordered_new, \n",
    "    profit, \n",
    "    sales,\n",
    "    order_priority::priority_code_t\n",
    "FROM\n",
    "        orders\n",
    "    JOIN\n",
    "        products\n",
    "    ON \n",
    "        products.product_name =  orders.product_name\n",
    ";"
   ]
  },
  {
   "cell_type": "code",
   "execution_count": 21,
   "metadata": {},
   "outputs": [
    {
     "name": "stdout",
     "output_type": "stream",
     "text": [
      " * postgres://localhost/ex_superstore_normalize\n",
      "1 rows affected.\n"
     ]
    },
    {
     "data": {
      "text/html": [
       "<table>\n",
       "    <tr>\n",
       "        <th>count</th>\n",
       "    </tr>\n",
       "    <tr>\n",
       "        <td>1952</td>\n",
       "    </tr>\n",
       "</table>"
      ],
      "text/plain": [
       "[(1952,)]"
      ]
     },
     "execution_count": 21,
     "metadata": {},
     "output_type": "execute_result"
    }
   ],
   "source": [
    "# sanity check\n",
    "%sql select count(*) from orders;"
   ]
  },
  {
   "cell_type": "markdown",
   "metadata": {},
   "source": [
    "## Testing\n",
    "\n",
    "To test:\n",
    "1. Create a view that joins the customer and state tables together\n",
    "3. Join the customers to the orders and order_items\n",
    "4. Compare the joined data to the original data and check for errors"
   ]
  },
  {
   "cell_type": "code",
   "execution_count": 22,
   "metadata": {},
   "outputs": [
    {
     "name": "stdout",
     "output_type": "stream",
     "text": [
      " * postgres://localhost/ex_superstore_normalize\n",
      "Done.\n"
     ]
    },
    {
     "data": {
      "text/plain": [
       "[]"
      ]
     },
     "execution_count": 22,
     "metadata": {},
     "output_type": "execute_result"
    }
   ],
   "source": [
    "%%sql\n",
    "CREATE VIEW \n",
    "    v_customer AS \n",
    "SELECT\n",
    "     customer_id,\n",
    "     customer_name,\n",
    "     'United States' country,\n",
    "     st.region,\n",
    "     st.state_name state,\n",
    "     city,\n",
    "     postal_code\n",
    "FROM\n",
    "        customer c\n",
    "    JOIN\n",
    "        state st\n",
    "    ON\n",
    "        st.state_id = c.state_id\n",
    ";"
   ]
  },
  {
   "cell_type": "code",
   "execution_count": 23,
   "metadata": {},
   "outputs": [
    {
     "name": "stdout",
     "output_type": "stream",
     "text": [
      " * postgres://localhost/ex_superstore_normalize\n",
      "Done.\n"
     ]
    },
    {
     "data": {
      "text/plain": [
       "[]"
      ]
     },
     "execution_count": 23,
     "metadata": {},
     "output_type": "execute_result"
    }
   ],
   "source": [
    "%%sql\n",
    "CREATE VIEW \n",
    "    rejoined AS\n",
    "SELECT \n",
    "    i.row_id,\n",
    "    i.priority order_priority,\n",
    "    i.discount,\n",
    "    i.unit_price,\n",
    "    i.shipping_cost,\n",
    "    cu.customer_id,\n",
    "    cu.customer_name,\n",
    "    i.ship_mode,\n",
    "    o.segment customer_segment,\n",
    "    p.product_category,\n",
    "    p.product_subcategory,\n",
    "    p.product_container,\n",
    "    p.product_name,\n",
    "    i.base_margin product_base_margin,\n",
    "    cu.country,\n",
    "    cu.region,\n",
    "    cu.state,\n",
    "    cu.city,\n",
    "    cu.postal_code,\n",
    "    o.order_date,\n",
    "    i.ship_date,\n",
    "    i.profit,\n",
    "    i.quantity_ordered_new,\n",
    "    i.sales,\n",
    "    i.order_id\n",
    "FROM\n",
    "    order_item i\n",
    "    JOIN \n",
    "        orders_n o\n",
    "    ON\n",
    "        o.order_id = i.order_id\n",
    "        and\n",
    "        o.customer_id = i.customer_id\n",
    "    JOIN\n",
    "        products p\n",
    "    ON\n",
    "        i.product_id = p.product_id\n",
    "    JOIN\n",
    "        v_customer cu\n",
    "    ON\n",
    "        cu.customer_id = o.customer_id\n",
    ";"
   ]
  },
  {
   "cell_type": "code",
   "execution_count": 24,
   "metadata": {},
   "outputs": [],
   "source": [
    "%config SqlMagic.autopandas = True\n",
    "%config SqlMagic.feedback = False\n",
    "import pandas as pd\n",
    "import numpy as np"
   ]
  },
  {
   "cell_type": "code",
   "execution_count": 25,
   "metadata": {},
   "outputs": [
    {
     "name": "stdout",
     "output_type": "stream",
     "text": [
      " * postgres://localhost/ex_superstore_normalize\n",
      " * postgres://localhost/ex_superstore_normalize\n"
     ]
    }
   ],
   "source": [
    "original = %sql SELECT * FROM orders ORDER BY customer_id, row_id;\n",
    "normalized = %sql SELECT * FROM rejoined ORDER BY customer_id, row_id;"
   ]
  },
  {
   "cell_type": "code",
   "execution_count": 26,
   "metadata": {},
   "outputs": [],
   "source": [
    "assert(original.shape == normalized.shape)"
   ]
  },
  {
   "cell_type": "code",
   "execution_count": 27,
   "metadata": {},
   "outputs": [],
   "source": [
    "# see EDA notebook - this field has NULLs which \n",
    "# pandas won't ever compare as equal, even to another NULL\n",
    "original.product_base_margin = original.product_base_margin.fillna(0)\n",
    "normalized.product_base_margin = normalized.product_base_margin.fillna(0)"
   ]
  },
  {
   "cell_type": "code",
   "execution_count": 28,
   "metadata": {},
   "outputs": [],
   "source": [
    "compare = (original == normalized) \n",
    "assert(compare.all(axis=0).all())\n",
    "    "
   ]
  },
  {
   "cell_type": "code",
   "execution_count": null,
   "metadata": {},
   "outputs": [],
   "source": []
  }
 ],
 "metadata": {
  "kernelspec": {
   "display_name": "Python 3",
   "language": "python",
   "name": "python3"
  },
  "language_info": {
   "codemirror_mode": {
    "name": "ipython",
    "version": 3
   },
   "file_extension": ".py",
   "mimetype": "text/x-python",
   "name": "python",
   "nbconvert_exporter": "python",
   "pygments_lexer": "ipython3",
   "version": "3.6.8"
  }
 },
 "nbformat": 4,
 "nbformat_minor": 2
}
