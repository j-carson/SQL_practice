{
 "cells": [
  {
   "cell_type": "markdown",
   "metadata": {},
   "source": [
    "# Seattle rain data\n",
    "\n",
    "The data was pulled from [this Kaggle set](https://www.kaggle.com/rtatman/did-it-rain-in-seattle-19482017). Three rows containing \"NA\"s have been removed.\n",
    "\n",
    "The name of the database is `ex_seattle_weather`.\n",
    "\n",
    "If you think you have found an error in the result set, please open an issue in Github. \n",
    "\n",
    "## Date information\n",
    "\n",
    "Different database engines have different techniques for manipulating dates. You typically won't be marked down for not knowing the date transformations in PostgreSQL vs Oracle vs MySQL vs ......\n",
    "\n",
    "For the following exercises, it is probably useful to know the EXTRACT command:\n",
    "```sql\n",
    "SELECT EXTRACT('month' FROM date_weather) AS month FROM weather LIMIT 5;\n",
    "```\n",
    "will return 5 rows with just the month extracted from the `date_weather` column. "
   ]
  },
  {
   "cell_type": "code",
   "execution_count": 1,
   "metadata": {},
   "outputs": [
    {
     "data": {
      "text/plain": [
       "'Connected: @ex_seattle_weather'"
      ]
     },
     "execution_count": 1,
     "metadata": {},
     "output_type": "execute_result"
    }
   ],
   "source": [
    "%load_ext sql\n",
    "%sql postgres://localhost/ex_seattle_weather"
   ]
  },
  {
   "cell_type": "markdown",
   "metadata": {},
   "source": [
    "## Questions\n",
    "\n",
    "1. **Select all rows from December 1st, 2000 to December 15th, 2000 (inclusive)**"
   ]
  },
  {
   "cell_type": "code",
   "execution_count": 2,
   "metadata": {},
   "outputs": [
    {
     "name": "stdout",
     "output_type": "stream",
     "text": [
      " * postgres://localhost/ex_seattle_weather\n",
      "15 rows affected.\n"
     ]
    },
    {
     "data": {
      "text/html": [
       "<table>\n",
       "    <tr>\n",
       "        <th>date_weather</th>\n",
       "        <th>inches_rain</th>\n",
       "        <th>temp_max</th>\n",
       "        <th>temp_min</th>\n",
       "        <th>did_rain</th>\n",
       "    </tr>\n",
       "    <tr>\n",
       "        <td>2000-12-01 00:00:00</td>\n",
       "        <td>0.04</td>\n",
       "        <td>55.0</td>\n",
       "        <td>39.0</td>\n",
       "        <td>True</td>\n",
       "    </tr>\n",
       "    <tr>\n",
       "        <td>2000-12-02 00:00:00</td>\n",
       "        <td>0.18</td>\n",
       "        <td>51.0</td>\n",
       "        <td>37.0</td>\n",
       "        <td>True</td>\n",
       "    </tr>\n",
       "    <tr>\n",
       "        <td>2000-12-03 00:00:00</td>\n",
       "        <td>0.0</td>\n",
       "        <td>44.0</td>\n",
       "        <td>34.0</td>\n",
       "        <td>False</td>\n",
       "    </tr>\n",
       "    <tr>\n",
       "        <td>2000-12-04 00:00:00</td>\n",
       "        <td>0.0</td>\n",
       "        <td>51.0</td>\n",
       "        <td>37.0</td>\n",
       "        <td>False</td>\n",
       "    </tr>\n",
       "    <tr>\n",
       "        <td>2000-12-05 00:00:00</td>\n",
       "        <td>0.0</td>\n",
       "        <td>50.0</td>\n",
       "        <td>36.0</td>\n",
       "        <td>False</td>\n",
       "    </tr>\n",
       "    <tr>\n",
       "        <td>2000-12-06 00:00:00</td>\n",
       "        <td>0.0</td>\n",
       "        <td>50.0</td>\n",
       "        <td>35.0</td>\n",
       "        <td>False</td>\n",
       "    </tr>\n",
       "    <tr>\n",
       "        <td>2000-12-07 00:00:00</td>\n",
       "        <td>0.0</td>\n",
       "        <td>40.0</td>\n",
       "        <td>34.0</td>\n",
       "        <td>False</td>\n",
       "    </tr>\n",
       "    <tr>\n",
       "        <td>2000-12-08 00:00:00</td>\n",
       "        <td>0.02</td>\n",
       "        <td>45.0</td>\n",
       "        <td>30.0</td>\n",
       "        <td>True</td>\n",
       "    </tr>\n",
       "    <tr>\n",
       "        <td>2000-12-09 00:00:00</td>\n",
       "        <td>0.06</td>\n",
       "        <td>43.0</td>\n",
       "        <td>36.0</td>\n",
       "        <td>True</td>\n",
       "    </tr>\n",
       "    <tr>\n",
       "        <td>2000-12-10 00:00:00</td>\n",
       "        <td>0.0</td>\n",
       "        <td>40.0</td>\n",
       "        <td>30.0</td>\n",
       "        <td>False</td>\n",
       "    </tr>\n",
       "    <tr>\n",
       "        <td>2000-12-11 00:00:00</td>\n",
       "        <td>0.0</td>\n",
       "        <td>37.0</td>\n",
       "        <td>28.0</td>\n",
       "        <td>False</td>\n",
       "    </tr>\n",
       "    <tr>\n",
       "        <td>2000-12-12 00:00:00</td>\n",
       "        <td>0.0</td>\n",
       "        <td>37.0</td>\n",
       "        <td>28.0</td>\n",
       "        <td>False</td>\n",
       "    </tr>\n",
       "    <tr>\n",
       "        <td>2000-12-13 00:00:00</td>\n",
       "        <td>0.0</td>\n",
       "        <td>37.0</td>\n",
       "        <td>30.0</td>\n",
       "        <td>False</td>\n",
       "    </tr>\n",
       "    <tr>\n",
       "        <td>2000-12-14 00:00:00</td>\n",
       "        <td>0.26</td>\n",
       "        <td>46.0</td>\n",
       "        <td>28.0</td>\n",
       "        <td>True</td>\n",
       "    </tr>\n",
       "    <tr>\n",
       "        <td>2000-12-15 00:00:00</td>\n",
       "        <td>0.0</td>\n",
       "        <td>42.0</td>\n",
       "        <td>35.0</td>\n",
       "        <td>False</td>\n",
       "    </tr>\n",
       "</table>"
      ],
      "text/plain": [
       "[(datetime.datetime(2000, 12, 1, 0, 0), 0.04, 55.0, 39.0, True),\n",
       " (datetime.datetime(2000, 12, 2, 0, 0), 0.18, 51.0, 37.0, True),\n",
       " (datetime.datetime(2000, 12, 3, 0, 0), 0.0, 44.0, 34.0, False),\n",
       " (datetime.datetime(2000, 12, 4, 0, 0), 0.0, 51.0, 37.0, False),\n",
       " (datetime.datetime(2000, 12, 5, 0, 0), 0.0, 50.0, 36.0, False),\n",
       " (datetime.datetime(2000, 12, 6, 0, 0), 0.0, 50.0, 35.0, False),\n",
       " (datetime.datetime(2000, 12, 7, 0, 0), 0.0, 40.0, 34.0, False),\n",
       " (datetime.datetime(2000, 12, 8, 0, 0), 0.02, 45.0, 30.0, True),\n",
       " (datetime.datetime(2000, 12, 9, 0, 0), 0.06, 43.0, 36.0, True),\n",
       " (datetime.datetime(2000, 12, 10, 0, 0), 0.0, 40.0, 30.0, False),\n",
       " (datetime.datetime(2000, 12, 11, 0, 0), 0.0, 37.0, 28.0, False),\n",
       " (datetime.datetime(2000, 12, 12, 0, 0), 0.0, 37.0, 28.0, False),\n",
       " (datetime.datetime(2000, 12, 13, 0, 0), 0.0, 37.0, 30.0, False),\n",
       " (datetime.datetime(2000, 12, 14, 0, 0), 0.26, 46.0, 28.0, True),\n",
       " (datetime.datetime(2000, 12, 15, 0, 0), 0.0, 42.0, 35.0, False)]"
      ]
     },
     "execution_count": 2,
     "metadata": {},
     "output_type": "execute_result"
    }
   ],
   "source": [
    "%%sql\n",
    "SELECT \n",
    "       * \n",
    "FROM \n",
    "      weather\n",
    "WHERE \n",
    "      date_weather >= timestamp '2000-12-01'\n",
    "  AND\n",
    "      date_weather <= timestamp '2000-12-15'\n",
    ";"
   ]
  },
  {
   "cell_type": "markdown",
   "metadata": {},
   "source": [
    "2. **Get the average maximum temperature for every year from the year 2000 onward. Order the results by year (ascending)**"
   ]
  },
  {
   "cell_type": "code",
   "execution_count": 3,
   "metadata": {},
   "outputs": [
    {
     "name": "stdout",
     "output_type": "stream",
     "text": [
      " * postgres://localhost/ex_seattle_weather\n",
      "18 rows affected.\n"
     ]
    },
    {
     "data": {
      "text/html": [
       "<table>\n",
       "    <tr>\n",
       "        <th>year</th>\n",
       "        <th>avg_max_temp</th>\n",
       "    </tr>\n",
       "    <tr>\n",
       "        <td>2000</td>\n",
       "        <td>58.67</td>\n",
       "    </tr>\n",
       "    <tr>\n",
       "        <td>2001</td>\n",
       "        <td>58.47</td>\n",
       "    </tr>\n",
       "    <tr>\n",
       "        <td>2002</td>\n",
       "        <td>58.89</td>\n",
       "    </tr>\n",
       "    <tr>\n",
       "        <td>2003</td>\n",
       "        <td>60.44</td>\n",
       "    </tr>\n",
       "    <tr>\n",
       "        <td>2004</td>\n",
       "        <td>60.62</td>\n",
       "    </tr>\n",
       "    <tr>\n",
       "        <td>2005</td>\n",
       "        <td>60.15</td>\n",
       "    </tr>\n",
       "    <tr>\n",
       "        <td>2006</td>\n",
       "        <td>61.04</td>\n",
       "    </tr>\n",
       "    <tr>\n",
       "        <td>2007</td>\n",
       "        <td>59.20</td>\n",
       "    </tr>\n",
       "    <tr>\n",
       "        <td>2008</td>\n",
       "        <td>58.49</td>\n",
       "    </tr>\n",
       "    <tr>\n",
       "        <td>2009</td>\n",
       "        <td>59.91</td>\n",
       "    </tr>\n",
       "    <tr>\n",
       "        <td>2010</td>\n",
       "        <td>59.66</td>\n",
       "    </tr>\n",
       "    <tr>\n",
       "        <td>2011</td>\n",
       "        <td>58.14</td>\n",
       "    </tr>\n",
       "    <tr>\n",
       "        <td>2012</td>\n",
       "        <td>59.50</td>\n",
       "    </tr>\n",
       "    <tr>\n",
       "        <td>2013</td>\n",
       "        <td>60.90</td>\n",
       "    </tr>\n",
       "    <tr>\n",
       "        <td>2014</td>\n",
       "        <td>62.59</td>\n",
       "    </tr>\n",
       "    <tr>\n",
       "        <td>2015</td>\n",
       "        <td>63.37</td>\n",
       "    </tr>\n",
       "    <tr>\n",
       "        <td>2016</td>\n",
       "        <td>62.55</td>\n",
       "    </tr>\n",
       "    <tr>\n",
       "        <td>2017</td>\n",
       "        <td>61.73</td>\n",
       "    </tr>\n",
       "</table>"
      ],
      "text/plain": [
       "[(2000, Decimal('58.67')),\n",
       " (2001, Decimal('58.47')),\n",
       " (2002, Decimal('58.89')),\n",
       " (2003, Decimal('60.44')),\n",
       " (2004, Decimal('60.62')),\n",
       " (2005, Decimal('60.15')),\n",
       " (2006, Decimal('61.04')),\n",
       " (2007, Decimal('59.20')),\n",
       " (2008, Decimal('58.49')),\n",
       " (2009, Decimal('59.91')),\n",
       " (2010, Decimal('59.66')),\n",
       " (2011, Decimal('58.14')),\n",
       " (2012, Decimal('59.50')),\n",
       " (2013, Decimal('60.90')),\n",
       " (2014, Decimal('62.59')),\n",
       " (2015, Decimal('63.37')),\n",
       " (2016, Decimal('62.55')),\n",
       " (2017, Decimal('61.73'))]"
      ]
     },
     "execution_count": 3,
     "metadata": {},
     "output_type": "execute_result"
    }
   ],
   "source": [
    "%%sql\n",
    "SELECT \n",
    "    DATE_PART('year', date_weather)::int AS year, AVG(temp_max)::numeric(5,2) avg_max_temp\n",
    "FROM \n",
    "    weather\n",
    "WHERE\n",
    "    DATE_PART('year', date_weather)::int >= 2000\n",
    "GROUP BY\n",
    "    year\n",
    "ORDER BY \n",
    "    year\n",
    ";"
   ]
  },
  {
   "cell_type": "markdown",
   "metadata": {},
   "source": [
    "3. **Get the standard deviation of the maximum temperature per year, from 2000 onward. Order by year (ascending)**"
   ]
  },
  {
   "cell_type": "code",
   "execution_count": 4,
   "metadata": {},
   "outputs": [
    {
     "name": "stdout",
     "output_type": "stream",
     "text": [
      " * postgres://localhost/ex_seattle_weather\n",
      "18 rows affected.\n"
     ]
    },
    {
     "data": {
      "text/html": [
       "<table>\n",
       "    <tr>\n",
       "        <th>year</th>\n",
       "        <th>std_dev_temp_max</th>\n",
       "    </tr>\n",
       "    <tr>\n",
       "        <td>2000</td>\n",
       "        <td>11.49</td>\n",
       "    </tr>\n",
       "    <tr>\n",
       "        <td>2001</td>\n",
       "        <td>11.18</td>\n",
       "    </tr>\n",
       "    <tr>\n",
       "        <td>2002</td>\n",
       "        <td>12.31</td>\n",
       "    </tr>\n",
       "    <tr>\n",
       "        <td>2003</td>\n",
       "        <td>12.87</td>\n",
       "    </tr>\n",
       "    <tr>\n",
       "        <td>2004</td>\n",
       "        <td>12.61</td>\n",
       "    </tr>\n",
       "    <tr>\n",
       "        <td>2005</td>\n",
       "        <td>11.89</td>\n",
       "    </tr>\n",
       "    <tr>\n",
       "        <td>2006</td>\n",
       "        <td>13.05</td>\n",
       "    </tr>\n",
       "    <tr>\n",
       "        <td>2007</td>\n",
       "        <td>12.92</td>\n",
       "    </tr>\n",
       "    <tr>\n",
       "        <td>2008</td>\n",
       "        <td>13.00</td>\n",
       "    </tr>\n",
       "    <tr>\n",
       "        <td>2009</td>\n",
       "        <td>14.23</td>\n",
       "    </tr>\n",
       "    <tr>\n",
       "        <td>2010</td>\n",
       "        <td>11.16</td>\n",
       "    </tr>\n",
       "    <tr>\n",
       "        <td>2011</td>\n",
       "        <td>12.45</td>\n",
       "    </tr>\n",
       "    <tr>\n",
       "        <td>2012</td>\n",
       "        <td>12.74</td>\n",
       "    </tr>\n",
       "    <tr>\n",
       "        <td>2013</td>\n",
       "        <td>13.60</td>\n",
       "    </tr>\n",
       "    <tr>\n",
       "        <td>2014</td>\n",
       "        <td>13.08</td>\n",
       "    </tr>\n",
       "    <tr>\n",
       "        <td>2015</td>\n",
       "        <td>13.18</td>\n",
       "    </tr>\n",
       "    <tr>\n",
       "        <td>2016</td>\n",
       "        <td>12.65</td>\n",
       "    </tr>\n",
       "    <tr>\n",
       "        <td>2017</td>\n",
       "        <td>14.20</td>\n",
       "    </tr>\n",
       "</table>"
      ],
      "text/plain": [
       "[(2000, Decimal('11.49')),\n",
       " (2001, Decimal('11.18')),\n",
       " (2002, Decimal('12.31')),\n",
       " (2003, Decimal('12.87')),\n",
       " (2004, Decimal('12.61')),\n",
       " (2005, Decimal('11.89')),\n",
       " (2006, Decimal('13.05')),\n",
       " (2007, Decimal('12.92')),\n",
       " (2008, Decimal('13.00')),\n",
       " (2009, Decimal('14.23')),\n",
       " (2010, Decimal('11.16')),\n",
       " (2011, Decimal('12.45')),\n",
       " (2012, Decimal('12.74')),\n",
       " (2013, Decimal('13.60')),\n",
       " (2014, Decimal('13.08')),\n",
       " (2015, Decimal('13.18')),\n",
       " (2016, Decimal('12.65')),\n",
       " (2017, Decimal('14.20'))]"
      ]
     },
     "execution_count": 4,
     "metadata": {},
     "output_type": "execute_result"
    }
   ],
   "source": [
    "%%sql\n",
    "SELECT \n",
    "    DATE_PART('year', date_weather)::INT AS year, STDDEV(temp_max)::NUMERIC(5,2) std_dev_temp_max\n",
    "FROM \n",
    "    weather\n",
    "WHERE\n",
    "    DATE_PART('year', date_weather)::INT >= 2000\n",
    "GROUP BY\n",
    "    year\n",
    "ORDER BY \n",
    "    year\n",
    ";"
   ]
  },
  {
   "cell_type": "markdown",
   "metadata": {},
   "source": [
    "4. **What are the 10 hottest days on record? Take hottest to mean 'highest maximum temperature'.**"
   ]
  },
  {
   "cell_type": "code",
   "execution_count": 5,
   "metadata": {},
   "outputs": [
    {
     "name": "stdout",
     "output_type": "stream",
     "text": [
      " * postgres://localhost/ex_seattle_weather\n",
      "10 rows affected.\n"
     ]
    },
    {
     "data": {
      "text/html": [
       "<table>\n",
       "    <tr>\n",
       "        <th>date</th>\n",
       "        <th>temp_max</th>\n",
       "    </tr>\n",
       "    <tr>\n",
       "        <td>2009-07-29</td>\n",
       "        <td>103.0</td>\n",
       "    </tr>\n",
       "    <tr>\n",
       "        <td>1994-07-20</td>\n",
       "        <td>100.0</td>\n",
       "    </tr>\n",
       "    <tr>\n",
       "        <td>1981-08-09</td>\n",
       "        <td>99.0</td>\n",
       "    </tr>\n",
       "    <tr>\n",
       "        <td>1991-07-23</td>\n",
       "        <td>99.0</td>\n",
       "    </tr>\n",
       "    <tr>\n",
       "        <td>1960-08-09</td>\n",
       "        <td>99.0</td>\n",
       "    </tr>\n",
       "    <tr>\n",
       "        <td>1981-08-10</td>\n",
       "        <td>98.0</td>\n",
       "    </tr>\n",
       "    <tr>\n",
       "        <td>1960-08-08</td>\n",
       "        <td>98.0</td>\n",
       "    </tr>\n",
       "    <tr>\n",
       "        <td>1988-09-02</td>\n",
       "        <td>98.0</td>\n",
       "    </tr>\n",
       "    <tr>\n",
       "        <td>1979-07-16</td>\n",
       "        <td>98.0</td>\n",
       "    </tr>\n",
       "    <tr>\n",
       "        <td>1967-08-16</td>\n",
       "        <td>98.0</td>\n",
       "    </tr>\n",
       "</table>"
      ],
      "text/plain": [
       "[(datetime.date(2009, 7, 29), 103.0),\n",
       " (datetime.date(1994, 7, 20), 100.0),\n",
       " (datetime.date(1981, 8, 9), 99.0),\n",
       " (datetime.date(1991, 7, 23), 99.0),\n",
       " (datetime.date(1960, 8, 9), 99.0),\n",
       " (datetime.date(1981, 8, 10), 98.0),\n",
       " (datetime.date(1960, 8, 8), 98.0),\n",
       " (datetime.date(1988, 9, 2), 98.0),\n",
       " (datetime.date(1979, 7, 16), 98.0),\n",
       " (datetime.date(1967, 8, 16), 98.0)]"
      ]
     },
     "execution_count": 5,
     "metadata": {},
     "output_type": "execute_result"
    }
   ],
   "source": [
    "%%sql\n",
    "SELECT\n",
    "    DATE(date_weather), temp_max\n",
    "FROM\n",
    "    weather\n",
    "ORDER BY \n",
    "    temp_max DESC\n",
    "LIMIT 10;"
   ]
  },
  {
   "cell_type": "markdown",
   "metadata": {},
   "source": [
    "5. **In 2016, what fraction of days did it rain?**"
   ]
  },
  {
   "cell_type": "code",
   "execution_count": 6,
   "metadata": {},
   "outputs": [
    {
     "name": "stdout",
     "output_type": "stream",
     "text": [
      " * postgres://localhost/ex_seattle_weather\n",
      "1 rows affected.\n"
     ]
    },
    {
     "data": {
      "text/html": [
       "<table>\n",
       "    <tr>\n",
       "        <th>rain_days</th>\n",
       "        <th>year_days</th>\n",
       "        <th>fraction</th>\n",
       "    </tr>\n",
       "    <tr>\n",
       "        <td>172</td>\n",
       "        <td>366</td>\n",
       "        <td>0.469945355191257</td>\n",
       "    </tr>\n",
       "</table>"
      ],
      "text/plain": [
       "[(172, 366, 0.469945355191257)]"
      ]
     },
     "execution_count": 6,
     "metadata": {},
     "output_type": "execute_result"
    }
   ],
   "source": [
    "%%sql\n",
    "WITH rain16 AS (\n",
    "    SELECT \n",
    "        /* count the number of measurements in 2016 as year_days */\n",
    "        count(*) AS year_days,  \n",
    "    \n",
    "        /* count the number of measurements with rain as rain_days */\n",
    "        SUM(\n",
    "            CASE \n",
    "                WHEN did_rain THEN 1 \n",
    "                ELSE 0 \n",
    "            END\n",
    "        ) AS rain_days\n",
    "    FROM \n",
    "        weather\n",
    "    WHERE \n",
    "        DATE_PART('year', date_weather) = 2016\n",
    ")\n",
    "SELECT \n",
    "    rain_days, year_days, rain_days::FLOAT/year_days::FLOAT fraction\n",
    "FROM \n",
    "    rain16\n",
    ";"
   ]
  },
  {
   "cell_type": "markdown",
   "metadata": {},
   "source": [
    "6. **What is the 75th percentile for the amount of rain that fell on a day where _there was some rain_ in 2016?**\n",
    "\n",
    "Hint: This is a somewhat advanced question. There are a couple of ways of approaching it:\n",
    "  - count the number of rows with some rain, order then, and take the one ranked in the 75th percentile. This works on all RDBMSes.\n",
    "  - use a PostgreSQL specific command such as `percent_rank` or `percentile_cont`\n",
    "\n",
    "Note these different results give _slightly_ different answers (it depends on whether you interpolate to find the 75th percentile or not). This would be a more advanced question.\n",
    "\n",
    "Answer: approximately 0.33 inches"
   ]
  },
  {
   "cell_type": "code",
   "execution_count": 7,
   "metadata": {},
   "outputs": [
    {
     "name": "stdout",
     "output_type": "stream",
     "text": [
      " * postgres://localhost/ex_seattle_weather\n",
      "1 rows affected.\n"
     ]
    },
    {
     "data": {
      "text/html": [
       "<table>\n",
       "    <tr>\n",
       "        <th>percentile_cont</th>\n",
       "    </tr>\n",
       "    <tr>\n",
       "        <td>0.330000013113022</td>\n",
       "    </tr>\n",
       "</table>"
      ],
      "text/plain": [
       "[(0.330000013113022,)]"
      ]
     },
     "execution_count": 7,
     "metadata": {},
     "output_type": "execute_result"
    }
   ],
   "source": [
    "%%sql\n",
    "SELECT\n",
    "    PERCENTILE_CONT(.75) WITHIN GROUP (ORDER BY inches_rain ASC)\n",
    "FROM\n",
    "    weather\n",
    "WHERE\n",
    "    DATE_PART('year', date_weather)::INT = 2016\n",
    "AND\n",
    "    did_rain\n",
    ";"
   ]
  },
  {
   "cell_type": "markdown",
   "metadata": {},
   "source": [
    "7. **What is the 75th percentile for the amount of rain that fell on any day in 2016?**\n",
    "\n",
    "Answer: approximately 0.15 inches"
   ]
  },
  {
   "cell_type": "code",
   "execution_count": 8,
   "metadata": {},
   "outputs": [
    {
     "name": "stdout",
     "output_type": "stream",
     "text": [
      " * postgres://localhost/ex_seattle_weather\n",
      "1 rows affected.\n"
     ]
    },
    {
     "data": {
      "text/html": [
       "<table>\n",
       "    <tr>\n",
       "        <th>percentile_cont</th>\n",
       "    </tr>\n",
       "    <tr>\n",
       "        <td>0.150000005960464</td>\n",
       "    </tr>\n",
       "</table>"
      ],
      "text/plain": [
       "[(0.150000005960464,)]"
      ]
     },
     "execution_count": 8,
     "metadata": {},
     "output_type": "execute_result"
    }
   ],
   "source": [
    "%%sql\n",
    "SELECT\n",
    "    PERCENTILE_CONT(.75) WITHIN GROUP (ORDER BY inches_rain ASC)\n",
    "FROM\n",
    "    weather\n",
    "WHERE\n",
    "    DATE_PART('year', date_weather)::int = 2016\n",
    ";"
   ]
  },
  {
   "cell_type": "markdown",
   "metadata": {},
   "source": [
    "8. **Get the 10 years with the hottest average maximum temperature in July. Order from hottest to coolest**"
   ]
  },
  {
   "cell_type": "code",
   "execution_count": 9,
   "metadata": {},
   "outputs": [
    {
     "name": "stdout",
     "output_type": "stream",
     "text": [
      " * postgres://localhost/ex_seattle_weather\n",
      "10 rows affected.\n"
     ]
    },
    {
     "data": {
      "text/html": [
       "<table>\n",
       "    <tr>\n",
       "        <th>year</th>\n",
       "        <th>avg_july_temp_max</th>\n",
       "    </tr>\n",
       "    <tr>\n",
       "        <td>2015</td>\n",
       "        <td>82.58</td>\n",
       "    </tr>\n",
       "    <tr>\n",
       "        <td>1958</td>\n",
       "        <td>81.42</td>\n",
       "    </tr>\n",
       "    <tr>\n",
       "        <td>2009</td>\n",
       "        <td>80.97</td>\n",
       "    </tr>\n",
       "    <tr>\n",
       "        <td>1985</td>\n",
       "        <td>80.94</td>\n",
       "    </tr>\n",
       "    <tr>\n",
       "        <td>2014</td>\n",
       "        <td>80.42</td>\n",
       "    </tr>\n",
       "    <tr>\n",
       "        <td>1960</td>\n",
       "        <td>79.65</td>\n",
       "    </tr>\n",
       "    <tr>\n",
       "        <td>1965</td>\n",
       "        <td>79.45</td>\n",
       "    </tr>\n",
       "    <tr>\n",
       "        <td>1990</td>\n",
       "        <td>79.19</td>\n",
       "    </tr>\n",
       "    <tr>\n",
       "        <td>2003</td>\n",
       "        <td>78.97</td>\n",
       "    </tr>\n",
       "    <tr>\n",
       "        <td>1994</td>\n",
       "        <td>78.97</td>\n",
       "    </tr>\n",
       "</table>"
      ],
      "text/plain": [
       "[(2015, Decimal('82.58')),\n",
       " (1958, Decimal('81.42')),\n",
       " (2009, Decimal('80.97')),\n",
       " (1985, Decimal('80.94')),\n",
       " (2014, Decimal('80.42')),\n",
       " (1960, Decimal('79.65')),\n",
       " (1965, Decimal('79.45')),\n",
       " (1990, Decimal('79.19')),\n",
       " (2003, Decimal('78.97')),\n",
       " (1994, Decimal('78.97'))]"
      ]
     },
     "execution_count": 9,
     "metadata": {},
     "output_type": "execute_result"
    }
   ],
   "source": [
    "%%sql\n",
    "SELECT \n",
    "    DATE_PART('year', date_weather)::int AS year\n",
    "    , AVG(temp_max)::NUMERIC(5,2) AS avg_july_temp_max\n",
    "FROM\n",
    "    weather\n",
    "WHERE\n",
    "    DATE_PART('month', date_weather)::int = 7\n",
    "GROUP BY \n",
    "    DATE_PART('year', date_weather)\n",
    "ORDER BY \n",
    "    AVG(temp_max) DESC\n",
    "LIMIT \n",
    "    10\n",
    ";"
   ]
  },
  {
   "cell_type": "markdown",
   "metadata": {},
   "source": [
    "9. **Get the 10 years with the coldest average minimum temperature in December. Order from coolest to hottest**"
   ]
  },
  {
   "cell_type": "code",
   "execution_count": 10,
   "metadata": {},
   "outputs": [
    {
     "name": "stdout",
     "output_type": "stream",
     "text": [
      " * postgres://localhost/ex_seattle_weather\n",
      "10 rows affected.\n"
     ]
    },
    {
     "data": {
      "text/html": [
       "<table>\n",
       "    <tr>\n",
       "        <th>year</th>\n",
       "        <th>avg_dec_temp_min</th>\n",
       "    </tr>\n",
       "    <tr>\n",
       "        <td>1990</td>\n",
       "        <td>30.3870967741935</td>\n",
       "    </tr>\n",
       "    <tr>\n",
       "        <td>1948</td>\n",
       "        <td>30.8064516129032</td>\n",
       "    </tr>\n",
       "    <tr>\n",
       "        <td>1985</td>\n",
       "        <td>30.9354838709677</td>\n",
       "    </tr>\n",
       "    <tr>\n",
       "        <td>1951</td>\n",
       "        <td>31.2258064516129</td>\n",
       "    </tr>\n",
       "    <tr>\n",
       "        <td>1964</td>\n",
       "        <td>31.4838709677419</td>\n",
       "    </tr>\n",
       "    <tr>\n",
       "        <td>1983</td>\n",
       "        <td>31.5161290322581</td>\n",
       "    </tr>\n",
       "    <tr>\n",
       "        <td>1968</td>\n",
       "        <td>32.0322580645161</td>\n",
       "    </tr>\n",
       "    <tr>\n",
       "        <td>1984</td>\n",
       "        <td>32.0967741935484</td>\n",
       "    </tr>\n",
       "    <tr>\n",
       "        <td>2009</td>\n",
       "        <td>32.0967741935484</td>\n",
       "    </tr>\n",
       "    <tr>\n",
       "        <td>1978</td>\n",
       "        <td>32.1612903225806</td>\n",
       "    </tr>\n",
       "</table>"
      ],
      "text/plain": [
       "[(1990, 30.3870967741935),\n",
       " (1948, 30.8064516129032),\n",
       " (1985, 30.9354838709677),\n",
       " (1951, 31.2258064516129),\n",
       " (1964, 31.4838709677419),\n",
       " (1983, 31.5161290322581),\n",
       " (1968, 32.0322580645161),\n",
       " (1984, 32.0967741935484),\n",
       " (2009, 32.0967741935484),\n",
       " (1978, 32.1612903225806)]"
      ]
     },
     "execution_count": 10,
     "metadata": {},
     "output_type": "execute_result"
    }
   ],
   "source": [
    "%%sql\n",
    "SELECT \n",
    "    DATE_PART('year', date_weather)::int AS year\n",
    "    , AVG(temp_min) AS avg_dec_temp_min\n",
    "FROM\n",
    "    weather\n",
    "WHERE\n",
    "    DATE_PART('month', date_weather)::int = 12\n",
    "GROUP BY \n",
    "    DATE_PART('year', date_weather)::int\n",
    "ORDER BY \n",
    "    AVG(temp_min) ASC\n",
    "LIMIT \n",
    "    10\n",
    ";"
   ]
  },
  {
   "cell_type": "markdown",
   "metadata": {},
   "source": [
    "10. **Repeat the last question, but round the temperatures to 3 decimal places**\n",
    "\n",
    "HINT: If using the `ROUND` function, you will need to cast your results from `REAL` to `NUMERIC` first. There is an issue in PostgreSQL where REAL is not a subclass of NUMERIC. \n",
    "\n",
    "Format for casting\n",
    "\n",
    "```sql\n",
    "SELECT temp_min::numeric FROM weather\n",
    "``` "
   ]
  },
  {
   "cell_type": "code",
   "execution_count": 11,
   "metadata": {},
   "outputs": [
    {
     "name": "stdout",
     "output_type": "stream",
     "text": [
      " * postgres://localhost/ex_seattle_weather\n",
      "10 rows affected.\n"
     ]
    },
    {
     "data": {
      "text/html": [
       "<table>\n",
       "    <tr>\n",
       "        <th>year</th>\n",
       "        <th>avg_dec_temp_min</th>\n",
       "    </tr>\n",
       "    <tr>\n",
       "        <td>1990</td>\n",
       "        <td>30.387</td>\n",
       "    </tr>\n",
       "    <tr>\n",
       "        <td>1948</td>\n",
       "        <td>30.806</td>\n",
       "    </tr>\n",
       "    <tr>\n",
       "        <td>1985</td>\n",
       "        <td>30.935</td>\n",
       "    </tr>\n",
       "    <tr>\n",
       "        <td>1951</td>\n",
       "        <td>31.226</td>\n",
       "    </tr>\n",
       "    <tr>\n",
       "        <td>1964</td>\n",
       "        <td>31.484</td>\n",
       "    </tr>\n",
       "    <tr>\n",
       "        <td>1983</td>\n",
       "        <td>31.516</td>\n",
       "    </tr>\n",
       "    <tr>\n",
       "        <td>1968</td>\n",
       "        <td>32.032</td>\n",
       "    </tr>\n",
       "    <tr>\n",
       "        <td>1984</td>\n",
       "        <td>32.097</td>\n",
       "    </tr>\n",
       "    <tr>\n",
       "        <td>2009</td>\n",
       "        <td>32.097</td>\n",
       "    </tr>\n",
       "    <tr>\n",
       "        <td>1978</td>\n",
       "        <td>32.161</td>\n",
       "    </tr>\n",
       "</table>"
      ],
      "text/plain": [
       "[(1990, Decimal('30.387')),\n",
       " (1948, Decimal('30.806')),\n",
       " (1985, Decimal('30.935')),\n",
       " (1951, Decimal('31.226')),\n",
       " (1964, Decimal('31.484')),\n",
       " (1983, Decimal('31.516')),\n",
       " (1968, Decimal('32.032')),\n",
       " (1984, Decimal('32.097')),\n",
       " (2009, Decimal('32.097')),\n",
       " (1978, Decimal('32.161'))]"
      ]
     },
     "execution_count": 11,
     "metadata": {},
     "output_type": "execute_result"
    }
   ],
   "source": [
    "%%sql\n",
    "SELECT \n",
    "    DATE_PART('year', date_weather)::int AS year\n",
    "    , AVG(temp_min)::NUMERIC(5,3) AS avg_dec_temp_min\n",
    "FROM\n",
    "    weather\n",
    "WHERE\n",
    "    DATE_PART('month', date_weather)::int = 12\n",
    "GROUP BY \n",
    "    DATE_PART('year', date_weather)::int\n",
    "ORDER BY \n",
    "    AVG(temp_min) ASC\n",
    "LIMIT \n",
    "    10;"
   ]
  },
  {
   "cell_type": "markdown",
   "metadata": {},
   "source": [
    "11. **Given the results of the previous queries, would it be fair to use this data to claim that 2015 had the \"hottest July on record\"? Why or why not?**\n",
    "\n",
    "Answer: No SQL for this question, it is about interpretation of results."
   ]
  },
  {
   "cell_type": "markdown",
   "metadata": {},
   "source": [
    "There are many different ways to define 'hottest on record' -- by the definition of \"highest monthly average temperature\" 2015 wins. But the hottest days ever query includes years where the hottest July day was hotter than than any July day in 2015. In general, the average as a metric will not be robust to outliers. Median temperature, or total number of days above some floor might also be ways of determining the hottest July on record."
   ]
  },
  {
   "cell_type": "markdown",
   "metadata": {},
   "source": [
    "12. **Give the average inches of rain that fell per day for each month, where the average is taken over 2000 - 2010 (inclusive).** "
   ]
  },
  {
   "cell_type": "code",
   "execution_count": 12,
   "metadata": {},
   "outputs": [
    {
     "name": "stdout",
     "output_type": "stream",
     "text": [
      " * postgres://localhost/ex_seattle_weather\n",
      "12 rows affected.\n"
     ]
    },
    {
     "data": {
      "text/html": [
       "<table>\n",
       "    <tr>\n",
       "        <th>month</th>\n",
       "        <th>avg_inches_rain</th>\n",
       "    </tr>\n",
       "    <tr>\n",
       "        <td>1</td>\n",
       "        <td>0.191612903460248</td>\n",
       "    </tr>\n",
       "    <tr>\n",
       "        <td>2</td>\n",
       "        <td>0.094276527248299</td>\n",
       "    </tr>\n",
       "    <tr>\n",
       "        <td>3</td>\n",
       "        <td>0.113577712622206</td>\n",
       "    </tr>\n",
       "    <tr>\n",
       "        <td>4</td>\n",
       "        <td>0.0853636359626597</td>\n",
       "    </tr>\n",
       "    <tr>\n",
       "        <td>5</td>\n",
       "        <td>0.0680351905699524</td>\n",
       "    </tr>\n",
       "    <tr>\n",
       "        <td>6</td>\n",
       "        <td>0.050181818189043</td>\n",
       "    </tr>\n",
       "    <tr>\n",
       "        <td>7</td>\n",
       "        <td>0.0161290320395724</td>\n",
       "    </tr>\n",
       "    <tr>\n",
       "        <td>8</td>\n",
       "        <td>0.0343695011842024</td>\n",
       "    </tr>\n",
       "    <tr>\n",
       "        <td>9</td>\n",
       "        <td>0.056930091577415</td>\n",
       "    </tr>\n",
       "    <tr>\n",
       "        <td>10</td>\n",
       "        <td>0.115542522634317</td>\n",
       "    </tr>\n",
       "    <tr>\n",
       "        <td>11</td>\n",
       "        <td>0.216242424065642</td>\n",
       "    </tr>\n",
       "    <tr>\n",
       "        <td>12</td>\n",
       "        <td>0.180058650585039</td>\n",
       "    </tr>\n",
       "</table>"
      ],
      "text/plain": [
       "[(1, 0.191612903460248),\n",
       " (2, 0.094276527248299),\n",
       " (3, 0.113577712622206),\n",
       " (4, 0.0853636359626597),\n",
       " (5, 0.0680351905699524),\n",
       " (6, 0.050181818189043),\n",
       " (7, 0.0161290320395724),\n",
       " (8, 0.0343695011842024),\n",
       " (9, 0.056930091577415),\n",
       " (10, 0.115542522634317),\n",
       " (11, 0.216242424065642),\n",
       " (12, 0.180058650585039)]"
      ]
     },
     "execution_count": 12,
     "metadata": {},
     "output_type": "execute_result"
    }
   ],
   "source": [
    "%%sql\n",
    "SELECT \n",
    "    DATE_PART('month', date_weather)::int as month\n",
    "    , AVG(inches_rain) as avg_inches_rain\n",
    "FROM\n",
    "    weather\n",
    "WHERE\n",
    "        date_weather >= timestamp '2000-01-01'\n",
    "    AND\n",
    "        date_weather <  timestamp '2011-01-01'\n",
    "GROUP BY \n",
    "    DATE_PART('month', date_weather)\n",
    "ORDER BY \n",
    "    DATE_PART('month', date_weather) ASC\n",
    ";"
   ]
  },
  {
   "cell_type": "code",
   "execution_count": null,
   "metadata": {},
   "outputs": [],
   "source": []
  }
 ],
 "metadata": {
  "kernelspec": {
   "display_name": "Python 3",
   "language": "python",
   "name": "python3"
  },
  "language_info": {
   "codemirror_mode": {
    "name": "ipython",
    "version": 3
   },
   "file_extension": ".py",
   "mimetype": "text/x-python",
   "name": "python",
   "nbconvert_exporter": "python",
   "pygments_lexer": "ipython3",
   "version": "3.6.8"
  }
 },
 "nbformat": 4,
 "nbformat_minor": 2
}
