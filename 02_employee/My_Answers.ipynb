{
 "cells": [
  {
   "cell_type": "markdown",
   "metadata": {},
   "source": [
    "# Employee database\n",
    "\n",
    "The database for these exercises is `ex_employee1`.\n",
    "\n",
    "In the employee table, the column `manager_id` contains the _employee id_ of the manager of that employee. If the value is NULL, this means that employee doesn't have a manager.\n",
    "\n",
    "This is a _small_ dataset. It should be possible to answer these questions by hand, and compare the results to those produced by your SQL query.\n",
    "\n",
    "If you think you have found an error in the posted results, please create a Github Issue."
   ]
  },
  {
   "cell_type": "code",
   "execution_count": 1,
   "metadata": {},
   "outputs": [
    {
     "data": {
      "text/plain": [
       "'Connected: @ex_employee1'"
      ]
     },
     "execution_count": 1,
     "metadata": {},
     "output_type": "execute_result"
    }
   ],
   "source": [
    "%load_ext sql\n",
    "%sql postgres://localhost/ex_employee1"
   ]
  },
  {
   "cell_type": "markdown",
   "metadata": {},
   "source": [
    "## Questions"
   ]
  },
  {
   "cell_type": "markdown",
   "metadata": {},
   "source": [
    "1. **List all the employees in order of descreasing salary**"
   ]
  },
  {
   "cell_type": "code",
   "execution_count": 2,
   "metadata": {},
   "outputs": [
    {
     "name": "stdout",
     "output_type": "stream",
     "text": [
      " * postgres://localhost/ex_employee1\n",
      "16 rows affected.\n"
     ]
    },
    {
     "data": {
      "text/html": [
       "<table>\n",
       "    <tr>\n",
       "        <th>empid</th>\n",
       "        <th>name</th>\n",
       "        <th>managerid</th>\n",
       "        <th>deptid</th>\n",
       "        <th>salary</th>\n",
       "    </tr>\n",
       "    <tr>\n",
       "        <td>4</td>\n",
       "        <td>Anthony Stark</td>\n",
       "        <td>None</td>\n",
       "        <td>1</td>\n",
       "        <td>100000.0</td>\n",
       "    </tr>\n",
       "    <tr>\n",
       "        <td>15</td>\n",
       "        <td>Joe McMillan</td>\n",
       "        <td>13</td>\n",
       "        <td>2</td>\n",
       "        <td>80000.0</td>\n",
       "    </tr>\n",
       "    <tr>\n",
       "        <td>8</td>\n",
       "        <td>Shuri</td>\n",
       "        <td>None</td>\n",
       "        <td>5</td>\n",
       "        <td>80000.0</td>\n",
       "    </tr>\n",
       "    <tr>\n",
       "        <td>14</td>\n",
       "        <td>Cameron Howe</td>\n",
       "        <td>13</td>\n",
       "        <td>3</td>\n",
       "        <td>75000.0</td>\n",
       "    </tr>\n",
       "    <tr>\n",
       "        <td>13</td>\n",
       "        <td>Donna Clarke</td>\n",
       "        <td>None</td>\n",
       "        <td>1</td>\n",
       "        <td>75000.0</td>\n",
       "    </tr>\n",
       "    <tr>\n",
       "        <td>9</td>\n",
       "        <td>Diane Rawlinson</td>\n",
       "        <td>None</td>\n",
       "        <td>1</td>\n",
       "        <td>50000.0</td>\n",
       "    </tr>\n",
       "    <tr>\n",
       "        <td>11</td>\n",
       "        <td>Nancy Karrigan</td>\n",
       "        <td>9</td>\n",
       "        <td>4</td>\n",
       "        <td>42000.0</td>\n",
       "    </tr>\n",
       "    <tr>\n",
       "        <td>16</td>\n",
       "        <td>Saul Goodman</td>\n",
       "        <td>13</td>\n",
       "        <td>6</td>\n",
       "        <td>40000.0</td>\n",
       "    </tr>\n",
       "    <tr>\n",
       "        <td>12</td>\n",
       "        <td>Kristi Yamaguchi</td>\n",
       "        <td>9</td>\n",
       "        <td>4</td>\n",
       "        <td>40000.0</td>\n",
       "    </tr>\n",
       "    <tr>\n",
       "        <td>10</td>\n",
       "        <td>Tonya Harding</td>\n",
       "        <td>9</td>\n",
       "        <td>4</td>\n",
       "        <td>30000.0</td>\n",
       "    </tr>\n",
       "    <tr>\n",
       "        <td>6</td>\n",
       "        <td>Bruce Banner</td>\n",
       "        <td>4</td>\n",
       "        <td>5</td>\n",
       "        <td>8000.0</td>\n",
       "    </tr>\n",
       "    <tr>\n",
       "        <td>7</td>\n",
       "        <td>Jane Foster</td>\n",
       "        <td>4</td>\n",
       "        <td>5</td>\n",
       "        <td>7500.0</td>\n",
       "    </tr>\n",
       "    <tr>\n",
       "        <td>1</td>\n",
       "        <td>Micheal Scott</td>\n",
       "        <td>None</td>\n",
       "        <td>1</td>\n",
       "        <td>6000.0</td>\n",
       "    </tr>\n",
       "    <tr>\n",
       "        <td>2</td>\n",
       "        <td>Dwight Schrute</td>\n",
       "        <td>1</td>\n",
       "        <td>2</td>\n",
       "        <td>4000.0</td>\n",
       "    </tr>\n",
       "    <tr>\n",
       "        <td>5</td>\n",
       "        <td>Bill Nye</td>\n",
       "        <td>4</td>\n",
       "        <td>5</td>\n",
       "        <td>3800.0</td>\n",
       "    </tr>\n",
       "    <tr>\n",
       "        <td>3</td>\n",
       "        <td>Jim Halpert</td>\n",
       "        <td>1</td>\n",
       "        <td>2</td>\n",
       "        <td>3500.0</td>\n",
       "    </tr>\n",
       "</table>"
      ],
      "text/plain": [
       "[(4, 'Anthony Stark', None, 1, 100000.0),\n",
       " (15, 'Joe McMillan', 13, 2, 80000.0),\n",
       " (8, 'Shuri', None, 5, 80000.0),\n",
       " (14, 'Cameron Howe', 13, 3, 75000.0),\n",
       " (13, 'Donna Clarke', None, 1, 75000.0),\n",
       " (9, 'Diane Rawlinson', None, 1, 50000.0),\n",
       " (11, 'Nancy Karrigan', 9, 4, 42000.0),\n",
       " (16, 'Saul Goodman', 13, 6, 40000.0),\n",
       " (12, 'Kristi Yamaguchi', 9, 4, 40000.0),\n",
       " (10, 'Tonya Harding', 9, 4, 30000.0),\n",
       " (6, 'Bruce Banner', 4, 5, 8000.0),\n",
       " (7, 'Jane Foster', 4, 5, 7500.0),\n",
       " (1, 'Micheal Scott', None, 1, 6000.0),\n",
       " (2, 'Dwight Schrute', 1, 2, 4000.0),\n",
       " (5, 'Bill Nye', 4, 5, 3800.0),\n",
       " (3, 'Jim Halpert', 1, 2, 3500.0)]"
      ]
     },
     "execution_count": 2,
     "metadata": {},
     "output_type": "execute_result"
    }
   ],
   "source": [
    "%%sql\n",
    "SELECT\n",
    "    *\n",
    "FROM\n",
    "    employee\n",
    "ORDER BY\n",
    "    salary DESC\n",
    ";"
   ]
  },
  {
   "cell_type": "markdown",
   "metadata": {},
   "source": [
    "2. **List all the department names, and the number of employees in that department. Order by number of employess in department (greatest to least)**"
   ]
  },
  {
   "cell_type": "code",
   "execution_count": 3,
   "metadata": {},
   "outputs": [
    {
     "name": "stdout",
     "output_type": "stream",
     "text": [
      " * postgres://localhost/ex_employee1\n",
      "7 rows affected.\n"
     ]
    },
    {
     "data": {
      "text/html": [
       "<table>\n",
       "    <tr>\n",
       "        <th>deptname</th>\n",
       "        <th>count</th>\n",
       "    </tr>\n",
       "    <tr>\n",
       "        <td>Research</td>\n",
       "        <td>4</td>\n",
       "    </tr>\n",
       "    <tr>\n",
       "        <td>Admin</td>\n",
       "        <td>4</td>\n",
       "    </tr>\n",
       "    <tr>\n",
       "        <td>Training</td>\n",
       "        <td>3</td>\n",
       "    </tr>\n",
       "    <tr>\n",
       "        <td>Sales</td>\n",
       "        <td>3</td>\n",
       "    </tr>\n",
       "    <tr>\n",
       "        <td>Legal</td>\n",
       "        <td>1</td>\n",
       "    </tr>\n",
       "    <tr>\n",
       "        <td>IT</td>\n",
       "        <td>1</td>\n",
       "    </tr>\n",
       "    <tr>\n",
       "        <td>SecretOps</td>\n",
       "        <td>0</td>\n",
       "    </tr>\n",
       "</table>"
      ],
      "text/plain": [
       "[('Research', 4),\n",
       " ('Admin', 4),\n",
       " ('Training', 3),\n",
       " ('Sales', 3),\n",
       " ('Legal', 1),\n",
       " ('IT', 1),\n",
       " ('SecretOps', 0)]"
      ]
     },
     "execution_count": 3,
     "metadata": {},
     "output_type": "execute_result"
    }
   ],
   "source": [
    "%%sql\n",
    "SELECT\n",
    "    deptname, count(empid)\n",
    "FROM\n",
    "    department\n",
    "    LEFT JOIN\n",
    "        employee\n",
    "    ON\n",
    "        employee.deptid = department.deptid\n",
    "GROUP BY \n",
    "    deptname\n",
    "ORDER BY \n",
    "    count(empid) DESC\n",
    ";"
   ]
  },
  {
   "cell_type": "markdown",
   "metadata": {},
   "source": [
    "3. **List all the employees that don't have a manager**"
   ]
  },
  {
   "cell_type": "code",
   "execution_count": 4,
   "metadata": {},
   "outputs": [
    {
     "name": "stdout",
     "output_type": "stream",
     "text": [
      " * postgres://localhost/ex_employee1\n",
      "5 rows affected.\n"
     ]
    },
    {
     "data": {
      "text/html": [
       "<table>\n",
       "    <tr>\n",
       "        <th>empid</th>\n",
       "        <th>name</th>\n",
       "        <th>managerid</th>\n",
       "        <th>deptid</th>\n",
       "        <th>salary</th>\n",
       "    </tr>\n",
       "    <tr>\n",
       "        <td>1</td>\n",
       "        <td>Micheal Scott</td>\n",
       "        <td>None</td>\n",
       "        <td>1</td>\n",
       "        <td>6000.0</td>\n",
       "    </tr>\n",
       "    <tr>\n",
       "        <td>4</td>\n",
       "        <td>Anthony Stark</td>\n",
       "        <td>None</td>\n",
       "        <td>1</td>\n",
       "        <td>100000.0</td>\n",
       "    </tr>\n",
       "    <tr>\n",
       "        <td>8</td>\n",
       "        <td>Shuri</td>\n",
       "        <td>None</td>\n",
       "        <td>5</td>\n",
       "        <td>80000.0</td>\n",
       "    </tr>\n",
       "    <tr>\n",
       "        <td>9</td>\n",
       "        <td>Diane Rawlinson</td>\n",
       "        <td>None</td>\n",
       "        <td>1</td>\n",
       "        <td>50000.0</td>\n",
       "    </tr>\n",
       "    <tr>\n",
       "        <td>13</td>\n",
       "        <td>Donna Clarke</td>\n",
       "        <td>None</td>\n",
       "        <td>1</td>\n",
       "        <td>75000.0</td>\n",
       "    </tr>\n",
       "</table>"
      ],
      "text/plain": [
       "[(1, 'Micheal Scott', None, 1, 6000.0),\n",
       " (4, 'Anthony Stark', None, 1, 100000.0),\n",
       " (8, 'Shuri', None, 5, 80000.0),\n",
       " (9, 'Diane Rawlinson', None, 1, 50000.0),\n",
       " (13, 'Donna Clarke', None, 1, 75000.0)]"
      ]
     },
     "execution_count": 4,
     "metadata": {},
     "output_type": "execute_result"
    }
   ],
   "source": [
    "%%sql\n",
    "SELECT\n",
    "    *\n",
    "FROM\n",
    "    employee\n",
    "WHERE\n",
    "    managerid IS NULL\n",
    ";"
   ]
  },
  {
   "cell_type": "markdown",
   "metadata": {},
   "source": [
    "4. **List all employees by name, and the name of their manager. If the employee doesn't have a manager, leave the column as NULL.**"
   ]
  },
  {
   "cell_type": "code",
   "execution_count": 5,
   "metadata": {},
   "outputs": [
    {
     "name": "stdout",
     "output_type": "stream",
     "text": [
      " * postgres://localhost/ex_employee1\n",
      "16 rows affected.\n"
     ]
    },
    {
     "data": {
      "text/html": [
       "<table>\n",
       "    <tr>\n",
       "        <th>employee</th>\n",
       "        <th>manager</th>\n",
       "    </tr>\n",
       "    <tr>\n",
       "        <td>Dwight Schrute</td>\n",
       "        <td>Micheal Scott</td>\n",
       "    </tr>\n",
       "    <tr>\n",
       "        <td>Jim Halpert</td>\n",
       "        <td>Micheal Scott</td>\n",
       "    </tr>\n",
       "    <tr>\n",
       "        <td>Bruce Banner</td>\n",
       "        <td>Anthony Stark</td>\n",
       "    </tr>\n",
       "    <tr>\n",
       "        <td>Bill Nye</td>\n",
       "        <td>Anthony Stark</td>\n",
       "    </tr>\n",
       "    <tr>\n",
       "        <td>Jane Foster</td>\n",
       "        <td>Anthony Stark</td>\n",
       "    </tr>\n",
       "    <tr>\n",
       "        <td>Nancy Karrigan</td>\n",
       "        <td>Diane Rawlinson</td>\n",
       "    </tr>\n",
       "    <tr>\n",
       "        <td>Tonya Harding</td>\n",
       "        <td>Diane Rawlinson</td>\n",
       "    </tr>\n",
       "    <tr>\n",
       "        <td>Kristi Yamaguchi</td>\n",
       "        <td>Diane Rawlinson</td>\n",
       "    </tr>\n",
       "    <tr>\n",
       "        <td>Cameron Howe</td>\n",
       "        <td>Donna Clarke</td>\n",
       "    </tr>\n",
       "    <tr>\n",
       "        <td>Saul Goodman</td>\n",
       "        <td>Donna Clarke</td>\n",
       "    </tr>\n",
       "    <tr>\n",
       "        <td>Joe McMillan</td>\n",
       "        <td>Donna Clarke</td>\n",
       "    </tr>\n",
       "    <tr>\n",
       "        <td>Diane Rawlinson</td>\n",
       "        <td>None</td>\n",
       "    </tr>\n",
       "    <tr>\n",
       "        <td>Anthony Stark</td>\n",
       "        <td>None</td>\n",
       "    </tr>\n",
       "    <tr>\n",
       "        <td>Shuri</td>\n",
       "        <td>None</td>\n",
       "    </tr>\n",
       "    <tr>\n",
       "        <td>Micheal Scott</td>\n",
       "        <td>None</td>\n",
       "    </tr>\n",
       "    <tr>\n",
       "        <td>Donna Clarke</td>\n",
       "        <td>None</td>\n",
       "    </tr>\n",
       "</table>"
      ],
      "text/plain": [
       "[('Dwight Schrute', 'Micheal Scott'),\n",
       " ('Jim Halpert', 'Micheal Scott'),\n",
       " ('Bruce Banner', 'Anthony Stark'),\n",
       " ('Bill Nye', 'Anthony Stark'),\n",
       " ('Jane Foster', 'Anthony Stark'),\n",
       " ('Nancy Karrigan', 'Diane Rawlinson'),\n",
       " ('Tonya Harding', 'Diane Rawlinson'),\n",
       " ('Kristi Yamaguchi', 'Diane Rawlinson'),\n",
       " ('Cameron Howe', 'Donna Clarke'),\n",
       " ('Saul Goodman', 'Donna Clarke'),\n",
       " ('Joe McMillan', 'Donna Clarke'),\n",
       " ('Diane Rawlinson', None),\n",
       " ('Anthony Stark', None),\n",
       " ('Shuri', None),\n",
       " ('Micheal Scott', None),\n",
       " ('Donna Clarke', None)]"
      ]
     },
     "execution_count": 5,
     "metadata": {},
     "output_type": "execute_result"
    }
   ],
   "source": [
    "%%sql\n",
    "SELECT\n",
    "    e.name employee\n",
    "    , m.name manager\n",
    "FROM\n",
    "        employee e\n",
    "    LEFT JOIN\n",
    "        employee m\n",
    "    ON\n",
    "        e.managerid = m.empid"
   ]
  },
  {
   "cell_type": "markdown",
   "metadata": {},
   "source": [
    "5. **For each manager, list the number of employees he or she is managing. For these purposes, a manager is anyone who is not managed by someone else, even if that person has no direct reports.**"
   ]
  },
  {
   "cell_type": "code",
   "execution_count": 6,
   "metadata": {},
   "outputs": [
    {
     "name": "stdout",
     "output_type": "stream",
     "text": [
      " * postgres://localhost/ex_employee1\n",
      "5 rows affected.\n"
     ]
    },
    {
     "data": {
      "text/html": [
       "<table>\n",
       "    <tr>\n",
       "        <th>name</th>\n",
       "        <th>report_count</th>\n",
       "    </tr>\n",
       "    <tr>\n",
       "        <td>Diane Rawlinson</td>\n",
       "        <td>3</td>\n",
       "    </tr>\n",
       "    <tr>\n",
       "        <td>Donna Clarke</td>\n",
       "        <td>3</td>\n",
       "    </tr>\n",
       "    <tr>\n",
       "        <td>Anthony Stark</td>\n",
       "        <td>3</td>\n",
       "    </tr>\n",
       "    <tr>\n",
       "        <td>Micheal Scott</td>\n",
       "        <td>2</td>\n",
       "    </tr>\n",
       "    <tr>\n",
       "        <td>Shuri</td>\n",
       "        <td>0</td>\n",
       "    </tr>\n",
       "</table>"
      ],
      "text/plain": [
       "[('Diane Rawlinson', 3),\n",
       " ('Donna Clarke', 3),\n",
       " ('Anthony Stark', 3),\n",
       " ('Micheal Scott', 2),\n",
       " ('Shuri', 0)]"
      ]
     },
     "execution_count": 6,
     "metadata": {},
     "output_type": "execute_result"
    }
   ],
   "source": [
    "%%sql\n",
    "SELECT\n",
    "    m.name\n",
    "    , count(e.empid) as report_count\n",
    "FROM\n",
    "        employee m\n",
    "    LEFT JOIN\n",
    "        employee e \n",
    "    ON\n",
    "        m.empid = e.managerid\n",
    "WHERE\n",
    "    m.managerid IS NULL\n",
    "GROUP BY \n",
    "    m.empid, m.name\n",
    "ORDER BY \n",
    "    count(e.empid) DESC\n",
    ";"
   ]
  },
  {
   "cell_type": "markdown",
   "metadata": {},
   "source": [
    "6. **Find the two highest paid people per department**\n",
    "\n",
    "Note: This is a good use case for _window functions_, although you can also do it with a where clause."
   ]
  },
  {
   "cell_type": "code",
   "execution_count": 7,
   "metadata": {},
   "outputs": [
    {
     "name": "stdout",
     "output_type": "stream",
     "text": [
      " * postgres://localhost/ex_employee1\n",
      "10 rows affected.\n"
     ]
    },
    {
     "data": {
      "text/html": [
       "<table>\n",
       "    <tr>\n",
       "        <th>name</th>\n",
       "        <th>empid</th>\n",
       "        <th>salary</th>\n",
       "        <th>deptid</th>\n",
       "        <th>deptname</th>\n",
       "        <th>deptrank</th>\n",
       "    </tr>\n",
       "    <tr>\n",
       "        <td>Anthony Stark</td>\n",
       "        <td>4</td>\n",
       "        <td>100000.0</td>\n",
       "        <td>1</td>\n",
       "        <td>Admin</td>\n",
       "        <td>1</td>\n",
       "    </tr>\n",
       "    <tr>\n",
       "        <td>Donna Clarke</td>\n",
       "        <td>13</td>\n",
       "        <td>75000.0</td>\n",
       "        <td>1</td>\n",
       "        <td>Admin</td>\n",
       "        <td>2</td>\n",
       "    </tr>\n",
       "    <tr>\n",
       "        <td>Joe McMillan</td>\n",
       "        <td>15</td>\n",
       "        <td>80000.0</td>\n",
       "        <td>2</td>\n",
       "        <td>Sales</td>\n",
       "        <td>1</td>\n",
       "    </tr>\n",
       "    <tr>\n",
       "        <td>Dwight Schrute</td>\n",
       "        <td>2</td>\n",
       "        <td>4000.0</td>\n",
       "        <td>2</td>\n",
       "        <td>Sales</td>\n",
       "        <td>2</td>\n",
       "    </tr>\n",
       "    <tr>\n",
       "        <td>Cameron Howe</td>\n",
       "        <td>14</td>\n",
       "        <td>75000.0</td>\n",
       "        <td>3</td>\n",
       "        <td>IT</td>\n",
       "        <td>1</td>\n",
       "    </tr>\n",
       "    <tr>\n",
       "        <td>Nancy Karrigan</td>\n",
       "        <td>11</td>\n",
       "        <td>42000.0</td>\n",
       "        <td>4</td>\n",
       "        <td>Training</td>\n",
       "        <td>1</td>\n",
       "    </tr>\n",
       "    <tr>\n",
       "        <td>Kristi Yamaguchi</td>\n",
       "        <td>12</td>\n",
       "        <td>40000.0</td>\n",
       "        <td>4</td>\n",
       "        <td>Training</td>\n",
       "        <td>2</td>\n",
       "    </tr>\n",
       "    <tr>\n",
       "        <td>Shuri</td>\n",
       "        <td>8</td>\n",
       "        <td>80000.0</td>\n",
       "        <td>5</td>\n",
       "        <td>Research</td>\n",
       "        <td>1</td>\n",
       "    </tr>\n",
       "    <tr>\n",
       "        <td>Bruce Banner</td>\n",
       "        <td>6</td>\n",
       "        <td>8000.0</td>\n",
       "        <td>5</td>\n",
       "        <td>Research</td>\n",
       "        <td>2</td>\n",
       "    </tr>\n",
       "    <tr>\n",
       "        <td>Saul Goodman</td>\n",
       "        <td>16</td>\n",
       "        <td>40000.0</td>\n",
       "        <td>6</td>\n",
       "        <td>Legal</td>\n",
       "        <td>1</td>\n",
       "    </tr>\n",
       "</table>"
      ],
      "text/plain": [
       "[('Anthony Stark', 4, 100000.0, 1, 'Admin', 1),\n",
       " ('Donna Clarke', 13, 75000.0, 1, 'Admin', 2),\n",
       " ('Joe McMillan', 15, 80000.0, 2, 'Sales', 1),\n",
       " ('Dwight Schrute', 2, 4000.0, 2, 'Sales', 2),\n",
       " ('Cameron Howe', 14, 75000.0, 3, 'IT', 1),\n",
       " ('Nancy Karrigan', 11, 42000.0, 4, 'Training', 1),\n",
       " ('Kristi Yamaguchi', 12, 40000.0, 4, 'Training', 2),\n",
       " ('Shuri', 8, 80000.0, 5, 'Research', 1),\n",
       " ('Bruce Banner', 6, 8000.0, 5, 'Research', 2),\n",
       " ('Saul Goodman', 16, 40000.0, 6, 'Legal', 1)]"
      ]
     },
     "execution_count": 7,
     "metadata": {},
     "output_type": "execute_result"
    }
   ],
   "source": [
    "%%sql\n",
    "WITH emp_rank AS (\n",
    "    SELECT\n",
    "        empid\n",
    "        ,RANK()\n",
    "            OVER (PARTITION BY deptid ORDER BY salary DESC)\n",
    "            AS deptrank\n",
    "    FROM\n",
    "        employee\n",
    ")\n",
    "SELECT\n",
    "    e.name\n",
    "    ,e.empid\n",
    "    ,e.salary\n",
    "    ,d.deptid\n",
    "    ,d.deptname\n",
    "    ,r.deptrank\n",
    "FROM\n",
    "        employee e\n",
    "    JOIN\n",
    "        department d\n",
    "    ON\n",
    "        d.deptid = e.deptid\n",
    "    JOIN\n",
    "        emp_rank r\n",
    "    ON\n",
    "        r.empid = e.empid\n",
    "WHERE\n",
    "    r.deptrank <= 2\n",
    "ORDER BY \n",
    "    d.deptid ASC, e.salary DESC"
   ]
  }
 ],
 "metadata": {
  "kernelspec": {
   "display_name": "Python 3",
   "language": "python",
   "name": "python3"
  },
  "language_info": {
   "codemirror_mode": {
    "name": "ipython",
    "version": 3
   },
   "file_extension": ".py",
   "mimetype": "text/x-python",
   "name": "python",
   "nbconvert_exporter": "python",
   "pygments_lexer": "ipython3",
   "version": "3.6.8"
  }
 },
 "nbformat": 4,
 "nbformat_minor": 2
}
