{
 "cells": [
  {
   "cell_type": "markdown",
   "metadata": {},
   "source": [
    "# Exploratory Data Analysis\n",
    "\n",
    "This notebook summarizes various discoveries about the dataset that \n",
    "influenced how it was normalized. I moved the code out of the notebook\n",
    "that creates and fills the normalized tables because that notebook was\n",
    "getting pretty full/busy. \n"
   ]
  },
  {
   "cell_type": "code",
   "execution_count": 1,
   "metadata": {},
   "outputs": [
    {
     "data": {
      "text/plain": [
       "'Connected: @ex_superstore_normalize'"
      ]
     },
     "execution_count": 1,
     "metadata": {},
     "output_type": "execute_result"
    }
   ],
   "source": [
    "%load_ext sql\n",
    "%sql postgres://localhost/ex_superstore_normalize"
   ]
  },
  {
   "cell_type": "markdown",
   "metadata": {},
   "source": [
    "## What is unique to a given product?"
   ]
  },
  {
   "cell_type": "code",
   "execution_count": 2,
   "metadata": {},
   "outputs": [
    {
     "name": "stdout",
     "output_type": "stream",
     "text": [
      " * postgres://localhost/ex_superstore_normalize\n",
      "14 rows affected.\n"
     ]
    },
    {
     "data": {
      "text/html": [
       "<table>\n",
       "    <tr>\n",
       "        <th>cat_count</th>\n",
       "        <th>subcat_count</th>\n",
       "        <th>cont_count</th>\n",
       "        <th>product_name</th>\n",
       "        <th>base_count</th>\n",
       "        <th>price_count</th>\n",
       "    </tr>\n",
       "    <tr>\n",
       "        <td>1</td>\n",
       "        <td>1</td>\n",
       "        <td>1</td>\n",
       "        <td>Adesso Programmable 142-Key Keyboard</td>\n",
       "        <td>2</td>\n",
       "        <td>1</td>\n",
       "    </tr>\n",
       "    <tr>\n",
       "        <td>1</td>\n",
       "        <td>1</td>\n",
       "        <td>1</td>\n",
       "        <td>Bevis Round Bullnose 29&quot; High Table Top</td>\n",
       "        <td>2</td>\n",
       "        <td>1</td>\n",
       "    </tr>\n",
       "    <tr>\n",
       "        <td>1</td>\n",
       "        <td>1</td>\n",
       "        <td>1</td>\n",
       "        <td>Bevis Round Conference Table Top &amp; Single Column Base</td>\n",
       "        <td>2</td>\n",
       "        <td>1</td>\n",
       "    </tr>\n",
       "    <tr>\n",
       "        <td>1</td>\n",
       "        <td>1</td>\n",
       "        <td>1</td>\n",
       "        <td>Bevis Round Conference Table Top, X-Base</td>\n",
       "        <td>2</td>\n",
       "        <td>1</td>\n",
       "    </tr>\n",
       "    <tr>\n",
       "        <td>1</td>\n",
       "        <td>1</td>\n",
       "        <td>1</td>\n",
       "        <td>BoxOffice By Design Rectangular and Half-Moon Meeting Room Tables</td>\n",
       "        <td>2</td>\n",
       "        <td>1</td>\n",
       "    </tr>\n",
       "    <tr>\n",
       "        <td>1</td>\n",
       "        <td>1</td>\n",
       "        <td>1</td>\n",
       "        <td>Bretford CR8500 Series Meeting Room Furniture</td>\n",
       "        <td>2</td>\n",
       "        <td>1</td>\n",
       "    </tr>\n",
       "    <tr>\n",
       "        <td>1</td>\n",
       "        <td>1</td>\n",
       "        <td>1</td>\n",
       "        <td>Bush Advantage Collection® Round Conference Table</td>\n",
       "        <td>2</td>\n",
       "        <td>1</td>\n",
       "    </tr>\n",
       "    <tr>\n",
       "        <td>1</td>\n",
       "        <td>1</td>\n",
       "        <td>1</td>\n",
       "        <td>Fellowes Basic 104-Key Keyboard, Platinum</td>\n",
       "        <td>2</td>\n",
       "        <td>1</td>\n",
       "    </tr>\n",
       "    <tr>\n",
       "        <td>1</td>\n",
       "        <td>1</td>\n",
       "        <td>1</td>\n",
       "        <td>Fellowes Smart Design 104-Key Enhanced Keyboard, PS/2 Adapter, Platinum</td>\n",
       "        <td>2</td>\n",
       "        <td>1</td>\n",
       "    </tr>\n",
       "    <tr>\n",
       "        <td>1</td>\n",
       "        <td>1</td>\n",
       "        <td>1</td>\n",
       "        <td>Keytronic 105-Key Spanish Keyboard</td>\n",
       "        <td>2</td>\n",
       "        <td>1</td>\n",
       "    </tr>\n",
       "    <tr>\n",
       "        <td>1</td>\n",
       "        <td>1</td>\n",
       "        <td>1</td>\n",
       "        <td>Keytronic French Keyboard</td>\n",
       "        <td>2</td>\n",
       "        <td>1</td>\n",
       "    </tr>\n",
       "    <tr>\n",
       "        <td>1</td>\n",
       "        <td>1</td>\n",
       "        <td>1</td>\n",
       "        <td>Metal Folding Chairs, Beige, 4/Carton</td>\n",
       "        <td>1</td>\n",
       "        <td>2</td>\n",
       "    </tr>\n",
       "    <tr>\n",
       "        <td>1</td>\n",
       "        <td>1</td>\n",
       "        <td>1</td>\n",
       "        <td>Panasonic KX-P3200 Dot Matrix Printer</td>\n",
       "        <td>2</td>\n",
       "        <td>2</td>\n",
       "    </tr>\n",
       "    <tr>\n",
       "        <td>1</td>\n",
       "        <td>1</td>\n",
       "        <td>1</td>\n",
       "        <td>Staples #10 Laser &amp; Inkjet Envelopes, 4 1/8&quot; x 9 1/2&quot;, 100/Box</td>\n",
       "        <td>2</td>\n",
       "        <td>1</td>\n",
       "    </tr>\n",
       "</table>"
      ],
      "text/plain": [
       "[(1, 1, 1, 'Adesso Programmable 142-Key Keyboard', 2, 1),\n",
       " (1, 1, 1, 'Bevis Round Bullnose 29\" High Table Top', 2, 1),\n",
       " (1, 1, 1, 'Bevis Round Conference Table Top & Single Column Base', 2, 1),\n",
       " (1, 1, 1, 'Bevis Round Conference Table Top, X-Base', 2, 1),\n",
       " (1, 1, 1, 'BoxOffice By Design Rectangular and Half-Moon Meeting Room Tables', 2, 1),\n",
       " (1, 1, 1, 'Bretford CR8500 Series Meeting Room Furniture', 2, 1),\n",
       " (1, 1, 1, 'Bush Advantage Collection® Round Conference Table', 2, 1),\n",
       " (1, 1, 1, 'Fellowes Basic 104-Key Keyboard, Platinum', 2, 1),\n",
       " (1, 1, 1, 'Fellowes Smart Design 104-Key Enhanced Keyboard, PS/2 Adapter, Platinum', 2, 1),\n",
       " (1, 1, 1, 'Keytronic 105-Key Spanish Keyboard', 2, 1),\n",
       " (1, 1, 1, 'Keytronic French Keyboard', 2, 1),\n",
       " (1, 1, 1, 'Metal Folding Chairs, Beige, 4/Carton', 1, 2),\n",
       " (1, 1, 1, 'Panasonic KX-P3200 Dot Matrix Printer', 2, 2),\n",
       " (1, 1, 1, 'Staples #10 Laser & Inkjet Envelopes, 4 1/8\" x 9 1/2\", 100/Box', 2, 1)]"
      ]
     },
     "execution_count": 2,
     "metadata": {},
     "output_type": "execute_result"
    }
   ],
   "source": [
    "%%sql\n",
    "WITH multicheck AS (\n",
    "    SELECT \n",
    "        COUNT(DISTINCT product_category) cat_count,\n",
    "        COUNT(DISTINCT product_subcategory) subcat_count,\n",
    "        COUNT(DISTINCT product_container) cont_count,\n",
    "        product_name,\n",
    "        COUNT(DISTINCT product_base_margin) base_count,\n",
    "        COUNT(DISTINCT unit_price) price_count\n",
    "    FROM\n",
    "        orders\n",
    "    GROUP BY \n",
    "        product_name\n",
    ")\n",
    "SELECT \n",
    "    *\n",
    "FROM \n",
    "    multicheck\n",
    "WHERE\n",
    "        cat_count > 1\n",
    "    OR\n",
    "        subcat_count > 1\n",
    "    OR\n",
    "        cont_count > 1\n",
    "    OR\n",
    "        base_count > 1\n",
    "    OR\n",
    "        price_count > 1\n",
    "    ;"
   ]
  },
  {
   "cell_type": "markdown",
   "metadata": {},
   "source": [
    "For each product name, there is only one category, subcategory and container. However, there can be multiple unit_price and product_base_margin values."
   ]
  },
  {
   "cell_type": "markdown",
   "metadata": {},
   "source": [
    "## Customer segment \n",
    "\n",
    "It turns out customer segment is not unique per customer!"
   ]
  },
  {
   "cell_type": "code",
   "execution_count": 3,
   "metadata": {},
   "outputs": [
    {
     "name": "stdout",
     "output_type": "stream",
     "text": [
      " * postgres://localhost/ex_superstore_normalize\n",
      "10 rows affected.\n"
     ]
    },
    {
     "data": {
      "text/html": [
       "<table>\n",
       "    <tr>\n",
       "        <th>customer_name</th>\n",
       "        <th>count</th>\n",
       "    </tr>\n",
       "    <tr>\n",
       "        <td>Anna Wood</td>\n",
       "        <td>2</td>\n",
       "    </tr>\n",
       "    <tr>\n",
       "        <td>Annette McIntyre</td>\n",
       "        <td>2</td>\n",
       "    </tr>\n",
       "    <tr>\n",
       "        <td>Arlene Long</td>\n",
       "        <td>2</td>\n",
       "    </tr>\n",
       "    <tr>\n",
       "        <td>Benjamin Lam</td>\n",
       "        <td>2</td>\n",
       "    </tr>\n",
       "    <tr>\n",
       "        <td>Bonnie Matthews Rowland</td>\n",
       "        <td>2</td>\n",
       "    </tr>\n",
       "    <tr>\n",
       "        <td>Bradley Schroeder</td>\n",
       "        <td>2</td>\n",
       "    </tr>\n",
       "    <tr>\n",
       "        <td>Cameron Kendall</td>\n",
       "        <td>2</td>\n",
       "    </tr>\n",
       "    <tr>\n",
       "        <td>Carlos Hanson</td>\n",
       "        <td>2</td>\n",
       "    </tr>\n",
       "    <tr>\n",
       "        <td>Carolyn Greer</td>\n",
       "        <td>2</td>\n",
       "    </tr>\n",
       "    <tr>\n",
       "        <td>Christopher Norton Patterson</td>\n",
       "        <td>2</td>\n",
       "    </tr>\n",
       "</table>"
      ],
      "text/plain": [
       "[('Anna Wood', 2),\n",
       " ('Annette McIntyre', 2),\n",
       " ('Arlene Long', 2),\n",
       " ('Benjamin Lam', 2),\n",
       " ('Bonnie Matthews Rowland', 2),\n",
       " ('Bradley Schroeder', 2),\n",
       " ('Cameron Kendall', 2),\n",
       " ('Carlos Hanson', 2),\n",
       " ('Carolyn Greer', 2),\n",
       " ('Christopher Norton Patterson', 2)]"
      ]
     },
     "execution_count": 3,
     "metadata": {},
     "output_type": "execute_result"
    }
   ],
   "source": [
    "%%sql\n",
    "SELECT \n",
    "    customer_name,\n",
    "    COUNT(DISTINCT customer_segment)\n",
    "FROM\n",
    "    orders\n",
    "GROUP BY \n",
    "    customer_name\n",
    "HAVING\n",
    "    COUNT(DISTINCT customer_segment) > 1\n",
    "LIMIT \n",
    "    10;"
   ]
  },
  {
   "cell_type": "markdown",
   "metadata": {},
   "source": [
    "There are actually 58 customers with more than one segment. \n",
    "\n",
    "However, each customer order is only associated with one segment. I put the \n",
    "customer segment in the new order table. "
   ]
  },
  {
   "cell_type": "code",
   "execution_count": 4,
   "metadata": {},
   "outputs": [
    {
     "name": "stdout",
     "output_type": "stream",
     "text": [
      " * postgres://localhost/ex_superstore_normalize\n",
      "0 rows affected.\n"
     ]
    },
    {
     "data": {
      "text/html": [
       "<table>\n",
       "    <tr>\n",
       "        <th>customer_name</th>\n",
       "        <th>order_id</th>\n",
       "        <th>count</th>\n",
       "    </tr>\n",
       "</table>"
      ],
      "text/plain": [
       "[]"
      ]
     },
     "execution_count": 4,
     "metadata": {},
     "output_type": "execute_result"
    }
   ],
   "source": [
    "%%sql\n",
    "SELECT\n",
    "    customer_name, \n",
    "    order_id, \n",
    "    COUNT(DISTINCT customer_segment)\n",
    "FROM\n",
    "    orders\n",
    "GROUP BY \n",
    "    customer_name, order_id\n",
    "HAVING\n",
    "    COUNT(DISTINCT customer_segment) > 1\n",
    ";"
   ]
  },
  {
   "cell_type": "markdown",
   "metadata": {},
   "source": [
    "## Each customer has one name \n",
    "\n",
    "Also a spot check to see if a customer id has more than one address."
   ]
  },
  {
   "cell_type": "code",
   "execution_count": 5,
   "metadata": {},
   "outputs": [
    {
     "name": "stdout",
     "output_type": "stream",
     "text": [
      " * postgres://localhost/ex_superstore_normalize\n",
      "1 rows affected.\n"
     ]
    },
    {
     "data": {
      "text/html": [
       "<table>\n",
       "    <tr>\n",
       "        <th>count</th>\n",
       "    </tr>\n",
       "    <tr>\n",
       "        <td>1130</td>\n",
       "    </tr>\n",
       "</table>"
      ],
      "text/plain": [
       "[(1130,)]"
      ]
     },
     "execution_count": 5,
     "metadata": {},
     "output_type": "execute_result"
    }
   ],
   "source": [
    "%sql SELECT COUNT(DISTINCT customer_id) FROM orders;"
   ]
  },
  {
   "cell_type": "code",
   "execution_count": 6,
   "metadata": {},
   "outputs": [
    {
     "name": "stdout",
     "output_type": "stream",
     "text": [
      " * postgres://localhost/ex_superstore_normalize\n",
      "1 rows affected.\n"
     ]
    },
    {
     "data": {
      "text/html": [
       "<table>\n",
       "    <tr>\n",
       "        <th>count</th>\n",
       "    </tr>\n",
       "    <tr>\n",
       "        <td>1130</td>\n",
       "    </tr>\n",
       "</table>"
      ],
      "text/plain": [
       "[(1130,)]"
      ]
     },
     "execution_count": 6,
     "metadata": {},
     "output_type": "execute_result"
    }
   ],
   "source": [
    "%sql SELECT COUNT(DISTINCT customer_name) FROM orders;"
   ]
  },
  {
   "cell_type": "code",
   "execution_count": 7,
   "metadata": {},
   "outputs": [
    {
     "name": "stdout",
     "output_type": "stream",
     "text": [
      " * postgres://localhost/ex_superstore_normalize\n",
      "0 rows affected.\n"
     ]
    },
    {
     "data": {
      "text/html": [
       "<table>\n",
       "    <tr>\n",
       "        <th>count</th>\n",
       "    </tr>\n",
       "</table>"
      ],
      "text/plain": [
       "[]"
      ]
     },
     "execution_count": 7,
     "metadata": {},
     "output_type": "execute_result"
    }
   ],
   "source": [
    "%%sql \n",
    "SELECT \n",
    "    COUNT(DISTINCT city) \n",
    "FROM \n",
    "    orders \n",
    "GROUP BY \n",
    "    customer_id\n",
    "HAVING COUNT(DISTINCT city) > 1\n",
    ";"
   ]
  },
  {
   "cell_type": "markdown",
   "metadata": {},
   "source": [
    "## Exploring order attributes\n",
    "\n",
    "- The entire order has one order date\n",
    "- A specific item in the order can have a different priority than another item in the same order\n",
    "- Specific items can also have different ship modes\n",
    "- The same order_id can have multiple customer_id's associated with it\n",
    "- Two different order_id's can re-use the same row_id for order items\n"
   ]
  },
  {
   "cell_type": "code",
   "execution_count": 8,
   "metadata": {},
   "outputs": [
    {
     "name": "stdout",
     "output_type": "stream",
     "text": [
      " * postgres://localhost/ex_superstore_normalize\n",
      "0 rows affected.\n"
     ]
    },
    {
     "data": {
      "text/html": [
       "<table>\n",
       "    <tr>\n",
       "        <th>order_id</th>\n",
       "        <th>count</th>\n",
       "    </tr>\n",
       "</table>"
      ],
      "text/plain": [
       "[]"
      ]
     },
     "execution_count": 8,
     "metadata": {},
     "output_type": "execute_result"
    }
   ],
   "source": [
    "%%sql\n",
    "SELECT\n",
    "    order_id, count(distinct order_date)\n",
    "FROM\n",
    "    orders\n",
    "GROUP BY\n",
    "    order_id\n",
    "HAVING\n",
    "    COUNT(DISTINCT order_date) > 1\n",
    ";"
   ]
  },
  {
   "cell_type": "code",
   "execution_count": 9,
   "metadata": {},
   "outputs": [
    {
     "name": "stdout",
     "output_type": "stream",
     "text": [
      " * postgres://localhost/ex_superstore_normalize\n",
      "3 rows affected.\n"
     ]
    },
    {
     "data": {
      "text/html": [
       "<table>\n",
       "    <tr>\n",
       "        <th>order_id</th>\n",
       "        <th>count</th>\n",
       "    </tr>\n",
       "    <tr>\n",
       "        <td>86885</td>\n",
       "        <td>2</td>\n",
       "    </tr>\n",
       "    <tr>\n",
       "        <td>88908</td>\n",
       "        <td>2</td>\n",
       "    </tr>\n",
       "    <tr>\n",
       "        <td>90540</td>\n",
       "        <td>2</td>\n",
       "    </tr>\n",
       "</table>"
      ],
      "text/plain": [
       "[(86885, 2), (88908, 2), (90540, 2)]"
      ]
     },
     "execution_count": 9,
     "metadata": {},
     "output_type": "execute_result"
    }
   ],
   "source": [
    "%%sql\n",
    "SELECT\n",
    "    order_id, COUNT(DISTINCT order_priority)\n",
    "FROM\n",
    "    orders\n",
    "GROUP BY\n",
    "    order_id\n",
    "HAVING\n",
    "    COUNT(DISTINCT order_priority) > 1\n",
    ";"
   ]
  },
  {
   "cell_type": "code",
   "execution_count": 10,
   "metadata": {},
   "outputs": [
    {
     "name": "stdout",
     "output_type": "stream",
     "text": [
      " * postgres://localhost/ex_superstore_normalize\n",
      "5 rows affected.\n"
     ]
    },
    {
     "data": {
      "text/html": [
       "<table>\n",
       "    <tr>\n",
       "        <th>order_id</th>\n",
       "        <th>count</th>\n",
       "    </tr>\n",
       "    <tr>\n",
       "        <td>962</td>\n",
       "        <td>2</td>\n",
       "    </tr>\n",
       "    <tr>\n",
       "        <td>9606</td>\n",
       "        <td>2</td>\n",
       "    </tr>\n",
       "    <tr>\n",
       "        <td>12224</td>\n",
       "        <td>2</td>\n",
       "    </tr>\n",
       "    <tr>\n",
       "        <td>13959</td>\n",
       "        <td>2</td>\n",
       "    </tr>\n",
       "    <tr>\n",
       "        <td>21636</td>\n",
       "        <td>2</td>\n",
       "    </tr>\n",
       "</table>"
      ],
      "text/plain": [
       "[(962, 2), (9606, 2), (12224, 2), (13959, 2), (21636, 2)]"
      ]
     },
     "execution_count": 10,
     "metadata": {},
     "output_type": "execute_result"
    }
   ],
   "source": [
    "%%sql\n",
    "SELECT\n",
    "    order_id, COUNT(DISTINCT ship_mode)\n",
    "FROM\n",
    "    orders\n",
    "GROUP BY\n",
    "    order_id\n",
    "HAVING\n",
    "    COUNT(DISTINCT ship_mode) > 1\n",
    "LIMIT\n",
    "    5 /* there are 203 of these */\n",
    ";"
   ]
  },
  {
   "cell_type": "code",
   "execution_count": 11,
   "metadata": {},
   "outputs": [
    {
     "name": "stdout",
     "output_type": "stream",
     "text": [
      " * postgres://localhost/ex_superstore_normalize\n",
      "5 rows affected.\n"
     ]
    },
    {
     "data": {
      "text/html": [
       "<table>\n",
       "    <tr>\n",
       "        <th>order_id</th>\n",
       "        <th>count</th>\n",
       "    </tr>\n",
       "    <tr>\n",
       "        <td>85880</td>\n",
       "        <td>2</td>\n",
       "    </tr>\n",
       "    <tr>\n",
       "        <td>85966</td>\n",
       "        <td>2</td>\n",
       "    </tr>\n",
       "    <tr>\n",
       "        <td>86012</td>\n",
       "        <td>2</td>\n",
       "    </tr>\n",
       "    <tr>\n",
       "        <td>86051</td>\n",
       "        <td>2</td>\n",
       "    </tr>\n",
       "    <tr>\n",
       "        <td>86075</td>\n",
       "        <td>2</td>\n",
       "    </tr>\n",
       "</table>"
      ],
      "text/plain": [
       "[(85880, 2), (85966, 2), (86012, 2), (86051, 2), (86075, 2)]"
      ]
     },
     "execution_count": 11,
     "metadata": {},
     "output_type": "execute_result"
    }
   ],
   "source": [
    "%%sql\n",
    "SELECT\n",
    "    order_id, COUNT(DISTINCT customer_id)\n",
    "FROM\n",
    "    orders\n",
    "GROUP BY\n",
    "    order_id\n",
    "HAVING\n",
    "    COUNT(DISTINCT customer_id) > 1\n",
    "LIMIT\n",
    "    5 /* there are 104 of these */\n",
    ";"
   ]
  },
  {
   "cell_type": "code",
   "execution_count": 12,
   "metadata": {},
   "outputs": [
    {
     "name": "stdout",
     "output_type": "stream",
     "text": [
      " * postgres://localhost/ex_superstore_normalize\n",
      "1 rows affected.\n"
     ]
    },
    {
     "data": {
      "text/html": [
       "<table>\n",
       "    <tr>\n",
       "        <th>row_id</th>\n",
       "        <th>count</th>\n",
       "    </tr>\n",
       "    <tr>\n",
       "        <td>22015</td>\n",
       "        <td>2</td>\n",
       "    </tr>\n",
       "</table>"
      ],
      "text/plain": [
       "[(22015, 2)]"
      ]
     },
     "execution_count": 12,
     "metadata": {},
     "output_type": "execute_result"
    }
   ],
   "source": [
    "%%sql\n",
    "SELECT\n",
    "    row_id, count(distinct order_id)\n",
    "FROM\n",
    "    orders\n",
    "GROUP BY\n",
    "    row_id\n",
    "HAVING\n",
    "    COUNT(DISTINCT order_id) > 1\n",
    ";"
   ]
  },
  {
   "cell_type": "markdown",
   "metadata": {},
   "source": [
    "## There are some NULLs in the original data for base_margin"
   ]
  },
  {
   "cell_type": "code",
   "execution_count": 13,
   "metadata": {},
   "outputs": [
    {
     "name": "stdout",
     "output_type": "stream",
     "text": [
      " * postgres://localhost/ex_superstore_normalize\n",
      "16 rows affected.\n"
     ]
    },
    {
     "data": {
      "text/html": [
       "<table>\n",
       "    <tr>\n",
       "        <th>row_id</th>\n",
       "        <th>order_priority</th>\n",
       "        <th>discount</th>\n",
       "        <th>unit_price</th>\n",
       "        <th>shipping_cost</th>\n",
       "        <th>customer_id</th>\n",
       "        <th>customer_name</th>\n",
       "        <th>ship_mode</th>\n",
       "        <th>customer_segment</th>\n",
       "        <th>product_category</th>\n",
       "        <th>product_subcategory</th>\n",
       "        <th>product_container</th>\n",
       "        <th>product_name</th>\n",
       "        <th>product_base_margin</th>\n",
       "        <th>country</th>\n",
       "        <th>region</th>\n",
       "        <th>state</th>\n",
       "        <th>city</th>\n",
       "        <th>postal_code</th>\n",
       "        <th>order_date</th>\n",
       "        <th>ship_date</th>\n",
       "        <th>profit</th>\n",
       "        <th>quantity_ordered_new</th>\n",
       "        <th>sales</th>\n",
       "        <th>order_id</th>\n",
       "    </tr>\n",
       "    <tr>\n",
       "        <td>18261</td>\n",
       "        <td>Critical</td>\n",
       "        <td>0.06</td>\n",
       "        <td>276.2</td>\n",
       "        <td>24.49</td>\n",
       "        <td>335</td>\n",
       "        <td>Curtis O&#x27;Connell</td>\n",
       "        <td>Regular Air</td>\n",
       "        <td>Corporate</td>\n",
       "        <td>Furniture</td>\n",
       "        <td>Chairs &amp; Chairmats</td>\n",
       "        <td>Large Box</td>\n",
       "        <td>SAFCO Arco Folding Chair</td>\n",
       "        <td>None</td>\n",
       "        <td>United States</td>\n",
       "        <td>West</td>\n",
       "        <td>Oregon</td>\n",
       "        <td>Medford</td>\n",
       "        <td>97504</td>\n",
       "        <td>2015-05-04 00:00:00</td>\n",
       "        <td>2015-05-05 00:00:00</td>\n",
       "        <td>2639.47</td>\n",
       "        <td>14</td>\n",
       "        <td>3825.32</td>\n",
       "        <td>87277</td>\n",
       "    </tr>\n",
       "    <tr>\n",
       "        <td>18305</td>\n",
       "        <td>Critical</td>\n",
       "        <td>0.01</td>\n",
       "        <td>128.24</td>\n",
       "        <td>12.65</td>\n",
       "        <td>508</td>\n",
       "        <td>Cameron Owens</td>\n",
       "        <td>Regular Air</td>\n",
       "        <td>Corporate</td>\n",
       "        <td>Furniture</td>\n",
       "        <td>Chairs &amp; Chairmats</td>\n",
       "        <td>Medium Box</td>\n",
       "        <td>SAFCO Folding Chair Trolley</td>\n",
       "        <td>None</td>\n",
       "        <td>United States</td>\n",
       "        <td>South</td>\n",
       "        <td>Kentucky</td>\n",
       "        <td>Covington</td>\n",
       "        <td>41011</td>\n",
       "        <td>2015-04-18 00:00:00</td>\n",
       "        <td>2015-04-21 00:00:00</td>\n",
       "        <td>140.135</td>\n",
       "        <td>4</td>\n",
       "        <td>554.08</td>\n",
       "        <td>87357</td>\n",
       "    </tr>\n",
       "    <tr>\n",
       "        <td>24764</td>\n",
       "        <td>Critical</td>\n",
       "        <td>0.09</td>\n",
       "        <td>349.45</td>\n",
       "        <td>60.0</td>\n",
       "        <td>868</td>\n",
       "        <td>Sharon Ellis</td>\n",
       "        <td>Delivery Truck</td>\n",
       "        <td>Corporate</td>\n",
       "        <td>Furniture</td>\n",
       "        <td>Tables</td>\n",
       "        <td>Jumbo Drum</td>\n",
       "        <td>SAFCO PlanMaster Heigh-Adjustable Drafting Table Base, 43w x 30d x 30-37h, Black</td>\n",
       "        <td>None</td>\n",
       "        <td>United States</td>\n",
       "        <td>Central</td>\n",
       "        <td>Minnesota</td>\n",
       "        <td>Shoreview</td>\n",
       "        <td>55126</td>\n",
       "        <td>2015-03-06 00:00:00</td>\n",
       "        <td>2015-03-07 00:00:00</td>\n",
       "        <td>-2946.05</td>\n",
       "        <td>12</td>\n",
       "        <td>3918.98</td>\n",
       "        <td>91195</td>\n",
       "    </tr>\n",
       "    <tr>\n",
       "        <td>19185</td>\n",
       "        <td>High</td>\n",
       "        <td>0.09</td>\n",
       "        <td>349.45</td>\n",
       "        <td>60.0</td>\n",
       "        <td>1178</td>\n",
       "        <td>Sandy Hunt</td>\n",
       "        <td>Delivery Truck</td>\n",
       "        <td>Consumer</td>\n",
       "        <td>Furniture</td>\n",
       "        <td>Tables</td>\n",
       "        <td>Jumbo Drum</td>\n",
       "        <td>SAFCO PlanMaster Heigh-Adjustable Drafting Table Base, 43w x 30d x 30-37h, Black</td>\n",
       "        <td>None</td>\n",
       "        <td>United States</td>\n",
       "        <td>South</td>\n",
       "        <td>Florida</td>\n",
       "        <td>Altamonte Springs</td>\n",
       "        <td>32701</td>\n",
       "        <td>2015-04-09 00:00:00</td>\n",
       "        <td>2015-04-10 00:00:00</td>\n",
       "        <td>-369.11</td>\n",
       "        <td>7</td>\n",
       "        <td>2307.26</td>\n",
       "        <td>89787</td>\n",
       "    </tr>\n",
       "    <tr>\n",
       "        <td>20592</td>\n",
       "        <td>Medium</td>\n",
       "        <td>0.03</td>\n",
       "        <td>128.24</td>\n",
       "        <td>12.65</td>\n",
       "        <td>1237</td>\n",
       "        <td>Eva Simpson</td>\n",
       "        <td>Regular Air</td>\n",
       "        <td>Corporate</td>\n",
       "        <td>Furniture</td>\n",
       "        <td>Chairs &amp; Chairmats</td>\n",
       "        <td>Medium Box</td>\n",
       "        <td>SAFCO Folding Chair Trolley</td>\n",
       "        <td>None</td>\n",
       "        <td>United States</td>\n",
       "        <td>Central</td>\n",
       "        <td>Texas</td>\n",
       "        <td>Carrollton</td>\n",
       "        <td>75007</td>\n",
       "        <td>2015-01-31 00:00:00</td>\n",
       "        <td>2015-02-02 00:00:00</td>\n",
       "        <td>790.464</td>\n",
       "        <td>9</td>\n",
       "        <td>1145.6</td>\n",
       "        <td>86075</td>\n",
       "    </tr>\n",
       "    <tr>\n",
       "        <td>21848</td>\n",
       "        <td>Not Specified</td>\n",
       "        <td>0.08</td>\n",
       "        <td>128.24</td>\n",
       "        <td>12.65</td>\n",
       "        <td>1267</td>\n",
       "        <td>Rosemary Branch</td>\n",
       "        <td>Regular Air</td>\n",
       "        <td>Corporate</td>\n",
       "        <td>Furniture</td>\n",
       "        <td>Chairs &amp; Chairmats</td>\n",
       "        <td>Medium Box</td>\n",
       "        <td>SAFCO Folding Chair Trolley</td>\n",
       "        <td>None</td>\n",
       "        <td>United States</td>\n",
       "        <td>South</td>\n",
       "        <td>Florida</td>\n",
       "        <td>Boca Raton</td>\n",
       "        <td>33433</td>\n",
       "        <td>2015-05-12 00:00:00</td>\n",
       "        <td>2015-05-13 00:00:00</td>\n",
       "        <td>-379.344</td>\n",
       "        <td>3</td>\n",
       "        <td>366.44</td>\n",
       "        <td>89515</td>\n",
       "    </tr>\n",
       "    <tr>\n",
       "        <td>22125</td>\n",
       "        <td>Low</td>\n",
       "        <td>0.1</td>\n",
       "        <td>238.4</td>\n",
       "        <td>24.49</td>\n",
       "        <td>1281</td>\n",
       "        <td>Pauline Denton</td>\n",
       "        <td>Regular Air</td>\n",
       "        <td>Small Business</td>\n",
       "        <td>Furniture</td>\n",
       "        <td>Chairs &amp; Chairmats</td>\n",
       "        <td>Large Box</td>\n",
       "        <td>Safco Contoured Stacking Chairs</td>\n",
       "        <td>None</td>\n",
       "        <td>United States</td>\n",
       "        <td>Central</td>\n",
       "        <td>Indiana</td>\n",
       "        <td>Vincennes</td>\n",
       "        <td>47591</td>\n",
       "        <td>2015-01-24 00:00:00</td>\n",
       "        <td>2015-01-26 00:00:00</td>\n",
       "        <td>875.284</td>\n",
       "        <td>8</td>\n",
       "        <td>1774.5</td>\n",
       "        <td>89112</td>\n",
       "    </tr>\n",
       "    <tr>\n",
       "        <td>4125</td>\n",
       "        <td>Low</td>\n",
       "        <td>0.1</td>\n",
       "        <td>238.4</td>\n",
       "        <td>24.49</td>\n",
       "        <td>1282</td>\n",
       "        <td>Dana Sharpe</td>\n",
       "        <td>Regular Air</td>\n",
       "        <td>Small Business</td>\n",
       "        <td>Furniture</td>\n",
       "        <td>Chairs &amp; Chairmats</td>\n",
       "        <td>Large Box</td>\n",
       "        <td>Safco Contoured Stacking Chairs</td>\n",
       "        <td>None</td>\n",
       "        <td>United States</td>\n",
       "        <td>East</td>\n",
       "        <td>Pennsylvania</td>\n",
       "        <td>Philadelphia</td>\n",
       "        <td>19134</td>\n",
       "        <td>2015-01-24 00:00:00</td>\n",
       "        <td>2015-01-26 00:00:00</td>\n",
       "        <td>460.676</td>\n",
       "        <td>30</td>\n",
       "        <td>6654.39</td>\n",
       "        <td>29319</td>\n",
       "    </tr>\n",
       "    <tr>\n",
       "        <td>22593</td>\n",
       "        <td>High</td>\n",
       "        <td>0.09</td>\n",
       "        <td>349.45</td>\n",
       "        <td>60.0</td>\n",
       "        <td>1739</td>\n",
       "        <td>Edna Pierce</td>\n",
       "        <td>Delivery Truck</td>\n",
       "        <td>Corporate</td>\n",
       "        <td>Furniture</td>\n",
       "        <td>Tables</td>\n",
       "        <td>Jumbo Drum</td>\n",
       "        <td>SAFCO PlanMaster Heigh-Adjustable Drafting Table Base, 43w x 30d x 30-37h, Black</td>\n",
       "        <td>None</td>\n",
       "        <td>United States</td>\n",
       "        <td>South</td>\n",
       "        <td>North Carolina</td>\n",
       "        <td>Goldsboro</td>\n",
       "        <td>27534</td>\n",
       "        <td>2015-05-03 00:00:00</td>\n",
       "        <td>2015-05-04 00:00:00</td>\n",
       "        <td>-90.748</td>\n",
       "        <td>17</td>\n",
       "        <td>5835.41</td>\n",
       "        <td>85867</td>\n",
       "    </tr>\n",
       "    <tr>\n",
       "        <td>19914</td>\n",
       "        <td>Not Specified</td>\n",
       "        <td>0.08</td>\n",
       "        <td>95.99</td>\n",
       "        <td>35.0</td>\n",
       "        <td>2211</td>\n",
       "        <td>Anita Hahn</td>\n",
       "        <td>Express Air</td>\n",
       "        <td>Home Office</td>\n",
       "        <td>Office Supplies</td>\n",
       "        <td>Storage &amp; Organization</td>\n",
       "        <td>Large Box</td>\n",
       "        <td>Safco Industrial Wire Shelving</td>\n",
       "        <td>None</td>\n",
       "        <td>United States</td>\n",
       "        <td>East</td>\n",
       "        <td>Maryland</td>\n",
       "        <td>Bowie</td>\n",
       "        <td>20715</td>\n",
       "        <td>2015-01-01 00:00:00</td>\n",
       "        <td>2015-01-03 00:00:00</td>\n",
       "        <td>-425.208</td>\n",
       "        <td>2</td>\n",
       "        <td>193.88</td>\n",
       "        <td>88028</td>\n",
       "    </tr>\n",
       "    <tr>\n",
       "        <td>19525</td>\n",
       "        <td>Critical</td>\n",
       "        <td>0.01</td>\n",
       "        <td>138.14</td>\n",
       "        <td>35.0</td>\n",
       "        <td>2660</td>\n",
       "        <td>Jeffrey Page</td>\n",
       "        <td>Regular Air</td>\n",
       "        <td>Small Business</td>\n",
       "        <td>Office Supplies</td>\n",
       "        <td>Storage &amp; Organization</td>\n",
       "        <td>Large Box</td>\n",
       "        <td>SAFCO Commercial Wire Shelving, Black</td>\n",
       "        <td>None</td>\n",
       "        <td>United States</td>\n",
       "        <td>East</td>\n",
       "        <td>Maine</td>\n",
       "        <td>Gorham</td>\n",
       "        <td>4038</td>\n",
       "        <td>2015-02-24 00:00:00</td>\n",
       "        <td>2015-02-26 00:00:00</td>\n",
       "        <td>-321.51</td>\n",
       "        <td>4</td>\n",
       "        <td>599.03</td>\n",
       "        <td>86486</td>\n",
       "    </tr>\n",
       "    <tr>\n",
       "        <td>23188</td>\n",
       "        <td>High</td>\n",
       "        <td>0.06</td>\n",
       "        <td>276.2</td>\n",
       "        <td>24.49</td>\n",
       "        <td>3048</td>\n",
       "        <td>Tracy G Starr</td>\n",
       "        <td>Express Air</td>\n",
       "        <td>Corporate</td>\n",
       "        <td>Furniture</td>\n",
       "        <td>Chairs &amp; Chairmats</td>\n",
       "        <td>Large Box</td>\n",
       "        <td>SAFCO Arco Folding Chair</td>\n",
       "        <td>None</td>\n",
       "        <td>United States</td>\n",
       "        <td>West</td>\n",
       "        <td>California</td>\n",
       "        <td>Berkeley</td>\n",
       "        <td>94704</td>\n",
       "        <td>2015-03-05 00:00:00</td>\n",
       "        <td>2015-03-07 00:00:00</td>\n",
       "        <td>1167.38</td>\n",
       "        <td>10</td>\n",
       "        <td>2610.56</td>\n",
       "        <td>89789</td>\n",
       "    </tr>\n",
       "    <tr>\n",
       "        <td>20795</td>\n",
       "        <td>Critical</td>\n",
       "        <td>0.08</td>\n",
       "        <td>349.45</td>\n",
       "        <td>60.0</td>\n",
       "        <td>3119</td>\n",
       "        <td>Jay Hubbard</td>\n",
       "        <td>Delivery Truck</td>\n",
       "        <td>Corporate</td>\n",
       "        <td>Furniture</td>\n",
       "        <td>Tables</td>\n",
       "        <td>Jumbo Drum</td>\n",
       "        <td>SAFCO PlanMaster Heigh-Adjustable Drafting Table Base, 43w x 30d x 30-37h, Black</td>\n",
       "        <td>None</td>\n",
       "        <td>United States</td>\n",
       "        <td>South</td>\n",
       "        <td>Florida</td>\n",
       "        <td>Orlando</td>\n",
       "        <td>32839</td>\n",
       "        <td>2015-06-30 00:00:00</td>\n",
       "        <td>2015-07-02 00:00:00</td>\n",
       "        <td>513.084</td>\n",
       "        <td>11</td>\n",
       "        <td>3772.19</td>\n",
       "        <td>86432</td>\n",
       "    </tr>\n",
       "    <tr>\n",
       "        <td>18728</td>\n",
       "        <td>Not Specified</td>\n",
       "        <td>0.01</td>\n",
       "        <td>349.45</td>\n",
       "        <td>60.0</td>\n",
       "        <td>3257</td>\n",
       "        <td>Sharon Marcus</td>\n",
       "        <td>Delivery Truck</td>\n",
       "        <td>Consumer</td>\n",
       "        <td>Furniture</td>\n",
       "        <td>Tables</td>\n",
       "        <td>Jumbo Drum</td>\n",
       "        <td>SAFCO PlanMaster Heigh-Adjustable Drafting Table Base, 43w x 30d x 30-37h, Black</td>\n",
       "        <td>None</td>\n",
       "        <td>United States</td>\n",
       "        <td>West</td>\n",
       "        <td>Washington</td>\n",
       "        <td>Longview</td>\n",
       "        <td>98632</td>\n",
       "        <td>2015-05-26 00:00:00</td>\n",
       "        <td>2015-05-27 00:00:00</td>\n",
       "        <td>3739.39</td>\n",
       "        <td>15</td>\n",
       "        <td>5419.41</td>\n",
       "        <td>88825</td>\n",
       "    </tr>\n",
       "    <tr>\n",
       "        <td>23182</td>\n",
       "        <td>Critical</td>\n",
       "        <td>0.09</td>\n",
       "        <td>276.2</td>\n",
       "        <td>24.49</td>\n",
       "        <td>3380</td>\n",
       "        <td>Eva Decker</td>\n",
       "        <td>Regular Air</td>\n",
       "        <td>Home Office</td>\n",
       "        <td>Furniture</td>\n",
       "        <td>Chairs &amp; Chairmats</td>\n",
       "        <td>Large Box</td>\n",
       "        <td>SAFCO Arco Folding Chair</td>\n",
       "        <td>None</td>\n",
       "        <td>United States</td>\n",
       "        <td>South</td>\n",
       "        <td>Georgia</td>\n",
       "        <td>La Grange</td>\n",
       "        <td>30240</td>\n",
       "        <td>2015-04-20 00:00:00</td>\n",
       "        <td>2015-04-21 00:00:00</td>\n",
       "        <td>3193.28</td>\n",
       "        <td>11</td>\n",
       "        <td>2941.42</td>\n",
       "        <td>88838</td>\n",
       "    </tr>\n",
       "    <tr>\n",
       "        <td>19464</td>\n",
       "        <td>Not Specified</td>\n",
       "        <td>0.03</td>\n",
       "        <td>95.99</td>\n",
       "        <td>35.0</td>\n",
       "        <td>3388</td>\n",
       "        <td>Aaron Shaffer</td>\n",
       "        <td>Regular Air</td>\n",
       "        <td>Corporate</td>\n",
       "        <td>Office Supplies</td>\n",
       "        <td>Storage &amp; Organization</td>\n",
       "        <td>Large Box</td>\n",
       "        <td>Safco Industrial Wire Shelving</td>\n",
       "        <td>None</td>\n",
       "        <td>United States</td>\n",
       "        <td>West</td>\n",
       "        <td>California</td>\n",
       "        <td>Fairfield</td>\n",
       "        <td>94533</td>\n",
       "        <td>2015-05-11 00:00:00</td>\n",
       "        <td>2015-05-12 00:00:00</td>\n",
       "        <td>67.012</td>\n",
       "        <td>9</td>\n",
       "        <td>894.64</td>\n",
       "        <td>90154</td>\n",
       "    </tr>\n",
       "</table>"
      ],
      "text/plain": [
       "[(18261, 'Critical', 0.06, 276.2, 24.49, 335, \"Curtis O'Connell\", 'Regular Air', 'Corporate', 'Furniture', 'Chairs & Chairmats', 'Large Box', 'SAFCO Arco Folding Chair', None, 'United States', 'West', 'Oregon', 'Medford', 97504, datetime.datetime(2015, 5, 4, 0, 0), datetime.datetime(2015, 5, 5, 0, 0), 2639.47, 14, 3825.32, 87277),\n",
       " (18305, 'Critical', 0.01, 128.24, 12.65, 508, 'Cameron Owens', 'Regular Air', 'Corporate', 'Furniture', 'Chairs & Chairmats', 'Medium Box', 'SAFCO Folding Chair Trolley', None, 'United States', 'South', 'Kentucky', 'Covington', 41011, datetime.datetime(2015, 4, 18, 0, 0), datetime.datetime(2015, 4, 21, 0, 0), 140.135, 4, 554.08, 87357),\n",
       " (24764, 'Critical', 0.09, 349.45, 60.0, 868, 'Sharon Ellis', 'Delivery Truck', 'Corporate', 'Furniture', 'Tables', 'Jumbo Drum', 'SAFCO PlanMaster Heigh-Adjustable Drafting Table Base, 43w x 30d x 30-37h, Black', None, 'United States', 'Central', 'Minnesota', 'Shoreview', 55126, datetime.datetime(2015, 3, 6, 0, 0), datetime.datetime(2015, 3, 7, 0, 0), -2946.05, 12, 3918.98, 91195),\n",
       " (19185, 'High', 0.09, 349.45, 60.0, 1178, 'Sandy Hunt', 'Delivery Truck', 'Consumer', 'Furniture', 'Tables', 'Jumbo Drum', 'SAFCO PlanMaster Heigh-Adjustable Drafting Table Base, 43w x 30d x 30-37h, Black', None, 'United States', 'South', 'Florida', 'Altamonte Springs', 32701, datetime.datetime(2015, 4, 9, 0, 0), datetime.datetime(2015, 4, 10, 0, 0), -369.11, 7, 2307.26, 89787),\n",
       " (20592, 'Medium', 0.03, 128.24, 12.65, 1237, 'Eva Simpson', 'Regular Air', 'Corporate', 'Furniture', 'Chairs & Chairmats', 'Medium Box', 'SAFCO Folding Chair Trolley', None, 'United States', 'Central', 'Texas', 'Carrollton', 75007, datetime.datetime(2015, 1, 31, 0, 0), datetime.datetime(2015, 2, 2, 0, 0), 790.464, 9, 1145.6, 86075),\n",
       " (21848, 'Not Specified', 0.08, 128.24, 12.65, 1267, 'Rosemary Branch', 'Regular Air', 'Corporate', 'Furniture', 'Chairs & Chairmats', 'Medium Box', 'SAFCO Folding Chair Trolley', None, 'United States', 'South', 'Florida', 'Boca Raton', 33433, datetime.datetime(2015, 5, 12, 0, 0), datetime.datetime(2015, 5, 13, 0, 0), -379.344, 3, 366.44, 89515),\n",
       " (22125, 'Low', 0.1, 238.4, 24.49, 1281, 'Pauline Denton', 'Regular Air', 'Small Business', 'Furniture', 'Chairs & Chairmats', 'Large Box', 'Safco Contoured Stacking Chairs', None, 'United States', 'Central', 'Indiana', 'Vincennes', 47591, datetime.datetime(2015, 1, 24, 0, 0), datetime.datetime(2015, 1, 26, 0, 0), 875.284, 8, 1774.5, 89112),\n",
       " (4125, 'Low', 0.1, 238.4, 24.49, 1282, 'Dana Sharpe', 'Regular Air', 'Small Business', 'Furniture', 'Chairs & Chairmats', 'Large Box', 'Safco Contoured Stacking Chairs', None, 'United States', 'East', 'Pennsylvania', 'Philadelphia', 19134, datetime.datetime(2015, 1, 24, 0, 0), datetime.datetime(2015, 1, 26, 0, 0), 460.676, 30, 6654.39, 29319),\n",
       " (22593, 'High', 0.09, 349.45, 60.0, 1739, 'Edna Pierce', 'Delivery Truck', 'Corporate', 'Furniture', 'Tables', 'Jumbo Drum', 'SAFCO PlanMaster Heigh-Adjustable Drafting Table Base, 43w x 30d x 30-37h, Black', None, 'United States', 'South', 'North Carolina', 'Goldsboro', 27534, datetime.datetime(2015, 5, 3, 0, 0), datetime.datetime(2015, 5, 4, 0, 0), -90.748, 17, 5835.41, 85867),\n",
       " (19914, 'Not Specified', 0.08, 95.99, 35.0, 2211, 'Anita Hahn', 'Express Air', 'Home Office', 'Office Supplies', 'Storage & Organization', 'Large Box', 'Safco Industrial Wire Shelving', None, 'United States', 'East', 'Maryland', 'Bowie', 20715, datetime.datetime(2015, 1, 1, 0, 0), datetime.datetime(2015, 1, 3, 0, 0), -425.208, 2, 193.88, 88028),\n",
       " (19525, 'Critical', 0.01, 138.14, 35.0, 2660, 'Jeffrey Page', 'Regular Air', 'Small Business', 'Office Supplies', 'Storage & Organization', 'Large Box', 'SAFCO Commercial Wire Shelving, Black', None, 'United States', 'East', 'Maine', 'Gorham', 4038, datetime.datetime(2015, 2, 24, 0, 0), datetime.datetime(2015, 2, 26, 0, 0), -321.51, 4, 599.03, 86486),\n",
       " (23188, 'High', 0.06, 276.2, 24.49, 3048, 'Tracy G Starr', 'Express Air', 'Corporate', 'Furniture', 'Chairs & Chairmats', 'Large Box', 'SAFCO Arco Folding Chair', None, 'United States', 'West', 'California', 'Berkeley', 94704, datetime.datetime(2015, 3, 5, 0, 0), datetime.datetime(2015, 3, 7, 0, 0), 1167.38, 10, 2610.56, 89789),\n",
       " (20795, 'Critical', 0.08, 349.45, 60.0, 3119, 'Jay Hubbard', 'Delivery Truck', 'Corporate', 'Furniture', 'Tables', 'Jumbo Drum', 'SAFCO PlanMaster Heigh-Adjustable Drafting Table Base, 43w x 30d x 30-37h, Black', None, 'United States', 'South', 'Florida', 'Orlando', 32839, datetime.datetime(2015, 6, 30, 0, 0), datetime.datetime(2015, 7, 2, 0, 0), 513.084, 11, 3772.19, 86432),\n",
       " (18728, 'Not Specified', 0.01, 349.45, 60.0, 3257, 'Sharon Marcus', 'Delivery Truck', 'Consumer', 'Furniture', 'Tables', 'Jumbo Drum', 'SAFCO PlanMaster Heigh-Adjustable Drafting Table Base, 43w x 30d x 30-37h, Black', None, 'United States', 'West', 'Washington', 'Longview', 98632, datetime.datetime(2015, 5, 26, 0, 0), datetime.datetime(2015, 5, 27, 0, 0), 3739.39, 15, 5419.41, 88825),\n",
       " (23182, 'Critical', 0.09, 276.2, 24.49, 3380, 'Eva Decker', 'Regular Air', 'Home Office', 'Furniture', 'Chairs & Chairmats', 'Large Box', 'SAFCO Arco Folding Chair', None, 'United States', 'South', 'Georgia', 'La Grange', 30240, datetime.datetime(2015, 4, 20, 0, 0), datetime.datetime(2015, 4, 21, 0, 0), 3193.28, 11, 2941.42, 88838),\n",
       " (19464, 'Not Specified', 0.03, 95.99, 35.0, 3388, 'Aaron Shaffer', 'Regular Air', 'Corporate', 'Office Supplies', 'Storage & Organization', 'Large Box', 'Safco Industrial Wire Shelving', None, 'United States', 'West', 'California', 'Fairfield', 94533, datetime.datetime(2015, 5, 11, 0, 0), datetime.datetime(2015, 5, 12, 0, 0), 67.012, 9, 894.64, 90154)]"
      ]
     },
     "execution_count": 13,
     "metadata": {},
     "output_type": "execute_result"
    }
   ],
   "source": [
    "%%sql\n",
    "SELECT \n",
    "    * \n",
    "FROM \n",
    "    orders \n",
    "WHERE \n",
    "    NOT (orders IS NOT NULL);"
   ]
  },
  {
   "cell_type": "code",
   "execution_count": 14,
   "metadata": {},
   "outputs": [],
   "source": [
    "# which columns? \n",
    "nulls = _.DataFrame()"
   ]
  },
  {
   "cell_type": "code",
   "execution_count": 15,
   "metadata": {},
   "outputs": [
    {
     "data": {
      "text/plain": [
       "row_id                  False\n",
       "order_priority          False\n",
       "discount                False\n",
       "unit_price              False\n",
       "shipping_cost           False\n",
       "customer_id             False\n",
       "customer_name           False\n",
       "ship_mode               False\n",
       "customer_segment        False\n",
       "product_category        False\n",
       "product_subcategory     False\n",
       "product_container       False\n",
       "product_name            False\n",
       "product_base_margin      True\n",
       "country                 False\n",
       "region                  False\n",
       "state                   False\n",
       "city                    False\n",
       "postal_code             False\n",
       "order_date              False\n",
       "ship_date               False\n",
       "profit                  False\n",
       "quantity_ordered_new    False\n",
       "sales                   False\n",
       "order_id                False\n",
       "dtype: bool"
      ]
     },
     "execution_count": 15,
     "metadata": {},
     "output_type": "execute_result"
    }
   ],
   "source": [
    "nulls.isna().any()"
   ]
  },
  {
   "cell_type": "code",
   "execution_count": 16,
   "metadata": {},
   "outputs": [],
   "source": [
    "# so all the NUlls are in the product_base_margin column"
   ]
  }
 ],
 "metadata": {
  "kernelspec": {
   "display_name": "Python 3",
   "language": "python",
   "name": "python3"
  },
  "language_info": {
   "codemirror_mode": {
    "name": "ipython",
    "version": 3
   },
   "file_extension": ".py",
   "mimetype": "text/x-python",
   "name": "python",
   "nbconvert_exporter": "python",
   "pygments_lexer": "ipython3",
   "version": "3.6.8"
  }
 },
 "nbformat": 4,
 "nbformat_minor": 2
}
