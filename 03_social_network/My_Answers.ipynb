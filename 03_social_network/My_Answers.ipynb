{
 "cells": [
  {
   "cell_type": "markdown",
   "metadata": {},
   "source": [
    "# Setup\n",
    "\n",
    "The name of this database is `ex_social`.\n",
    "\n",
    "If you believe there is an error in the results, please post an issue to this repo."
   ]
  },
  {
   "cell_type": "code",
   "execution_count": 1,
   "metadata": {},
   "outputs": [
    {
     "data": {
      "text/plain": [
       "'Connected: @ex_social'"
      ]
     },
     "execution_count": 1,
     "metadata": {},
     "output_type": "execute_result"
    }
   ],
   "source": [
    "%load_ext sql\n",
    "%sql postgres://localhost/ex_social"
   ]
  },
  {
   "cell_type": "markdown",
   "metadata": {},
   "source": [
    "## Questions\n",
    "\n",
    "1. How many users are there in each house?"
   ]
  },
  {
   "cell_type": "code",
   "execution_count": 2,
   "metadata": {},
   "outputs": [
    {
     "name": "stdout",
     "output_type": "stream",
     "text": [
      " * postgres://localhost/ex_social\n",
      "4 rows affected.\n"
     ]
    },
    {
     "data": {
      "text/html": [
       "<table>\n",
       "    <tr>\n",
       "        <th>count</th>\n",
       "        <th>house</th>\n",
       "    </tr>\n",
       "    <tr>\n",
       "        <td>4</td>\n",
       "        <td>Gryffindor</td>\n",
       "    </tr>\n",
       "    <tr>\n",
       "        <td>1</td>\n",
       "        <td>Hufflepuff</td>\n",
       "    </tr>\n",
       "    <tr>\n",
       "        <td>2</td>\n",
       "        <td>Ravenclaw</td>\n",
       "    </tr>\n",
       "    <tr>\n",
       "        <td>2</td>\n",
       "        <td>Slytherin</td>\n",
       "    </tr>\n",
       "</table>"
      ],
      "text/plain": [
       "[(4, 'Gryffindor'), (1, 'Hufflepuff'), (2, 'Ravenclaw'), (2, 'Slytherin')]"
      ]
     },
     "execution_count": 2,
     "metadata": {},
     "output_type": "execute_result"
    }
   ],
   "source": [
    "%%sql\n",
    "SELECT\n",
    "    count(user_id), house\n",
    "FROM\n",
    "    users\n",
    "GROUP BY \n",
    "    house\n",
    "ORDER BY \n",
    "    house\n",
    ";"
   ]
  },
  {
   "cell_type": "markdown",
   "metadata": {},
   "source": [
    "2. List all following links that were created before September 1st, 1993"
   ]
  },
  {
   "cell_type": "code",
   "execution_count": 3,
   "metadata": {},
   "outputs": [
    {
     "name": "stdout",
     "output_type": "stream",
     "text": [
      " * postgres://localhost/ex_social\n",
      "6 rows affected.\n"
     ]
    },
    {
     "data": {
      "text/html": [
       "<table>\n",
       "    <tr>\n",
       "        <th>user_id</th>\n",
       "        <th>follows</th>\n",
       "        <th>date_created</th>\n",
       "    </tr>\n",
       "    <tr>\n",
       "        <td>2</td>\n",
       "        <td>1</td>\n",
       "        <td>1989-01-01 00:00:00</td>\n",
       "    </tr>\n",
       "    <tr>\n",
       "        <td>3</td>\n",
       "        <td>1</td>\n",
       "        <td>1993-07-01 00:00:00</td>\n",
       "    </tr>\n",
       "    <tr>\n",
       "        <td>4</td>\n",
       "        <td>2</td>\n",
       "        <td>1988-08-08 00:00:00</td>\n",
       "    </tr>\n",
       "    <tr>\n",
       "        <td>4</td>\n",
       "        <td>1</td>\n",
       "        <td>1988-08-08 00:00:00</td>\n",
       "    </tr>\n",
       "    <tr>\n",
       "        <td>5</td>\n",
       "        <td>6</td>\n",
       "        <td>1986-01-10 00:00:00</td>\n",
       "    </tr>\n",
       "    <tr>\n",
       "        <td>7</td>\n",
       "        <td>1</td>\n",
       "        <td>1990-02-02 00:00:00</td>\n",
       "    </tr>\n",
       "</table>"
      ],
      "text/plain": [
       "[(2, 1, datetime.datetime(1989, 1, 1, 0, 0)),\n",
       " (3, 1, datetime.datetime(1993, 7, 1, 0, 0)),\n",
       " (4, 2, datetime.datetime(1988, 8, 8, 0, 0)),\n",
       " (4, 1, datetime.datetime(1988, 8, 8, 0, 0)),\n",
       " (5, 6, datetime.datetime(1986, 1, 10, 0, 0)),\n",
       " (7, 1, datetime.datetime(1990, 2, 2, 0, 0))]"
      ]
     },
     "execution_count": 3,
     "metadata": {},
     "output_type": "execute_result"
    }
   ],
   "source": [
    "%%sql\n",
    "SELECT \n",
    "    *\n",
    "FROM\n",
    "    follows\n",
    "WHERE\n",
    "    date_created < timestamp '1993-09-01'\n",
    ";"
   ]
  },
  {
   "cell_type": "markdown",
   "metadata": {},
   "source": [
    "3. List all rows from the `follows` table, replacing both `user_id`s with first name. Hint: it may help to make this a VIEW"
   ]
  },
  {
   "cell_type": "code",
   "execution_count": 4,
   "metadata": {},
   "outputs": [
    {
     "name": "stdout",
     "output_type": "stream",
     "text": [
      " * postgres://localhost/ex_social\n",
      "Done.\n"
     ]
    },
    {
     "data": {
      "text/plain": [
       "[]"
      ]
     },
     "execution_count": 4,
     "metadata": {},
     "output_type": "execute_result"
    }
   ],
   "source": [
    "%%sql\n",
    "CREATE VIEW named_followers AS\n",
    "    SELECT\n",
    "        u.first_name user_first,\n",
    "        u.last_name user_last,\n",
    "        u.house user_house,\n",
    "        f.first_name follows_first,\n",
    "        f.last_name follows_last,\n",
    "        f.house follows_house,\n",
    "        follows.*\n",
    "    FROM\n",
    "        follows\n",
    "        JOIN\n",
    "            users u\n",
    "        ON\n",
    "            u.user_id = follows.user_id\n",
    "        JOIN\n",
    "\n",
    "            users f\n",
    "        ON\n",
    "            f.user_id = follows.follows\n",
    ";"
   ]
  },
  {
   "cell_type": "code",
   "execution_count": 5,
   "metadata": {},
   "outputs": [
    {
     "name": "stdout",
     "output_type": "stream",
     "text": [
      " * postgres://localhost/ex_social\n",
      "20 rows affected.\n"
     ]
    },
    {
     "data": {
      "text/html": [
       "<table>\n",
       "    <tr>\n",
       "        <th>user_first</th>\n",
       "        <th>follows_first</th>\n",
       "        <th>date_created</th>\n",
       "    </tr>\n",
       "    <tr>\n",
       "        <td>Harry</td>\n",
       "        <td>Ron</td>\n",
       "        <td>1993-09-01 00:00:00</td>\n",
       "    </tr>\n",
       "    <tr>\n",
       "        <td>Ron</td>\n",
       "        <td>Harry</td>\n",
       "        <td>1989-01-01 00:00:00</td>\n",
       "    </tr>\n",
       "    <tr>\n",
       "        <td>Hermonie</td>\n",
       "        <td>Harry</td>\n",
       "        <td>1993-07-01 00:00:00</td>\n",
       "    </tr>\n",
       "    <tr>\n",
       "        <td>Ron</td>\n",
       "        <td>Hermonie</td>\n",
       "        <td>1994-10-10 00:00:00</td>\n",
       "    </tr>\n",
       "    <tr>\n",
       "        <td>Hermonie</td>\n",
       "        <td>Ron</td>\n",
       "        <td>1995-03-01 00:00:00</td>\n",
       "    </tr>\n",
       "    <tr>\n",
       "        <td>Ginny</td>\n",
       "        <td>Ron</td>\n",
       "        <td>1988-08-08 00:00:00</td>\n",
       "    </tr>\n",
       "    <tr>\n",
       "        <td>Ginny</td>\n",
       "        <td>Harry</td>\n",
       "        <td>1988-08-08 00:00:00</td>\n",
       "    </tr>\n",
       "    <tr>\n",
       "        <td>Harry</td>\n",
       "        <td>Ginny</td>\n",
       "        <td>1994-04-02 00:00:00</td>\n",
       "    </tr>\n",
       "    <tr>\n",
       "        <td>Harry</td>\n",
       "        <td>Draco</td>\n",
       "        <td>2000-01-01 00:00:00</td>\n",
       "    </tr>\n",
       "    <tr>\n",
       "        <td>Draco</td>\n",
       "        <td>Harry</td>\n",
       "        <td>2000-01-02 00:00:00</td>\n",
       "    </tr>\n",
       "    <tr>\n",
       "        <td>Draco</td>\n",
       "        <td>Tom</td>\n",
       "        <td>1986-01-10 00:00:00</td>\n",
       "    </tr>\n",
       "    <tr>\n",
       "        <td>Luna</td>\n",
       "        <td>Harry</td>\n",
       "        <td>1990-02-02 00:00:00</td>\n",
       "    </tr>\n",
       "    <tr>\n",
       "        <td>Harry</td>\n",
       "        <td>Luna</td>\n",
       "        <td>1996-10-01 00:00:00</td>\n",
       "    </tr>\n",
       "    <tr>\n",
       "        <td>Harry</td>\n",
       "        <td>Cho</td>\n",
       "        <td>1993-09-03 00:00:00</td>\n",
       "    </tr>\n",
       "    <tr>\n",
       "        <td>Cho</td>\n",
       "        <td>Harry</td>\n",
       "        <td>1995-09-01 00:00:00</td>\n",
       "    </tr>\n",
       "    <tr>\n",
       "        <td>Cho</td>\n",
       "        <td>Cedric</td>\n",
       "        <td>1995-09-01 00:00:00</td>\n",
       "    </tr>\n",
       "    <tr>\n",
       "        <td>Cedric</td>\n",
       "        <td>Cho</td>\n",
       "        <td>1996-01-10 00:00:00</td>\n",
       "    </tr>\n",
       "    <tr>\n",
       "        <td>Luna</td>\n",
       "        <td>Cho</td>\n",
       "        <td>1993-09-01 00:00:00</td>\n",
       "    </tr>\n",
       "    <tr>\n",
       "        <td>Hermonie</td>\n",
       "        <td>Cedric</td>\n",
       "        <td>1996-05-30 00:00:00</td>\n",
       "    </tr>\n",
       "    <tr>\n",
       "        <td>Ginny</td>\n",
       "        <td>Cedric</td>\n",
       "        <td>1996-05-30 00:00:00</td>\n",
       "    </tr>\n",
       "</table>"
      ],
      "text/plain": [
       "[('Harry', 'Ron', datetime.datetime(1993, 9, 1, 0, 0)),\n",
       " ('Ron', 'Harry', datetime.datetime(1989, 1, 1, 0, 0)),\n",
       " ('Hermonie', 'Harry', datetime.datetime(1993, 7, 1, 0, 0)),\n",
       " ('Ron', 'Hermonie', datetime.datetime(1994, 10, 10, 0, 0)),\n",
       " ('Hermonie', 'Ron', datetime.datetime(1995, 3, 1, 0, 0)),\n",
       " ('Ginny', 'Ron', datetime.datetime(1988, 8, 8, 0, 0)),\n",
       " ('Ginny', 'Harry', datetime.datetime(1988, 8, 8, 0, 0)),\n",
       " ('Harry', 'Ginny', datetime.datetime(1994, 4, 2, 0, 0)),\n",
       " ('Harry', 'Draco', datetime.datetime(2000, 1, 1, 0, 0)),\n",
       " ('Draco', 'Harry', datetime.datetime(2000, 1, 2, 0, 0)),\n",
       " ('Draco', 'Tom', datetime.datetime(1986, 1, 10, 0, 0)),\n",
       " ('Luna', 'Harry', datetime.datetime(1990, 2, 2, 0, 0)),\n",
       " ('Harry', 'Luna', datetime.datetime(1996, 10, 1, 0, 0)),\n",
       " ('Harry', 'Cho', datetime.datetime(1993, 9, 3, 0, 0)),\n",
       " ('Cho', 'Harry', datetime.datetime(1995, 9, 1, 0, 0)),\n",
       " ('Cho', 'Cedric', datetime.datetime(1995, 9, 1, 0, 0)),\n",
       " ('Cedric', 'Cho', datetime.datetime(1996, 1, 10, 0, 0)),\n",
       " ('Luna', 'Cho', datetime.datetime(1993, 9, 1, 0, 0)),\n",
       " ('Hermonie', 'Cedric', datetime.datetime(1996, 5, 30, 0, 0)),\n",
       " ('Ginny', 'Cedric', datetime.datetime(1996, 5, 30, 0, 0))]"
      ]
     },
     "execution_count": 5,
     "metadata": {},
     "output_type": "execute_result"
    }
   ],
   "source": [
    "%%sql\n",
    "SELECT \n",
    "    user_first\n",
    "    , follows_first\n",
    "    , date_created\n",
    "FROM\n",
    "    named_followers\n",
    ";"
   ]
  },
  {
   "cell_type": "markdown",
   "metadata": {},
   "source": [
    "4. List all the following links established before September 1st 1993, but this time use the users first names."
   ]
  },
  {
   "cell_type": "code",
   "execution_count": 6,
   "metadata": {},
   "outputs": [
    {
     "name": "stdout",
     "output_type": "stream",
     "text": [
      " * postgres://localhost/ex_social\n",
      "6 rows affected.\n"
     ]
    },
    {
     "data": {
      "text/html": [
       "<table>\n",
       "    <tr>\n",
       "        <th>user_first</th>\n",
       "        <th>follows_first</th>\n",
       "        <th>date_created</th>\n",
       "    </tr>\n",
       "    <tr>\n",
       "        <td>Ron</td>\n",
       "        <td>Harry</td>\n",
       "        <td>1989-01-01 00:00:00</td>\n",
       "    </tr>\n",
       "    <tr>\n",
       "        <td>Hermonie</td>\n",
       "        <td>Harry</td>\n",
       "        <td>1993-07-01 00:00:00</td>\n",
       "    </tr>\n",
       "    <tr>\n",
       "        <td>Ginny</td>\n",
       "        <td>Ron</td>\n",
       "        <td>1988-08-08 00:00:00</td>\n",
       "    </tr>\n",
       "    <tr>\n",
       "        <td>Ginny</td>\n",
       "        <td>Harry</td>\n",
       "        <td>1988-08-08 00:00:00</td>\n",
       "    </tr>\n",
       "    <tr>\n",
       "        <td>Draco</td>\n",
       "        <td>Tom</td>\n",
       "        <td>1986-01-10 00:00:00</td>\n",
       "    </tr>\n",
       "    <tr>\n",
       "        <td>Luna</td>\n",
       "        <td>Harry</td>\n",
       "        <td>1990-02-02 00:00:00</td>\n",
       "    </tr>\n",
       "</table>"
      ],
      "text/plain": [
       "[('Ron', 'Harry', datetime.datetime(1989, 1, 1, 0, 0)),\n",
       " ('Hermonie', 'Harry', datetime.datetime(1993, 7, 1, 0, 0)),\n",
       " ('Ginny', 'Ron', datetime.datetime(1988, 8, 8, 0, 0)),\n",
       " ('Ginny', 'Harry', datetime.datetime(1988, 8, 8, 0, 0)),\n",
       " ('Draco', 'Tom', datetime.datetime(1986, 1, 10, 0, 0)),\n",
       " ('Luna', 'Harry', datetime.datetime(1990, 2, 2, 0, 0))]"
      ]
     },
     "execution_count": 6,
     "metadata": {},
     "output_type": "execute_result"
    }
   ],
   "source": [
    "%%sql\n",
    "SELECT \n",
    "    user_first, follows_first, date_created\n",
    "FROM\n",
    "    named_followers\n",
    "WHERE\n",
    "    date_created < timestamp '1993-09-01'"
   ]
  },
  {
   "cell_type": "markdown",
   "metadata": {},
   "source": [
    "5. Give a count of how many people followed each user as of 1999-12-31. Give the result in term of \"users full name, number of followers\"."
   ]
  },
  {
   "cell_type": "code",
   "execution_count": 7,
   "metadata": {},
   "outputs": [
    {
     "name": "stdout",
     "output_type": "stream",
     "text": [
      " * postgres://localhost/ex_social\n",
      "9 rows affected.\n"
     ]
    },
    {
     "data": {
      "text/html": [
       "<table>\n",
       "    <tr>\n",
       "        <th>first_name</th>\n",
       "        <th>last_name</th>\n",
       "        <th>followers</th>\n",
       "    </tr>\n",
       "    <tr>\n",
       "        <td>Ginny</td>\n",
       "        <td>Weasley</td>\n",
       "        <td>1</td>\n",
       "    </tr>\n",
       "    <tr>\n",
       "        <td>Tom</td>\n",
       "        <td>Riddle</td>\n",
       "        <td>1</td>\n",
       "    </tr>\n",
       "    <tr>\n",
       "        <td>Ron</td>\n",
       "        <td>Wesley</td>\n",
       "        <td>3</td>\n",
       "    </tr>\n",
       "    <tr>\n",
       "        <td>Cedric</td>\n",
       "        <td>Diggory</td>\n",
       "        <td>3</td>\n",
       "    </tr>\n",
       "    <tr>\n",
       "        <td>Hermonie</td>\n",
       "        <td>Granger</td>\n",
       "        <td>1</td>\n",
       "    </tr>\n",
       "    <tr>\n",
       "        <td>Draco</td>\n",
       "        <td>Malfoy</td>\n",
       "        <td>0</td>\n",
       "    </tr>\n",
       "    <tr>\n",
       "        <td>Luna</td>\n",
       "        <td>Lovegood</td>\n",
       "        <td>1</td>\n",
       "    </tr>\n",
       "    <tr>\n",
       "        <td>Harry</td>\n",
       "        <td>Potter</td>\n",
       "        <td>5</td>\n",
       "    </tr>\n",
       "    <tr>\n",
       "        <td>Cho</td>\n",
       "        <td>Chang</td>\n",
       "        <td>3</td>\n",
       "    </tr>\n",
       "</table>"
      ],
      "text/plain": [
       "[('Ginny', 'Weasley', 1),\n",
       " ('Tom', 'Riddle', 1),\n",
       " ('Ron', 'Wesley', 3),\n",
       " ('Cedric', 'Diggory', 3),\n",
       " ('Hermonie', 'Granger', 1),\n",
       " ('Draco', 'Malfoy', 0),\n",
       " ('Luna', 'Lovegood', 1),\n",
       " ('Harry', 'Potter', 5),\n",
       " ('Cho', 'Chang', 3)]"
      ]
     },
     "execution_count": 7,
     "metadata": {},
     "output_type": "execute_result"
    }
   ],
   "source": [
    "%%sql\n",
    "SELECT\n",
    "    u.first_name,\n",
    "    u.last_name,\n",
    "    count(f.follows) followers\n",
    "FROM\n",
    "        users u\n",
    "    LEFT JOIN\n",
    "        follows f\n",
    "    ON \n",
    "        u.user_id = f.follows\n",
    "    AND\n",
    "        date_created < timestamp '1999-12-31'\n",
    "GROUP BY \n",
    "    u.user_id, u.last_name, u.first_name\n",
    ";"
   ]
  },
  {
   "cell_type": "markdown",
   "metadata": {},
   "source": [
    "6. List the number of users each user follows"
   ]
  },
  {
   "cell_type": "code",
   "execution_count": 8,
   "metadata": {},
   "outputs": [
    {
     "name": "stdout",
     "output_type": "stream",
     "text": [
      " * postgres://localhost/ex_social\n",
      "9 rows affected.\n"
     ]
    },
    {
     "data": {
      "text/html": [
       "<table>\n",
       "    <tr>\n",
       "        <th>first_name</th>\n",
       "        <th>last_name</th>\n",
       "        <th>num_following</th>\n",
       "    </tr>\n",
       "    <tr>\n",
       "        <td>Draco</td>\n",
       "        <td>Malfoy</td>\n",
       "        <td>2</td>\n",
       "    </tr>\n",
       "    <tr>\n",
       "        <td>Harry</td>\n",
       "        <td>Potter</td>\n",
       "        <td>5</td>\n",
       "    </tr>\n",
       "    <tr>\n",
       "        <td>Hermonie</td>\n",
       "        <td>Granger</td>\n",
       "        <td>3</td>\n",
       "    </tr>\n",
       "    <tr>\n",
       "        <td>Ginny</td>\n",
       "        <td>Weasley</td>\n",
       "        <td>3</td>\n",
       "    </tr>\n",
       "    <tr>\n",
       "        <td>Ron</td>\n",
       "        <td>Wesley</td>\n",
       "        <td>2</td>\n",
       "    </tr>\n",
       "    <tr>\n",
       "        <td>Tom</td>\n",
       "        <td>Riddle</td>\n",
       "        <td>0</td>\n",
       "    </tr>\n",
       "    <tr>\n",
       "        <td>Luna</td>\n",
       "        <td>Lovegood</td>\n",
       "        <td>2</td>\n",
       "    </tr>\n",
       "    <tr>\n",
       "        <td>Cedric</td>\n",
       "        <td>Diggory</td>\n",
       "        <td>1</td>\n",
       "    </tr>\n",
       "    <tr>\n",
       "        <td>Cho</td>\n",
       "        <td>Chang</td>\n",
       "        <td>2</td>\n",
       "    </tr>\n",
       "</table>"
      ],
      "text/plain": [
       "[('Draco', 'Malfoy', 2),\n",
       " ('Harry', 'Potter', 5),\n",
       " ('Hermonie', 'Granger', 3),\n",
       " ('Ginny', 'Weasley', 3),\n",
       " ('Ron', 'Wesley', 2),\n",
       " ('Tom', 'Riddle', 0),\n",
       " ('Luna', 'Lovegood', 2),\n",
       " ('Cedric', 'Diggory', 1),\n",
       " ('Cho', 'Chang', 2)]"
      ]
     },
     "execution_count": 8,
     "metadata": {},
     "output_type": "execute_result"
    }
   ],
   "source": [
    "%%sql\n",
    "SELECT\n",
    "    u.first_name,\n",
    "    u.last_name,\n",
    "    count(f.user_id) num_following\n",
    "FROM\n",
    "        users u\n",
    "    LEFT JOIN\n",
    "        follows f\n",
    "    ON \n",
    "        u.user_id = f.user_id\n",
    "GROUP BY \n",
    "    f.user_id, u.last_name, u.first_name\n",
    ";"
   ]
  },
  {
   "cell_type": "markdown",
   "metadata": {},
   "source": [
    "7. List all rows from `follows` where someone from one house follows someone from a different house."
   ]
  },
  {
   "cell_type": "code",
   "execution_count": 9,
   "metadata": {},
   "outputs": [
    {
     "name": "stdout",
     "output_type": "stream",
     "text": [
      " * postgres://localhost/ex_social\n",
      "10 rows affected.\n"
     ]
    },
    {
     "data": {
      "text/html": [
       "<table>\n",
       "    <tr>\n",
       "        <th>user_first</th>\n",
       "        <th>user_last</th>\n",
       "        <th>user_house</th>\n",
       "        <th>follows_first</th>\n",
       "        <th>follows_last</th>\n",
       "        <th>follows_house</th>\n",
       "    </tr>\n",
       "    <tr>\n",
       "        <td>Harry</td>\n",
       "        <td>Potter</td>\n",
       "        <td>Gryffindor</td>\n",
       "        <td>Draco</td>\n",
       "        <td>Malfoy</td>\n",
       "        <td>Slytherin</td>\n",
       "    </tr>\n",
       "    <tr>\n",
       "        <td>Draco</td>\n",
       "        <td>Malfoy</td>\n",
       "        <td>Slytherin</td>\n",
       "        <td>Harry</td>\n",
       "        <td>Potter</td>\n",
       "        <td>Gryffindor</td>\n",
       "    </tr>\n",
       "    <tr>\n",
       "        <td>Luna</td>\n",
       "        <td>Lovegood</td>\n",
       "        <td>Ravenclaw</td>\n",
       "        <td>Harry</td>\n",
       "        <td>Potter</td>\n",
       "        <td>Gryffindor</td>\n",
       "    </tr>\n",
       "    <tr>\n",
       "        <td>Harry</td>\n",
       "        <td>Potter</td>\n",
       "        <td>Gryffindor</td>\n",
       "        <td>Luna</td>\n",
       "        <td>Lovegood</td>\n",
       "        <td>Ravenclaw</td>\n",
       "    </tr>\n",
       "    <tr>\n",
       "        <td>Harry</td>\n",
       "        <td>Potter</td>\n",
       "        <td>Gryffindor</td>\n",
       "        <td>Cho</td>\n",
       "        <td>Chang</td>\n",
       "        <td>Ravenclaw</td>\n",
       "    </tr>\n",
       "    <tr>\n",
       "        <td>Cho</td>\n",
       "        <td>Chang</td>\n",
       "        <td>Ravenclaw</td>\n",
       "        <td>Harry</td>\n",
       "        <td>Potter</td>\n",
       "        <td>Gryffindor</td>\n",
       "    </tr>\n",
       "    <tr>\n",
       "        <td>Cho</td>\n",
       "        <td>Chang</td>\n",
       "        <td>Ravenclaw</td>\n",
       "        <td>Cedric</td>\n",
       "        <td>Diggory</td>\n",
       "        <td>Hufflepuff</td>\n",
       "    </tr>\n",
       "    <tr>\n",
       "        <td>Cedric</td>\n",
       "        <td>Diggory</td>\n",
       "        <td>Hufflepuff</td>\n",
       "        <td>Cho</td>\n",
       "        <td>Chang</td>\n",
       "        <td>Ravenclaw</td>\n",
       "    </tr>\n",
       "    <tr>\n",
       "        <td>Hermonie</td>\n",
       "        <td>Granger</td>\n",
       "        <td>Gryffindor</td>\n",
       "        <td>Cedric</td>\n",
       "        <td>Diggory</td>\n",
       "        <td>Hufflepuff</td>\n",
       "    </tr>\n",
       "    <tr>\n",
       "        <td>Ginny</td>\n",
       "        <td>Weasley</td>\n",
       "        <td>Gryffindor</td>\n",
       "        <td>Cedric</td>\n",
       "        <td>Diggory</td>\n",
       "        <td>Hufflepuff</td>\n",
       "    </tr>\n",
       "</table>"
      ],
      "text/plain": [
       "[('Harry', 'Potter', 'Gryffindor', 'Draco', 'Malfoy', 'Slytherin'),\n",
       " ('Draco', 'Malfoy', 'Slytherin', 'Harry', 'Potter', 'Gryffindor'),\n",
       " ('Luna', 'Lovegood', 'Ravenclaw', 'Harry', 'Potter', 'Gryffindor'),\n",
       " ('Harry', 'Potter', 'Gryffindor', 'Luna', 'Lovegood', 'Ravenclaw'),\n",
       " ('Harry', 'Potter', 'Gryffindor', 'Cho', 'Chang', 'Ravenclaw'),\n",
       " ('Cho', 'Chang', 'Ravenclaw', 'Harry', 'Potter', 'Gryffindor'),\n",
       " ('Cho', 'Chang', 'Ravenclaw', 'Cedric', 'Diggory', 'Hufflepuff'),\n",
       " ('Cedric', 'Diggory', 'Hufflepuff', 'Cho', 'Chang', 'Ravenclaw'),\n",
       " ('Hermonie', 'Granger', 'Gryffindor', 'Cedric', 'Diggory', 'Hufflepuff'),\n",
       " ('Ginny', 'Weasley', 'Gryffindor', 'Cedric', 'Diggory', 'Hufflepuff')]"
      ]
     },
     "execution_count": 9,
     "metadata": {},
     "output_type": "execute_result"
    }
   ],
   "source": [
    "%%sql\n",
    "SELECT \n",
    "    user_first\n",
    "    ,user_last\n",
    "    ,user_house\n",
    "    ,follows_first\n",
    "    ,follows_last\n",
    "    ,follows_house\n",
    "FROM\n",
    "    named_followers\n",
    "WHERE\n",
    "    user_house != follows_house\n",
    "    "
   ]
  },
  {
   "cell_type": "markdown",
   "metadata": {},
   "source": [
    "8. We define a _friendship_ as a relationship between two users where both follow each other. The friendship is established when the _later_ of the two links is established. "
   ]
  },
  {
   "cell_type": "code",
   "execution_count": 10,
   "metadata": {},
   "outputs": [
    {
     "name": "stdout",
     "output_type": "stream",
     "text": [
      " * postgres://localhost/ex_social\n",
      "7 rows affected.\n"
     ]
    },
    {
     "data": {
      "text/html": [
       "<table>\n",
       "    <tr>\n",
       "        <th>user_id</th>\n",
       "        <th>follows</th>\n",
       "        <th>friendship_established</th>\n",
       "    </tr>\n",
       "    <tr>\n",
       "        <td>1</td>\n",
       "        <td>2</td>\n",
       "        <td>1993-09-01 00:00:00</td>\n",
       "    </tr>\n",
       "    <tr>\n",
       "        <td>1</td>\n",
       "        <td>4</td>\n",
       "        <td>1994-04-02 00:00:00</td>\n",
       "    </tr>\n",
       "    <tr>\n",
       "        <td>1</td>\n",
       "        <td>5</td>\n",
       "        <td>2000-01-02 00:00:00</td>\n",
       "    </tr>\n",
       "    <tr>\n",
       "        <td>1</td>\n",
       "        <td>7</td>\n",
       "        <td>1996-10-01 00:00:00</td>\n",
       "    </tr>\n",
       "    <tr>\n",
       "        <td>1</td>\n",
       "        <td>8</td>\n",
       "        <td>1995-09-01 00:00:00</td>\n",
       "    </tr>\n",
       "    <tr>\n",
       "        <td>2</td>\n",
       "        <td>3</td>\n",
       "        <td>1995-03-01 00:00:00</td>\n",
       "    </tr>\n",
       "    <tr>\n",
       "        <td>8</td>\n",
       "        <td>9</td>\n",
       "        <td>1996-01-10 00:00:00</td>\n",
       "    </tr>\n",
       "</table>"
      ],
      "text/plain": [
       "[(1, 2, datetime.datetime(1993, 9, 1, 0, 0)),\n",
       " (1, 4, datetime.datetime(1994, 4, 2, 0, 0)),\n",
       " (1, 5, datetime.datetime(2000, 1, 2, 0, 0)),\n",
       " (1, 7, datetime.datetime(1996, 10, 1, 0, 0)),\n",
       " (1, 8, datetime.datetime(1995, 9, 1, 0, 0)),\n",
       " (2, 3, datetime.datetime(1995, 3, 1, 0, 0)),\n",
       " (8, 9, datetime.datetime(1996, 1, 10, 0, 0))]"
      ]
     },
     "execution_count": 10,
     "metadata": {},
     "output_type": "execute_result"
    }
   ],
   "source": [
    "%%sql\n",
    "SELECT\n",
    "    ff.user_id\n",
    "    , ff.follows\n",
    "    , greatest(fb.date_created, ff.date_created) \n",
    "        as friendship_established\n",
    "FROM\n",
    "    follows ff\n",
    "    JOIN\n",
    "    follows fb\n",
    "    ON \n",
    "        ff.user_id = fb.follows\n",
    "        AND\n",
    "        fb.user_id = ff.follows\n",
    "        AND\n",
    "        ff.user_id < fb.user_id /* so we don't get any link twice */\n",
    ";"
   ]
  },
  {
   "cell_type": "code",
   "execution_count": 11,
   "metadata": {},
   "outputs": [
    {
     "name": "stdout",
     "output_type": "stream",
     "text": [
      " * postgres://localhost/ex_social\n",
      "7 rows affected.\n"
     ]
    },
    {
     "data": {
      "text/html": [
       "<table>\n",
       "    <tr>\n",
       "        <th>user_first</th>\n",
       "        <th>user_last</th>\n",
       "        <th>follows_first</th>\n",
       "        <th>follows_last</th>\n",
       "        <th>friendship_established</th>\n",
       "    </tr>\n",
       "    <tr>\n",
       "        <td>Harry</td>\n",
       "        <td>Potter</td>\n",
       "        <td>Ron</td>\n",
       "        <td>Wesley</td>\n",
       "        <td>1993-09-01 00:00:00</td>\n",
       "    </tr>\n",
       "    <tr>\n",
       "        <td>Ron</td>\n",
       "        <td>Wesley</td>\n",
       "        <td>Hermonie</td>\n",
       "        <td>Granger</td>\n",
       "        <td>1995-03-01 00:00:00</td>\n",
       "    </tr>\n",
       "    <tr>\n",
       "        <td>Harry</td>\n",
       "        <td>Potter</td>\n",
       "        <td>Ginny</td>\n",
       "        <td>Weasley</td>\n",
       "        <td>1994-04-02 00:00:00</td>\n",
       "    </tr>\n",
       "    <tr>\n",
       "        <td>Harry</td>\n",
       "        <td>Potter</td>\n",
       "        <td>Draco</td>\n",
       "        <td>Malfoy</td>\n",
       "        <td>2000-01-02 00:00:00</td>\n",
       "    </tr>\n",
       "    <tr>\n",
       "        <td>Harry</td>\n",
       "        <td>Potter</td>\n",
       "        <td>Luna</td>\n",
       "        <td>Lovegood</td>\n",
       "        <td>1996-10-01 00:00:00</td>\n",
       "    </tr>\n",
       "    <tr>\n",
       "        <td>Harry</td>\n",
       "        <td>Potter</td>\n",
       "        <td>Cho</td>\n",
       "        <td>Chang</td>\n",
       "        <td>1995-09-01 00:00:00</td>\n",
       "    </tr>\n",
       "    <tr>\n",
       "        <td>Cho</td>\n",
       "        <td>Chang</td>\n",
       "        <td>Cedric</td>\n",
       "        <td>Diggory</td>\n",
       "        <td>1996-01-10 00:00:00</td>\n",
       "    </tr>\n",
       "</table>"
      ],
      "text/plain": [
       "[('Harry', 'Potter', 'Ron', 'Wesley', datetime.datetime(1993, 9, 1, 0, 0)),\n",
       " ('Ron', 'Wesley', 'Hermonie', 'Granger', datetime.datetime(1995, 3, 1, 0, 0)),\n",
       " ('Harry', 'Potter', 'Ginny', 'Weasley', datetime.datetime(1994, 4, 2, 0, 0)),\n",
       " ('Harry', 'Potter', 'Draco', 'Malfoy', datetime.datetime(2000, 1, 2, 0, 0)),\n",
       " ('Harry', 'Potter', 'Luna', 'Lovegood', datetime.datetime(1996, 10, 1, 0, 0)),\n",
       " ('Harry', 'Potter', 'Cho', 'Chang', datetime.datetime(1995, 9, 1, 0, 0)),\n",
       " ('Cho', 'Chang', 'Cedric', 'Diggory', datetime.datetime(1996, 1, 10, 0, 0))]"
      ]
     },
     "execution_count": 11,
     "metadata": {},
     "output_type": "execute_result"
    }
   ],
   "source": [
    "%%sql\n",
    "SELECT\n",
    "    ff.user_first\n",
    "    , ff.user_last\n",
    "    , ff.follows_first\n",
    "    , ff.follows_last\n",
    "    , greatest(fb.date_created, ff.date_created) \n",
    "        as friendship_established\n",
    "FROM\n",
    "    named_followers ff\n",
    "    JOIN\n",
    "    named_followers fb\n",
    "    ON \n",
    "        ff.user_id = fb.follows\n",
    "        AND\n",
    "        fb.user_id = ff.follows\n",
    "        AND\n",
    "        ff.user_id < fb.user_id\n",
    ";"
   ]
  },
  {
   "cell_type": "markdown",
   "metadata": {},
   "source": [
    "9. List all unrequited followings (i.e. where A follows B but B does not follow A)"
   ]
  },
  {
   "cell_type": "code",
   "execution_count": 12,
   "metadata": {},
   "outputs": [
    {
     "name": "stdout",
     "output_type": "stream",
     "text": [
      " * postgres://localhost/ex_social\n",
      "6 rows affected.\n"
     ]
    },
    {
     "data": {
      "text/html": [
       "<table>\n",
       "    <tr>\n",
       "        <th>user_id</th>\n",
       "        <th>follows</th>\n",
       "    </tr>\n",
       "    <tr>\n",
       "        <td>3</td>\n",
       "        <td>1</td>\n",
       "    </tr>\n",
       "    <tr>\n",
       "        <td>4</td>\n",
       "        <td>2</td>\n",
       "    </tr>\n",
       "    <tr>\n",
       "        <td>5</td>\n",
       "        <td>6</td>\n",
       "    </tr>\n",
       "    <tr>\n",
       "        <td>7</td>\n",
       "        <td>8</td>\n",
       "    </tr>\n",
       "    <tr>\n",
       "        <td>3</td>\n",
       "        <td>9</td>\n",
       "    </tr>\n",
       "    <tr>\n",
       "        <td>4</td>\n",
       "        <td>9</td>\n",
       "    </tr>\n",
       "</table>"
      ],
      "text/plain": [
       "[(3, 1), (4, 2), (5, 6), (7, 8), (3, 9), (4, 9)]"
      ]
     },
     "execution_count": 12,
     "metadata": {},
     "output_type": "execute_result"
    }
   ],
   "source": [
    "%%sql\n",
    "SELECT\n",
    "    f.user_id, f.follows\n",
    "FROM\n",
    "        follows f\n",
    "    LEFT JOIN\n",
    "        follows fb\n",
    "    ON \n",
    "            f.follows = fb.user_id\n",
    "        AND\n",
    "            fb.follows = f.user_id\n",
    "WHERE\n",
    "    fb.follows IS NULL\n",
    ";"
   ]
  },
  {
   "cell_type": "code",
   "execution_count": 13,
   "metadata": {},
   "outputs": [
    {
     "name": "stdout",
     "output_type": "stream",
     "text": [
      " * postgres://localhost/ex_social\n",
      "6 rows affected.\n"
     ]
    },
    {
     "data": {
      "text/html": [
       "<table>\n",
       "    <tr>\n",
       "        <th>user_first</th>\n",
       "        <th>user_last</th>\n",
       "        <th>follows_first</th>\n",
       "        <th>follows_last</th>\n",
       "    </tr>\n",
       "    <tr>\n",
       "        <td>Hermonie</td>\n",
       "        <td>Granger</td>\n",
       "        <td>Harry</td>\n",
       "        <td>Potter</td>\n",
       "    </tr>\n",
       "    <tr>\n",
       "        <td>Ginny</td>\n",
       "        <td>Weasley</td>\n",
       "        <td>Ron</td>\n",
       "        <td>Wesley</td>\n",
       "    </tr>\n",
       "    <tr>\n",
       "        <td>Draco</td>\n",
       "        <td>Malfoy</td>\n",
       "        <td>Tom</td>\n",
       "        <td>Riddle</td>\n",
       "    </tr>\n",
       "    <tr>\n",
       "        <td>Luna</td>\n",
       "        <td>Lovegood</td>\n",
       "        <td>Cho</td>\n",
       "        <td>Chang</td>\n",
       "    </tr>\n",
       "    <tr>\n",
       "        <td>Hermonie</td>\n",
       "        <td>Granger</td>\n",
       "        <td>Cedric</td>\n",
       "        <td>Diggory</td>\n",
       "    </tr>\n",
       "    <tr>\n",
       "        <td>Ginny</td>\n",
       "        <td>Weasley</td>\n",
       "        <td>Cedric</td>\n",
       "        <td>Diggory</td>\n",
       "    </tr>\n",
       "</table>"
      ],
      "text/plain": [
       "[('Hermonie', 'Granger', 'Harry', 'Potter'),\n",
       " ('Ginny', 'Weasley', 'Ron', 'Wesley'),\n",
       " ('Draco', 'Malfoy', 'Tom', 'Riddle'),\n",
       " ('Luna', 'Lovegood', 'Cho', 'Chang'),\n",
       " ('Hermonie', 'Granger', 'Cedric', 'Diggory'),\n",
       " ('Ginny', 'Weasley', 'Cedric', 'Diggory')]"
      ]
     },
     "execution_count": 13,
     "metadata": {},
     "output_type": "execute_result"
    }
   ],
   "source": [
    "%%sql\n",
    "SELECT\n",
    "    f.user_first\n",
    "    , f.user_last\n",
    "    , f.follows_first\n",
    "    , f.follows_last\n",
    "FROM\n",
    "        named_followers f\n",
    "    LEFT JOIN\n",
    "        named_followers fb\n",
    "    ON \n",
    "            f.follows = fb.user_id\n",
    "        AND\n",
    "            fb.follows = f.user_id\n",
    "WHERE\n",
    "    fb.follows IS NULL\n",
    ";"
   ]
  },
  {
   "cell_type": "code",
   "execution_count": null,
   "metadata": {},
   "outputs": [],
   "source": []
  }
 ],
 "metadata": {
  "kernelspec": {
   "display_name": "Python 3",
   "language": "python",
   "name": "python3"
  },
  "language_info": {
   "codemirror_mode": {
    "name": "ipython",
    "version": 3
   },
   "file_extension": ".py",
   "mimetype": "text/x-python",
   "name": "python",
   "nbconvert_exporter": "python",
   "pygments_lexer": "ipython3",
   "version": "3.6.8"
  }
 },
 "nbformat": 4,
 "nbformat_minor": 2
}
